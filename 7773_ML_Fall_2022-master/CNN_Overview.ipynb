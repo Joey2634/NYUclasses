{
 "cells": [
  {
   "cell_type": "code",
   "execution_count": 1,
   "metadata": {
    "slideshow": {
     "slide_type": "notes"
    }
   },
   "outputs": [
    {
     "data": {
      "text/latex": [
       "$$\n",
       "\\newcommand{\\x}{\\mathbf{x}}\n",
       "\\newcommand{\\tx}{\\tilde{\\x}}\n",
       "\\newcommand{\\y}{\\mathbf{y}}\n",
       "\\newcommand{\\b}{\\mathbf{b}}\n",
       "\\newcommand{\\c}{\\mathbf{c}}\n",
       "\\newcommand{\\e}{\\mathbf{e}}\n",
       "\\newcommand{\\z}{\\mathbf{z}}\n",
       "\\newcommand{\\h}{\\mathbf{h}}\n",
       "\\newcommand{\\u}{\\mathbf{u}}\n",
       "\\newcommand{\\v}{\\mathbf{v}}\n",
       "\\newcommand{\\w}{\\mathbf{w}}\n",
       "\\newcommand{\\W}{\\mathbf{W}}\n",
       "\\newcommand{\\X}{\\mathbf{X}}\n",
       "\\newcommand{\\KL}{\\mathbf{KL}}\n",
       "\\newcommand{\\E}{{\\mathbb{E}}}\n",
       "\\newcommand{\\ip}{\\mathbf{{(i)}}}\n",
       "%\n",
       "% Test set\n",
       "\\newcommand{\\xt}{\\underline{\\x}}\n",
       "\\newcommand{\\yt}{\\underline{\\y}}\n",
       "\\newcommand{\\Xt}{\\underline{\\X}}\n",
       "\\newcommand{\\perfm}{\\mathcal{P}}\n",
       "%\n",
       "% \\ll indexes a layer; we can change the actual letter\n",
       "\\newcommand{\\ll}{l}\n",
       "\\newcommand{\\llp}{{(\\ll)}}\n",
       "%\n",
       "\\newcommand{Thetam}{\\Theta_{-0}}\n",
       "\n",
       "% CNN\n",
       "\\newcommand{\\kernel}{\\mathbf{k}} \n",
       "\\newcommand{\\dim}{d}\n",
       "\\newcommand{\\idxspatial}{{\\text{idx}}}\n",
       "\\newcommand{\\summaxact}{\\text{max}}\n",
       "%\n",
       "%\n",
       "\n",
       "% RNN\n",
       "% \\tt indexes a time step\n",
       "\\newcommand{\\tt}{t}\n",
       "\\newcommand{\\tp}{{(\\tt)}}\n",
       "%\n",
       "%\n",
       "\n",
       "% LSTM\n",
       "\\newcommand{\\g}{\\mathbf{g}}\n",
       "\\newcommand{\\remember}{\\mathbf{remember}}\n",
       "\\newcommand{\\save}{\\mathbf{save}}\n",
       "\\newcommand{\\focus}{\\mathbf{focus}}\n",
       "%\n",
       "%\n",
       "% NLP\n",
       "\\newcommand{\\Vocab}{\\mathbf{V}}\n",
       "\\newcommand{\\v}{\\mathbf{v}}\n",
       "\\newcommand{\\offset}{o}\n",
       "\\newcommand{\\o}{o}\n",
       "\\newcommand{\\E}{\\mathbf{E}}\n",
       "%\n",
       "%\n",
       "\\newcommand{\\loss}{\\mathcal{L}}\n",
       "\\newcommand{\\cost}{\\mathcal{L}}\n",
       "%\n",
       "%                     \n",
       "\\newcommand{\\pdata}{p_\\text{data}}\n",
       "\\newcommand{\\pmodel}{p_\\text{model}}\n",
       "%\n",
       "% SVM\n",
       "\\newcommand{\\margin}{{\\mathbb{m}}}\n",
       "\\newcommand{\\lmk}{\\boldsymbol{\\ell}}\n",
       "%\n",
       "% Functions with arguments\n",
       "\\def\\xsy#1#2{#1^#2}\n",
       "\\def\\rand#1{\\tilde{#1}}\n",
       "\\def\\randx{\\rand{\\x}}\n",
       "\\def\\randy{\\rand{\\y}}\n",
       "\\def\\trans#1{\\dot{#1}}\n",
       "\\def\\transx{\\trans{\\x}}\n",
       "\\def\\transy{\\trans{\\y}}\n",
       "%\n",
       "\\def\\argmax#1{\\underset{#1} {\\operatorname{argmax}} }\n",
       "\\def\\argmin#1{\\underset{#1} {\\operatorname{argmin}} }\n",
       "\\def\\max#1{\\underset{#1} {\\operatorname{max}} }\n",
       "\\def\\min#1{\\underset{#1} {\\operatorname{min}} }\n",
       "%\n",
       "\\def\\pr#1{\\mathcal{p}(#1)}\n",
       "\\def\\prc#1#2{\\mathcal{p}(#1 \\; | \\; #2)}\n",
       "\\def\\cnt#1{\\mathcal{count}_{#1}}\n",
       "\\def\\node#1{\\mathbb{#1}}\n",
       "%\n",
       "\\newcommand{\\floor}[1]{\\left\\lfloor #1 \\right\\rfloor}\n",
       "\\newcommand{\\ceil}[1]{\\left\\lceil #1 \\right\\rceil}\n",
       "%\n",
       "\\def\\loc#1{{\\text{##} {#1}}}\n",
       "%\n",
       "$$\n"
      ],
      "text/plain": [
       "<IPython.core.display.Latex object>"
      ]
     },
     "metadata": {},
     "output_type": "display_data"
    }
   ],
   "source": [
    "%run Latex_macros.ipynb"
   ]
  },
  {
   "cell_type": "code",
   "execution_count": 2,
   "metadata": {
    "slideshow": {
     "slide_type": "notes"
    }
   },
   "outputs": [],
   "source": [
    "%run beautify_plots.py"
   ]
  },
  {
   "cell_type": "code",
   "execution_count": 3,
   "metadata": {
    "slideshow": {
     "slide_type": "notes"
    }
   },
   "outputs": [],
   "source": [
    "# My standard magic !  You will see this in almost all my notebooks.\n",
    "\n",
    "from IPython.core.interactiveshell import InteractiveShell\n",
    "InteractiveShell.ast_node_interactivity = \"all\"\n",
    "\n",
    "# Reload all modules imported with %aimport\n",
    "%load_ext autoreload\n",
    "%autoreload 1\n",
    "\n",
    "%matplotlib inline"
   ]
  },
  {
   "cell_type": "code",
   "execution_count": 4,
   "metadata": {
    "slideshow": {
     "slide_type": "notes"
    }
   },
   "outputs": [],
   "source": [
    "import pandas as pd\n",
    "import numpy as plt\n",
    "\n",
    "import matplotlib.pyplot as plt\n",
    "\n",
    "import os \n"
   ]
  },
  {
   "cell_type": "markdown",
   "metadata": {
    "slideshow": {
     "slide_type": "slide"
    }
   },
   "source": [
    "# Convolutional Neural Networks: the spatial dimensions\n",
    "\n",
    "Our treatment, thus far, of Neural Networks has been rather limited.  An example has consisted of\n",
    "- Multiple features\n",
    "- At a single spatial location\n",
    "- Represented as a vector of shape $(1 \\times n_\\llp)$\n",
    "    - But we often ignored the singleton dimension\n",
    "\n",
    "But the natural world's spatial dimensions are much higher than 1 !\n",
    "- $N > 1$ dimensions\n",
    "- Our examples become $(N +1)$ dimensional\n",
    "- Represented as a vector of shape $(\\dim_{\\llp,1} \\times \\dim_{\\llp,2} \\times \\ldots \\dim_{\\llp,N} \\,\\, \\times n_\\llp )$\n"
   ]
  },
  {
   "cell_type": "markdown",
   "metadata": {
    "slideshow": {
     "slide_type": "subslide"
    }
   },
   "source": [
    "When $N = 1$ and $\\dim_1 =1$\n",
    "- we have our case of $n_\\llp$ features at a single location\n",
    "\n",
    "We have shown that permuting the order of features has no effect on a Dense layer\n",
    "- There is no ordering relationship among features\n",
    "\n",
    "But when $\\dim_1 > 1$, there is a *spatial ordering*.  For example\n",
    "- a 2D image\n",
    "- time ordered data"
   ]
  },
  {
   "cell_type": "markdown",
   "metadata": {
    "slideshow": {
     "slide_type": "subslide"
    }
   },
   "source": [
    "We need some terminology to distinguish the final dimension from the non-final dimensions\n",
    "\n",
    "Suppose $\\y_\\llp$ is $(N_\\llp+1)$ dimensional of shape \n",
    "$$\n",
    "|| \\y_{\\llp} || = (\\dim_{\\llp,1} \\times \\dim_{\\llp,2} \\times \\ldots \\dim_{\\llp,N_\\llp} \\,\\, \\times n_{\\llp} )\n",
    "$$\n",
    "\n",
    "(Thus far: $N_\\llp = 1$ and $n_{\\llp} = 1$ but that will soon change)"
   ]
  },
  {
   "cell_type": "markdown",
   "metadata": {
    "slideshow": {
     "slide_type": "subslide"
    }
   },
   "source": [
    "The first $N_\\llp$ dimensions $(\\dim_{\\llp,1} \\times \\dim_{\\llp,2} \\times \\ldots \\dim_{\\llp,N} )$\n",
    "- Are called the *spatial* dimensions of layer $\\ll$\n",
    "\n",
    "The last dimension (of size $ n_{\\llp}$)\n",
    "- Indexes the  features i.e., varies over the number of features\n",
    "- Called the *feature* or *channel* dimension\n"
   ]
  },
  {
   "cell_type": "markdown",
   "metadata": {
    "slideshow": {
     "slide_type": "subslide"
    }
   },
   "source": [
    "**Notation**\n",
    "\n",
    "- $N_\\llp$ denotes the *number* of spatial dimensions of layer $\\ll$\n",
    "- $n_\\llp$ denotes the *number of features* in layer $\\ll$\n",
    "- We elide the spatial dimensions as necessary, writing \n",
    "$$\\y_{\\llp, \\ldots, j}\n",
    "$$\n",
    "to denote *feature map* $j$ of layer $\\ll$\n",
    "    - where the dots ($\\ldots$) indicate the $N_\\llp$ spatial dimensions\n",
    "    - e.g., the feature map detecting a \"smile\" in the image of a face"
   ]
  },
  {
   "cell_type": "markdown",
   "metadata": {
    "slideshow": {
     "slide_type": "subslide"
    }
   },
   "source": [
    "For example\n",
    "- A grey-scale image\n",
    "    - $N = 2, n_\\llp = 1$\n",
    "    - Each pixel in the image has one feature\n",
    "        - the grey-scale intensity \n",
    "    - There is an ordering relationship between 2 pixels\n",
    "        - \"left/right\", \"above/below\"\n",
    "- A color image\n",
    "    - $N = 2, n_\\llp = 3$ \n",
    "    - Each pixel in the image has 3 features/attributes\n",
    "        - the intensity of each of the colors"
   ]
  },
  {
   "cell_type": "markdown",
   "metadata": {
    "slideshow": {
     "slide_type": "subslide"
    }
   },
   "source": [
    "One can imagine even higher dimensional data ($N > 2$)\n",
    "- Equity data with \"spatial location\" identified by (Month, Day, Time)\n",
    "    - With attributes: $\\{ $ Open, High, Low, Close $\\}$\n",
    "    - Month/Day/Time are ordered"
   ]
  },
  {
   "cell_type": "markdown",
   "metadata": {
    "slideshow": {
     "slide_type": "subslide"
    }
   },
   "source": [
    "Note the distinction between the cases\n",
    "- When layer $\\ll$ has dimension $(\\dim_\\llp \\times 1)$\n",
    "    - a single feature\n",
    "    - at $\\dim_\\llp = \\dim_{(\\ll-1)}$  *spatial* locations\n",
    "- When layer $\\ll$ has dimension $(1 \\times \\dim_\\llp)$\n",
    "    - (which is how we have implicitly been considering vectors when discussing the Dense layer type)\n",
    "    - $\\dim_\\llp = \\dim_{(\\ll-1)}$ features\n",
    "    - at a single spatial location\n",
    "\n",
    "$n_\\llp$ will always refer to the *number of features* of a layer $\\ll$"
   ]
  },
  {
   "cell_type": "markdown",
   "metadata": {
    "slideshow": {
     "slide_type": "subslide"
    }
   },
   "source": [
    "Here is a [picture](CNN_pictorial.ipynb#Conv-1D:-single-feature) of a Convolutional layer $\\ll$\n",
    "transforming \n",
    "- a  1-dimensional input layer $(\\ll-1)$  consisting of a single feature \n",
    "    - $N_{(\\ll-1)} = 1, n_{(\\ll-1)} =1$\n",
    "- into a 1-dimensional output layer $\\ll$  consisting of a single feature \n",
    "    - $N_\\llp = 1, n_\\llp =1$"
   ]
  },
  {
   "cell_type": "markdown",
   "metadata": {
    "slideshow": {
     "slide_type": "subslide"
    }
   },
   "source": [
    "We will generalize Convolution to deal with\n",
    "- $N_\\llp > 1$ spatial dimensions\n",
    "- $n_\\llp > 1$ features\n",
    "\n",
    "As a preview of concepts to be introduced, consider\n",
    "- the input layer $(l-1)$ is a two-dimensional ($N_{(\\ll-1)} = 2$) grid of pixels\n",
    "- $n_{(\\ll-1)} = 1$\n",
    "- layer $l$ is a Convolutional Layer identifying $n_\\llp = 3$ features"
   ]
  },
  {
   "cell_type": "markdown",
   "metadata": {
    "slideshow": {
     "slide_type": "subslide"
    }
   },
   "source": [
    "<table>\n",
    "    <tr>\n",
    "        <th><center>Convolution: 1 input feature to 3 output features</center></th>\n",
    "    </tr>\n",
    "    <tr>\n",
    "        <td><img src=\"images/Conv2d_multifeature_shape.png\" width=80%></td>\n",
    "    </tr>\n",
    "</table>"
   ]
  },
  {
   "cell_type": "markdown",
   "metadata": {
    "slideshow": {
     "slide_type": "subslide"
    }
   },
   "source": [
    "Layer $(l-1)$ is three-dimensional tensor: $8 \\times 8 \\times 1$\n",
    "- Spatial dimension $8 \\times 8$\n",
    "- 1 feature map (channel dimension $= 1$)"
   ]
  },
  {
   "cell_type": "markdown",
   "metadata": {
    "slideshow": {
     "slide_type": "subslide"
    }
   },
   "source": [
    "- Kernel $k_{\\llp,j}$ is applied to each spatial location of layer $(\\ll-1)$\n",
    "- Detecting the presence of the pattern (defined by the kernel) at that location\n",
    "    - kernel $k_{\\llp,1}$ detects an eye\n",
    "- Which results in feature map $\\y_{\\llp},\\dots,j$ being created at layer $\\ll$\n",
    "    - $\\y_{\\llp,\\dots,1}$ are indicators of the presence of an \"eye\" feature"
   ]
  },
  {
   "cell_type": "markdown",
   "metadata": {
    "slideshow": {
     "slide_type": "subslide"
    }
   },
   "source": [
    "**Convolutional Layer description**\n",
    "\n",
    "With this terminology we can say that Convolutional Layer $\\ll$:\n",
    "- Transforms the $n_{(\\ll-1)}$ feature maps of layer $(\\ll-1)$\n",
    "- Into $n_\\llp$ feature maps of layer $\\ll$\n",
    "- Preserving the spatial dimensions: $\\dim_{\\llp,p} = \\dim_{(\\ll-1),p} \\; 1 \\le p \\le N_{(\\ll-1)}$\n",
    "- Uses a different kernel $\\kernel_{\\llp,j}$ for each output feature/channel $1 \\le j \\le n_\\llp$\n",
    "- Applies this kernel to *each* element in the *spatial* dimensions\n",
    "- Recognizing a single feature at each location within the spatial dimension\n"
   ]
  },
  {
   "cell_type": "markdown",
   "metadata": {
    "slideshow": {
     "slide_type": "subslide"
    }
   },
   "source": [
    "## Channel Last/First\n",
    "\n",
    "We have adopted the convention of using the final dimension as the feature dimension.\n",
    "- This is called *channel last* notation.\n",
    "\n",
    "Alternatively: one could adopt a convention of the first channel being the feature dimension.\n",
    "- This is called *channel first* notation.\n",
    "\n",
    "When using a programming API: make sure you know which notation is the default\n",
    "- Channel last is the default for TensorFlow, but other toolkits may use channel first.\n"
   ]
  },
  {
   "cell_type": "markdown",
   "metadata": {
    "slideshow": {
     "slide_type": "subslide"
    }
   },
   "source": [
    "# Conv1d transforming single feature to multiple features\n",
    "\n",
    "Here is a [picture](CNN_pictorial.ipynb#Conv-1D:-single-feature-to-multiple-features) of a Convolutional layer $\\ll$\n",
    "transforming \n",
    "- a  1-dimensional input layer $(\\ll-1)$  consisting of a single feature \n",
    "    - $N_{(\\ll-1)} = 1, n_{(\\ll-1)} =1$\n",
    "- into a 1-dimensional output layer $\\ll$  consisting of a *multiple* features \n",
    "    - $N_\\llp = 1, n_\\llp  > 1$\n",
    "    \n"
   ]
  },
  {
   "cell_type": "markdown",
   "metadata": {
    "slideshow": {
     "slide_type": "subslide"
    }
   },
   "source": [
    "# Conv1d transforming multiple features to multiple features\n",
    "\n",
    "What happens when the input layer has multiple features ?\n",
    "- e.g., applying Convolutional layer $(\\ll+1)$ to the $n_\\llp$ features created by Convolutional layer $\\ll$\n",
    "\n",
    "The answer is \n",
    "- The kernels of layer $\\ll$ also have a *feature* dimension\n",
    "    - Kernel dimensions are $(f_\\llp \\times f_\\llp \\times n_{(\\ll-1)})$\n",
    "- This kernel is applied\n",
    "    - at each spatial location\n",
    "    - to *all features* of layer $(\\ll-1)$\n",
    "    - Computing a generalized \"dot product\": sum of element-wise products\n",
    "\n"
   ]
  },
  {
   "cell_type": "markdown",
   "metadata": {
    "slideshow": {
     "slide_type": "subslide"
    }
   },
   "source": [
    "<div>\n",
    "    <br>\n",
    "    <center><strong>Conv 1D: 2 input features: kernel 1</strong></center>\n",
    "    <br>\n",
    "<img src=images/Conv1d_2feature_kernel.png width=\"35%\">\n",
    "    <!-- edX: obsolete:: <img src=\"images/W9_L2_S23_Conv1d_2feature_kernel.png \"> replace by EdX created image --> \n",
    "    <br>\n",
    "    </div>\n",
    "\n",
    "- $\\mathbf{W}_{\\llp, j', \\ldots,j}$\n",
    "    - layer $\\ll$\n",
    "    - output feature $j$\n",
    "    - spatial location: $\\ldots \\in \\{1,2,3\\}$\n",
    "    - input feature $j'$"
   ]
  },
  {
   "cell_type": "markdown",
   "metadata": {
    "slideshow": {
     "slide_type": "subslide"
    }
   },
   "source": [
    "Notice that (apart from combining spatial locations)\n",
    "- multiple feature maps from layer $(\\ll-1)$ are combined into one feature map at layer $\\ll$.\n",
    "- This is how the \"left\" half-smile and \"right\" half-smile features combine into the single \"smile\" feature"
   ]
  },
  {
   "cell_type": "markdown",
   "metadata": {
    "slideshow": {
     "slide_type": "subslide"
    }
   },
   "source": [
    "Here is a [picture](CNN_pictorial.ipynb#Conv-1D:-Multiple-features-to-multiple-features) of a Convolutional layer $\\ll$\n",
    "transforming \n",
    "- a  1-dimensional input layer $(\\ll-1)$  consisting of a 2 features \n",
    "    - $N_{(\\ll-1)} = 1, n_{(\\ll-1)} = 2$\n",
    "- into a 1-dimensional output layer $\\ll$  consisting of a *multiple* features \n",
    "    - $N_\\llp = 1, n_\\llp  = 3$\n"
   ]
  },
  {
   "cell_type": "markdown",
   "metadata": {
    "slideshow": {
     "slide_type": "subslide"
    }
   },
   "source": [
    "With an input layer having $N$ spatial dimensions, a Convolutional Layer $\\ll$ producing $n_\\llp$ features\n",
    "- Preserves the \"spatial\" dimensions of the input\n",
    "- Replaces the channel/feature dimensions\n",
    "\n",
    "That is\\\n",
    "$$\n",
    "\\begin{array}\\\\\n",
    "|| \\y_{(\\ll-1)} || & = & (n_{(\\ll-1),1} \\times n_{(\\ll-1),2} \\times \\ldots n_{(\\ll-1),N }, & \\mathbf{n_{(\\ll-1)}} ) \\\\\n",
    "|| \\y_\\llp || &  = & (n_{(\\ll-1),1} \\times n_{(\\ll-1),2} \\times \\ldots n_{(\\ll-1),N},  &\\mathbf{n_\\llp} )\n",
    "\\end{array}\n",
    "$$\n",
    "\n",
    "\n"
   ]
  },
  {
   "cell_type": "markdown",
   "metadata": {
    "slideshow": {
     "slide_type": "slide"
    }
   },
   "source": [
    "# Conv2d: Two dimensional convolution ($N = 2$)\n",
    "\n",
    "Thus far, the spatial dimension has been of length $N = 1$.\n",
    "\n",
    "Generalizing  to $N = 2$ is straightforward.\n",
    "- The number of spatial dimensions (elements denoted by $\\ldots$) expands from $1$ to $2$"
   ]
  },
  {
   "cell_type": "markdown",
   "metadata": {
    "slideshow": {
     "slide_type": "subslide"
    }
   },
   "source": [
    "<div>\n",
    "    <br>\n",
    "    <center><strong>Conv 2D: single input feature: kernel 1</strong></center>\n",
    "    <br>\n",
    "<img src=images/Conv2d_singlefeature_input_kernel.png width=\"35%\">\n",
    "    <!-- edX: obsolete: W9_L2_S37_Conv2d_singlefeature_input_kernel.png EdX created image --> \n",
    "    <br>\n",
    "    </div>\n",
    "    \n",
    "- $\\mathbf{W}_{\\llp, j', \\ldots,j}$\n",
    "    - layer $\\ll$\n",
    "    - output feature $j$\n",
    "    - spatial location: $\\ldots \\in \\{ ( \\alpha, \\alpha' ) \\in (\\dim_{(\\ll-1),1} \\times \\dim_{(\\ll-1),2} \\}$\n",
    "    - input feature $j'$    "
   ]
  },
  {
   "cell_type": "markdown",
   "metadata": {
    "slideshow": {
     "slide_type": "subslide"
    }
   },
   "source": [
    "Here is a [picture](CNN_pictorial.ipynb#Conv-2D:-single-feature-to-single-feature) of a Convolutional layer $\\ll$\n",
    "transforming \n",
    "- a  2-dimensional input layer $(\\ll-1)$  consisting of a 1 feature \n",
    "    - $N_{(\\ll-1)} = 2, n_{(\\ll-1)} = 1$\n",
    "- into a 2-dimensional output layer $\\ll$  consisting of 1 feature\n",
    "    - $N_\\llp = 1, n_\\llp  = 1$\n",
    "\n"
   ]
  },
  {
   "cell_type": "markdown",
   "metadata": {
    "slideshow": {
     "slide_type": "subslide"
    }
   },
   "source": [
    "We can further generalize to producing multiple output features\n",
    "\n",
    "Here is a [picture](CNN_pictorial.ipynb#Conv-2D:-single-feature-to-multiple-features) of a Convolutional layer $\\ll$\n",
    "transforming \n",
    "- a  2-dimensional input layer $(\\ll-1)$  consisting of a 1 feature \n",
    "    - $N_{(\\ll-1)} = 2, n_{(\\ll-1)} = 1$\n",
    "- into a 2-dimensional output layer $\\ll$  consisting of 2 feature\n",
    "    - $N_\\llp = 1, n_\\llp  = 2$\n"
   ]
  },
  {
   "cell_type": "markdown",
   "metadata": {
    "slideshow": {
     "slide_type": "subslide"
    }
   },
   "source": [
    "Dealing with multiple input features works similarly as for $N=1$:\n",
    "- The dot product\n",
    "- Is over a spatial region that now has a \"depth\" $n_{(\\ll-1)}$ equal to the number of input features\n",
    "- Which means the kernel has a depth $n_{(\\ll-1)}$"
   ]
  },
  {
   "cell_type": "markdown",
   "metadata": {
    "slideshow": {
     "slide_type": "subslide"
    }
   },
   "source": [
    "<div>\n",
    "    <br>\n",
    "    <center><strong>Conv 2D: multiple input features: kernel 1</strong></center>\n",
    "    <br>\n",
    "<img src=images/Conv2d_multifeature_input_kernel.png width=\"50%\">\n",
    "    <!-- edX: obsolete W9_L2_S46_Conv2d_multifeature_input_kernel.png EdX created image --> \n",
    "    <br>\n",
    "    </div>"
   ]
  },
  {
   "cell_type": "markdown",
   "metadata": {
    "slideshow": {
     "slide_type": "subslide"
    }
   },
   "source": [
    "Here is a [picture](CNN_pictorial.ipynb#Conv-2D:-multiple-features-to-single-feature) of a Convolutional layer $\\ll$\n",
    "transforming \n",
    "- a  2-dimensional input layer $(\\ll-1)$  consisting of multiple features \n",
    "    - $N_{(\\ll-1)} = 2, n_{(\\ll-1)} = 2$\n",
    "- into a 2-dimensional output layer $\\ll$  consisting of 1 feature\n",
    "    - $N_\\llp = 1, n_\\llp  = 1$\n"
   ]
  },
  {
   "cell_type": "markdown",
   "metadata": {
    "slideshow": {
     "slide_type": "subslide"
    }
   },
   "source": [
    "And finally: the general case for a 2 spatial dimensions\n",
    "    \n",
    "Here is a [picture](CNN_pictorial.ipynb#Conv-2D:-multiple-features-to-multiple-features) of a Convolutional layer $\\ll$\n",
    "transforming \n",
    "- a  2-dimensional input layer $(\\ll-1)$  consisting of multiple features \n",
    "    - $N_{(\\ll-1)} = 2, n_{(\\ll-1)} = 3$\n",
    "- into a 2-dimensional output layer $\\ll$  consisting of multiple features\n",
    "    - $N_\\llp = 1, n_\\llp  = 2$\n",
    "\n"
   ]
  },
  {
   "cell_type": "markdown",
   "metadata": {
    "slideshow": {
     "slide_type": "slide"
    }
   },
   "source": [
    "# Training a CNN\n",
    "\n",
    "Hopefully you understand how kernels are \"feature recognizers\".\n",
    "\n",
    "But you may be wondering: how do we determine the weights in each kernel ?\n",
    "\n",
    "Answer: a Convolutional Layer is \"just another\" layer in a multi-layer network\n",
    "- The kernels are just weights (like the weights in Fully Connected layers)\n",
    "- We solve for all the weights $\\W$ in the multi-layer network in the same way\n"
   ]
  },
  {
   "cell_type": "markdown",
   "metadata": {},
   "source": [
    "The answer is: exactly as we did in Classical Machine Learning\n",
    "- Define a loss function that is parameterized by $\\W$: \n",
    "$$\\loss = L(\\hat{\\y},\\y; \\W)$$\n",
    "\n",
    "- The kernel weights are just part of $\\W$\n",
    "- Our goal is to find $\\W^*$ the \"best\" set of weights\n",
    "$$\n",
    "\\W^* = \\argmin{W} L(\\hat{\\y},\\y; \\W)\n",
    "$$\n",
    "- Using Gradient Descent !"
   ]
  },
  {
   "cell_type": "markdown",
   "metadata": {
    "slideshow": {
     "slide_type": "subslide"
    }
   },
   "source": [
    "In other words: their is nothing special about finding the \"best\" kernels."
   ]
  },
  {
   "cell_type": "code",
   "execution_count": 5,
   "metadata": {
    "slideshow": {
     "slide_type": "slide"
    }
   },
   "outputs": [
    {
     "name": "stdout",
     "output_type": "stream",
     "text": [
      "Done\n"
     ]
    }
   ],
   "source": [
    "print(\"Done\")"
   ]
  }
 ],
 "metadata": {
  "celltoolbar": "Slideshow",
  "kernelspec": {
   "display_name": "Python 3",
   "language": "python",
   "name": "python3"
  },
  "language_info": {
   "codemirror_mode": {
    "name": "ipython",
    "version": 3
   },
   "file_extension": ".py",
   "mimetype": "text/x-python",
   "name": "python",
   "nbconvert_exporter": "python",
   "pygments_lexer": "ipython3",
   "version": "3.7.4"
  },
  "toc": {
   "base_numbering": 1,
   "nav_menu": {},
   "number_sections": true,
   "sideBar": true,
   "skip_h1_title": false,
   "title_cell": "Table of Contents",
   "title_sidebar": "Contents",
   "toc_cell": false,
   "toc_position": {
    "height": "calc(100% - 180px)",
    "left": "10px",
    "top": "150px",
    "width": "370.594px"
   },
   "toc_section_display": true,
   "toc_window_display": false
  }
 },
 "nbformat": 4,
 "nbformat_minor": 2
}
