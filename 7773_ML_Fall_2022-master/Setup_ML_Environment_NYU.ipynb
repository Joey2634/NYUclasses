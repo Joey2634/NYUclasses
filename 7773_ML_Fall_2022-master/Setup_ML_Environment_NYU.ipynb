{
 "cells": [
  {
   "cell_type": "markdown",
   "metadata": {
    "slideshow": {
     "slide_type": "slide"
    }
   },
   "source": [
    "# Creating a Machine Learning Environment on your local machine\n",
    "\n",
    "The following instructions will enable you to install a Machine Learning Environment suitable for this course on your local machine.\n",
    "\n",
    "- We strongly suggest that you don't deviate from the instructions\n",
    "- The more you stray from the suggestions, the more likely it will be that you encounter problems"
   ]
  },
  {
   "cell_type": "markdown",
   "metadata": {
    "slideshow": {
     "slide_type": "slide"
    }
   },
   "source": [
    "## Install the basic Machine Learning Environment\n",
    "\n",
    "We will be installing Anaconda Individual Edition, a complete environment for Machine Learning.\n",
    "\n",
    "It works on a variety of operating systems.\n",
    "\n",
    "Click on the link to begin the installation on your local machine.\n",
    "\n",
    "https://www.anaconda.com/products/individual#Downloads\n",
    "- Easiest choice: Choose the \"64 bit graphical installer\"\n",
    "- If prompted for any choices during installation\n",
    "    - Accept the default choice, by simply pressing the Enter key\n",
    "    - Allow the `.bashrc` file to be modified\n",
    "    "
   ]
  },
  {
   "cell_type": "markdown",
   "metadata": {
    "slideshow": {
     "slide_type": "subslide"
    }
   },
   "source": [
    "### Potential issue installing on a Mac with the ARM chip (M1/M2)\n",
    "\n",
    "When installing via the graphical installer: the user should be given the option to create a link on their desktop to start up the Anaconda Navigator.\n",
    "- Navigator is a convenience tool that presents buttons for starting common tools, e.g., Jupyter\n",
    "- It is a convenience, not a necessity\n",
    "\n",
    "At the time of writing, the \"M1\" graphical installer for the Mac ARM architecture is reported to **not** install Navigator.\n",
    "\n",
    "The description and solution to the issue is given [here](https://docs.anaconda.com/anaconda/install/mac-os/)."
   ]
  },
  {
   "cell_type": "markdown",
   "metadata": {
    "slideshow": {
     "slide_type": "slide"
    }
   },
   "source": [
    "## Install Jupyter extensions (optional)\n",
    "\n",
    "Although this step is not strictly necessary, installing the following extensions to Jupyter will\n",
    "make you more productive.\n",
    "\n",
    "Enter the following commands from a terminal:"
   ]
  },
  {
   "cell_type": "markdown",
   "metadata": {
    "slideshow": {
     "slide_type": "subslide"
    }
   },
   "source": [
    "<img src=\"images/Jupyter_install_extensions.png\" width=80%>"
   ]
  },
  {
   "cell_type": "code",
   "execution_count": null,
   "metadata": {
    "slideshow": {
     "slide_type": "notes"
    }
   },
   "outputs": [],
   "source": [
    "# Install contributed extensions\n",
    "conda install -y -c conda-forge jupyter_contrib_nbextensions\n",
    "\n",
    "# Install Javascript and CSS files\n",
    "jupyter contrib nbextension install --user\n",
    "\n",
    "# Activate extensions\n",
    "jupyter nbextension enable toc2/main\n",
    "jupyter nbextension enable collapsible_headings/main\n",
    "jupyter nbextension enable livemdpreview/livemdpreview\n",
    "\n",
    "# Extension for slides\n",
    "conda install -y -c conda-forge rise\n",
    "jupyter nbextension enable rise\n"
   ]
  },
  {
   "cell_type": "markdown",
   "metadata": {
    "slideshow": {
     "slide_type": "subslide"
    }
   },
   "source": [
    "### Potential issues in installing Jupyter extensions\n",
    "\n",
    "Some users have reported difficulties in installing the extensions in new releases of Anaconda.\n",
    "- Symptom: some of the above extensions are not active\n",
    "\n",
    "The following steps have been reported as partial solutions.\n",
    "- When you start Jupyter, you will see the control panel\n",
    "    - the \"Nbextensions\" tab should be visible along the top banner\n",
    "    <img src=\"images/Jupyter_control_panel_nbextension_hilited.png\">"
   ]
  },
  {
   "cell_type": "markdown",
   "metadata": {
    "slideshow": {
     "slide_type": "subslide"
    }
   },
   "source": [
    "- Clicking on the Nbextensions tab will take you to a screen where you can manually activate/deactivate extensions\n",
    "    <img src=\"images/Jupyter_nbextensions.png\">\n"
   ]
  },
  {
   "cell_type": "markdown",
   "metadata": {
    "slideshow": {
     "slide_type": "subslide"
    }
   },
   "source": [
    "- Make sure to uncheck the checkbox: \n",
    "    `disable configuration for nbextensions without explicit compatibility ..`\n",
    "- You will then be able to manually activate/deactive the extensions we tried to install\n",
    "    - `Collapsible headings`\n",
    "    - `RISE`\n",
    "    - `Table of Contents`"
   ]
  },
  {
   "cell_type": "markdown",
   "metadata": {
    "slideshow": {
     "slide_type": "subslide"
    }
   },
   "source": [
    "## Jupyter security (optional)\n",
    "\n",
    "If you run the Jupyter server on a machine that is connected to a network\n",
    "- It is possible to allow remote users to connect to your server\n",
    "- This **will not** happen by default\n",
    "\n",
    "Should you decide to let remote users connect, it is strongly advised that you protect\n",
    "the notebook server with a password.\n",
    "\n",
    "See [Public Jupyter Server](https://jupyter-notebook.readthedocs.io/en/stable/public_server.html) for details.\n",
    "\n"
   ]
  },
  {
   "cell_type": "markdown",
   "metadata": {
    "slideshow": {
     "slide_type": "slide"
    }
   },
   "source": [
    "## Create a directory for your notebooks\n",
    "\n",
    "We will refer to this directory as the *notebooks directory*.\n",
    "- It can be anywhere on your machine\n",
    "- My convention is to have a directory called \"Notebooks\" in my home directory.\n",
    "    - The instructions below will use `Notebooks` as the notebooks directory; modify the instructions if you choose a different location\n",
    "\n",
    "This is the location to which the course materials will be downloaded.\n",
    "\n",
    "Enter the following commands from a terminal:"
   ]
  },
  {
   "cell_type": "markdown",
   "metadata": {
    "slideshow": {
     "slide_type": "subslide"
    }
   },
   "source": [
    "<img src=\"images/Jupyter_create_notebook_dir.png\" width=60%>"
   ]
  },
  {
   "cell_type": "raw",
   "metadata": {
    "slideshow": {
     "slide_type": "notes"
    }
   },
   "source": [
    "# Create directory for notebooks\n",
    "cd\n",
    "mkdir Notebooks\n",
    "cd Notebooks"
   ]
  },
  {
   "cell_type": "markdown",
   "metadata": {
    "slideshow": {
     "slide_type": "slide"
    }
   },
   "source": [
    "## Download  the course material\n",
    "\n",
    "We are using a tool called `git` to manage our code.\n",
    "\n",
    "`git` defines the notion of a *repository* as a collection of material related to a project.\n",
    "\n",
    "The following will\n",
    "- Install `git`\n",
    "- Download the course material from a repository we have created\n",
    "    - Into the current directory\n",
    "    - Which is the `Notebooks` directory if you followed the previous step\n",
    "- Download material from the recommend text books\n",
    "\n",
    "Enter the following commands from a terminal:"
   ]
  },
  {
   "cell_type": "markdown",
   "metadata": {
    "slideshow": {
     "slide_type": "subslide"
    }
   },
   "source": [
    "<img src=\"images/Install_git_and_get_repo.png\" width=90%>"
   ]
  },
  {
   "cell_type": "code",
   "execution_count": 2,
   "metadata": {
    "slideshow": {
     "slide_type": "notes"
    }
   },
   "outputs": [
    {
     "ename": "SyntaxError",
     "evalue": "invalid syntax (<ipython-input-2-ccd6756a0d9b>, line 2)",
     "output_type": "error",
     "traceback": [
      "\u001b[0;36m  File \u001b[0;32m\"<ipython-input-2-ccd6756a0d9b>\"\u001b[0;36m, line \u001b[0;32m2\u001b[0m\n\u001b[0;31m    conda install -y git\u001b[0m\n\u001b[0m                ^\u001b[0m\n\u001b[0;31mSyntaxError\u001b[0m\u001b[0;31m:\u001b[0m invalid syntax\n"
     ]
    }
   ],
   "source": [
    "# Install git\n",
    "conda install -y git\n",
    "\n",
    "# Clone git repositories\n",
    "REPO=\"ML_Fall_2022\"\n",
    "\n",
    "git clone https://github.com/kenperry-public/$REPO.git\n",
    "\n",
    "# Change to the course directory and clone the repos for the external references\n",
    "cd $REPO\n",
    "git clone https://github.com/jakevdp/PythonDataScienceHandbook.git\n",
    "git clone https://github.com/ageron/handson-ml2.git\n"
   ]
  },
  {
   "cell_type": "markdown",
   "metadata": {
    "slideshow": {
     "slide_type": "subslide"
    }
   },
   "source": [
    "You should verify that your notebooks directory has the following subdirectories\n",
    "- `ML_Fall_2022`\n",
    "    - The course material\n",
    "    - This is where you will find the lectures\n",
    "- `handson-ml`\n",
    "    - Notebooks associated with the recommended textbook by Geron.\n",
    "- `PythonDataScienceHandbook`\n",
    "    - The *complete text* and associated notebooks of the recommended textbook by VanderPlas"
   ]
  },
  {
   "cell_type": "markdown",
   "metadata": {
    "slideshow": {
     "slide_type": "subslide"
    }
   },
   "source": [
    "## Refreshing your local copy of the repo\n",
    "\n",
    "In advance of each week's lecture, new material will be published to the repo.\n",
    "\n",
    "Additionally: corrections might be made for previously published material.\n",
    "\n",
    "You can always synchronize your local copy with the main repo via the command:\n",
    "```\n",
    "git pull\n",
    "```\n",
    "\n"
   ]
  },
  {
   "cell_type": "markdown",
   "metadata": {
    "slideshow": {
     "slide_type": "subslide"
    }
   },
   "source": [
    "If you have made changes to your local repo that conflict with the main repo\n",
    "- `git pull` will result in an error\n",
    "\n",
    "Should this occur, you should use\n",
    "```\n",
    "git stash\n",
    "git pull\n",
    "```\n",
    "\n",
    "The `git stash` will \"hide\" the changes you made and restore your local copy to be consistent with the main repo.\n",
    "\n",
    "Fear not !  Your changes are hidden, not lost, and you will be able to restore them.\n",
    "- Please see the `git stash` documentation."
   ]
  },
  {
   "cell_type": "markdown",
   "metadata": {
    "slideshow": {
     "slide_type": "slide"
    }
   },
   "source": [
    "## Deep Learning Course: Install additional packages for Deep Learning\n",
    "\n",
    "You have installed the \"basic\" Machine Learning Environment, which suffices for the Classical Machine Learning part of the course.\n",
    "\n",
    "When you are ready for the Deep Learning part of the course (or want to play with Neural Networks/Deep Learning)\n",
    "you will need to install additional packages.\n",
    "\n",
    "The installation method varies depending on whether or not you are using an Apple machine with the new ARM based architecture (e.g., M1 or M2 chip)."
   ]
  },
  {
   "cell_type": "markdown",
   "metadata": {
    "slideshow": {
     "slide_type": "slide"
    }
   },
   "source": [
    "### Instructions if you are ARE NOT using an Apple ARM based machine\n",
    "\n",
    "Enter the following commands from a terminal:"
   ]
  },
  {
   "cell_type": "markdown",
   "metadata": {
    "slideshow": {
     "slide_type": "subslide"
    }
   },
   "source": [
    "<img src=\"images/Install_TensorFlow.png\" width=60%>"
   ]
  },
  {
   "cell_type": "raw",
   "metadata": {
    "slideshow": {
     "slide_type": "notes"
    }
   },
   "source": [
    "# Install Tensorflow\n",
    "conda install -y tensorflow\n"
   ]
  },
  {
   "cell_type": "markdown",
   "metadata": {
    "slideshow": {
     "slide_type": "subslide"
    }
   },
   "source": [
    "### Instructions if you ARE using an Apple ARM based machine\n",
    "\n",
    "See the instructions [here](Installing_TensorFlow_on_MAC_M1_or_M2.ipynb)"
   ]
  },
  {
   "cell_type": "markdown",
   "metadata": {
    "slideshow": {
     "slide_type": "subslide"
    }
   },
   "source": [
    "### Tools for visualization of graphs (optional)\n",
    "\n",
    "Some of our notebooks uses a particular package (GraphViz) to visualize graphs\n",
    "- Decision trees\n",
    "- Deep Learning models (using the Keras `plot_model` command)\n",
    "\n",
    "If you want to use this, you must install additional packages as follows\n",
    "```\n",
    "conda install pydot\n",
    "conda install python-graphviz \n",
    "```\n",
    "As always: if you have multiple Conda environments, be sure you have activated the desired environment before\n",
    "issuing any `conda install` command."
   ]
  },
  {
   "cell_type": "markdown",
   "metadata": {
    "slideshow": {
     "slide_type": "slide"
    }
   },
   "source": [
    "## Start up a Jupyter Notebook server\n",
    "\n",
    "As part of the installation of Anaconda, a tool called the Anaconda Navigator was installed.\n",
    "\n",
    "Find and start it\n",
    "- An icon may have been created on your desktop\n",
    "- Otherwise, enter the following commands from a terminal:"
   ]
  },
  {
   "cell_type": "markdown",
   "metadata": {
    "slideshow": {
     "slide_type": "subslide"
    }
   },
   "source": [
    "<img src=\"images/Start_navigator.png\" width=60%>"
   ]
  },
  {
   "cell_type": "raw",
   "metadata": {
    "slideshow": {
     "slide_type": "notes"
    }
   },
   "source": [
    "cd\n",
    "~/anaconda3/bin/anaconda-navigator & "
   ]
  },
  {
   "cell_type": "markdown",
   "metadata": {
    "slideshow": {
     "slide_type": "subslide"
    }
   },
   "source": [
    "You will hopefully see something like this\n",
    "\n",
    "<img src=\"images/AnacondaNavigator.png\">"
   ]
  },
  {
   "cell_type": "markdown",
   "metadata": {
    "slideshow": {
     "slide_type": "subslide"
    }
   },
   "source": [
    "- Click on the icon for `Jupyter Notebook` to start the Jupyter server.\n",
    "- Navigate to the `ML_Fall_2022` directory to find the course material directory\n",
    "- Find the `Index.ipynb` notebook and open it\n",
    "    - This will take you to the \"start page\" for the lectures"
   ]
  }
 ],
 "metadata": {
  "celltoolbar": "Slideshow",
  "kernelspec": {
   "display_name": "Python 3",
   "language": "python",
   "name": "python3"
  },
  "language_info": {
   "codemirror_mode": {
    "name": "ipython",
    "version": 3
   },
   "file_extension": ".py",
   "mimetype": "text/x-python",
   "name": "python",
   "nbconvert_exporter": "python",
   "pygments_lexer": "ipython3",
   "version": "3.7.4"
  },
  "toc": {
   "base_numbering": 1,
   "nav_menu": {},
   "number_sections": true,
   "sideBar": true,
   "skip_h1_title": false,
   "title_cell": "Table of Contents",
   "title_sidebar": "Contents",
   "toc_cell": false,
   "toc_position": {
    "height": "calc(100% - 180px)",
    "left": "10px",
    "top": "150px",
    "width": "369.188px"
   },
   "toc_section_display": true,
   "toc_window_display": true
  }
 },
 "nbformat": 4,
 "nbformat_minor": 2
}
