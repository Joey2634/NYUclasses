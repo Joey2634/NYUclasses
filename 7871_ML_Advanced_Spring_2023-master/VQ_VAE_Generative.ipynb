{
 "cells": [
  {
   "cell_type": "code",
   "execution_count": 1,
   "metadata": {
    "slideshow": {
     "slide_type": "notes"
    }
   },
   "outputs": [
    {
     "data": {
      "text/latex": [
       "$$\n",
       "\\newcommand{\\x}{\\mathbf{x}}\n",
       "\\newcommand{\\tx}{\\tilde{\\x}}\n",
       "\\newcommand{\\y}{\\mathbf{y}}\n",
       "\\newcommand{\\b}{\\mathbf{b}}\n",
       "\\newcommand{\\c}{\\mathbf{c}}\n",
       "\\newcommand{\\e}{\\mathbf{e}}\n",
       "\\newcommand{\\z}{\\mathbf{z}}\n",
       "\\newcommand{\\h}{\\mathbf{h}}\n",
       "\\newcommand{\\u}{\\mathbf{u}}\n",
       "\\newcommand{\\v}{\\mathbf{v}}\n",
       "\\newcommand{\\w}{\\mathbf{w}}\n",
       "\\newcommand{\\V}{\\mathbf{V}}\n",
       "\\newcommand{\\W}{\\mathbf{W}}\n",
       "\\newcommand{\\X}{\\mathbf{X}}\n",
       "\\newcommand{\\KL}{\\mathbf{KL}}\n",
       "\\newcommand{\\E}{{\\mathbb{E}}}\n",
       "\\newcommand{\\Reals}{{\\mathbb{R}}}\n",
       "\\newcommand{\\ip}{\\mathbf{{(i)}}}\n",
       "%\n",
       "% Test set\n",
       "\\newcommand{\\xt}{\\underline{\\x}}\n",
       "\\newcommand{\\yt}{\\underline{\\y}}\n",
       "\\newcommand{\\Xt}{\\underline{\\X}}\n",
       "\\newcommand{\\perfm}{\\mathcal{P}}\n",
       "%\n",
       "% \\ll indexes a layer; we can change the actual letter\n",
       "\\newcommand{\\ll}{l}\n",
       "\\newcommand{\\llp}{{(\\ll)}}\n",
       "%\n",
       "\\newcommand{Thetam}{\\Theta_{-0}}\n",
       "\n",
       "% CNN\n",
       "\\newcommand{\\kernel}{\\mathbf{k}} \n",
       "\\newcommand{\\dim}{d}\n",
       "\\newcommand{\\idxspatial}{{\\text{idx}}}\n",
       "\\newcommand{\\summaxact}{\\text{max}}\n",
       "%\n",
       "%\n",
       "\n",
       "% RNN\n",
       "% \\tt indexes a time step\n",
       "\\newcommand{\\tt}{t}\n",
       "\\newcommand{\\tp}{{(\\tt)}}\n",
       "%\n",
       "%\n",
       "\n",
       "% LSTM\n",
       "\\newcommand{\\g}{\\mathbf{g}}\n",
       "\\newcommand{\\remember}{\\mathbf{remember}}\n",
       "\\newcommand{\\save}{\\mathbf{save}}\n",
       "\\newcommand{\\focus}{\\mathbf{focus}}\n",
       "%\n",
       "%\n",
       "% NLP\n",
       "\\newcommand{\\Vocab}{\\mathbf{V}}\n",
       "\\newcommand{\\v}{\\mathbf{v}}\n",
       "\\newcommand{\\offset}{o}\n",
       "\\newcommand{\\o}{o}\n",
       "\\newcommand{\\Emb}{\\mathbf{E}}\n",
       "%\n",
       "%\n",
       "\\newcommand{\\loss}{\\mathcal{L}}\n",
       "\\newcommand{\\cost}{\\mathcal{L}}\n",
       "%\n",
       "%                     \n",
       "\\newcommand{\\pdata}{p_\\text{data}}\n",
       "\\newcommand{\\pmodel}{p_\\text{model}}\n",
       "%\n",
       "% SVM\n",
       "\\newcommand{\\margin}{{\\mathbb{m}}}\n",
       "\\newcommand{\\lmk}{\\boldsymbol{\\ell}}\n",
       "%\n",
       "% Functions with arguments\n",
       "\\def\\xsy#1#2{#1^#2}\n",
       "\\def\\rand#1{\\tilde{#1}}\n",
       "\\def\\randx{\\rand{\\x}}\n",
       "\\def\\randy{\\rand{\\y}}\n",
       "\\def\\trans#1{\\dot{#1}}\n",
       "\\def\\transx{\\trans{\\x}}\n",
       "\\def\\transy{\\trans{\\y}}\n",
       "%\n",
       "\\def\\argmax#1{\\underset{#1} {\\operatorname{argmax}} }\n",
       "\\def\\argmin#1{\\underset{#1} {\\operatorname{argmin}} }\n",
       "\\def\\max#1{\\underset{#1} {\\operatorname{max}} }\n",
       "\\def\\min#1{\\underset{#1} {\\operatorname{min}} }\n",
       "%\n",
       "\\def\\pr#1{\\mathcal{p}(#1)}\n",
       "\\def\\prc#1#2{\\mathcal{p}(#1 \\; | \\; #2)}\n",
       "\\def\\cnt#1{\\mathcal{count}_{#1}}\n",
       "\\def\\node#1{\\mathbb{#1}}\n",
       "%\n",
       "\\def\\loc#1{{\\text{##} {#1}}}\n",
       "%\n",
       "\\def\\OrderOf#1{\\mathcal{O}\\left( #1 \\right)}\n",
       "%\n",
       "% Expectation operator\n",
       "\\def\\Exp#1{\\underset{#1} {\\operatorname{\\mathbb{E}}} }\n",
       "%\n",
       "% Reinforcement learning\n",
       "\\newcommand{\\Actions}{{\\mathcal{A}}} \n",
       "\\newcommand{\\actseq}{A}\n",
       "\\newcommand{\\act}{a}\n",
       "\\newcommand{\\States}{{\\mathcal{S}}}   \n",
       "\\newcommand{\\stateseq}{S}  \n",
       "\\newcommand{\\state}{s}\n",
       "\\newcommand{\\Rewards}{{\\mathcal{R}}}\n",
       "\\newcommand{\\rewseq}{R}\n",
       "\\newcommand{\\rew}{r}\n",
       "\\newcommand{\\transp}{P}\n",
       "\\newcommand{\\statevalfun}{v}\n",
       "\\newcommand{\\actvalfun}{q}\n",
       "\\newcommand{\\disc}{\\gamma}\n",
       "%\n",
       "%\n",
       "\\newcommand{\\floor}[1]{\\left\\lfloor #1 \\right\\rfloor}\n",
       "\\newcommand{\\ceil}[1]{\\left\\lceil #1 \\right\\rceil}\n",
       "%\n",
       "%\n",
       "$$\n"
      ],
      "text/plain": [
       "<IPython.core.display.Latex object>"
      ]
     },
     "metadata": {},
     "output_type": "display_data"
    }
   ],
   "source": [
    "%run Latex_macros.ipynb"
   ]
  },
  {
   "cell_type": "markdown",
   "metadata": {
    "slideshow": {
     "slide_type": "notes"
    }
   },
   "source": [
    "$$\n",
    "\\newcommand{\\V}{\\mathbf{V}}\n",
    "\\newcommand{\\Vr}{\\mathbb{V}}\n",
    "\\newcommand{\\codebook}{\\mathbf{E}}\n",
    "\\newcommand{\\encoder}{\\mathcal{E}}\n",
    "\\newcommand{\\decoder}{\\mathcal{D}}\n",
    "\\def\\prs#1#2{\\mathcal{p}_{#2}(#1)}\n",
    "\\def\\qr#1{\\mathcal{q}(#1)}\n",
    "\\def\\qrs#1#2{\\mathcal{q}_{#2}(#1)}\n",
    "$$"
   ]
  },
  {
   "cell_type": "markdown",
   "metadata": {
    "slideshow": {
     "slide_type": "notes"
    }
   },
   "source": [
    "- [paper](https://arxiv.org/pdf/1711.00937.pdf), [VQ-VAE-2 paper](https://arxiv.org/pdf/1906.00446.pdf)\n",
    "    - [example code from paper's authors](https://github.com/deepmind/sonnet/blob/v1/sonnet/examples/vqvae_example.ipynb)\n",
    "        - [`VectorQuantizer` from paper's authors](https://github.com/deepmind/sonnet/blob/v1/sonnet/python/modules/nets/vqvae.py)\n",
    "            - can't run: depends on module `sonnet`\n",
    "- [Colab](https://keras.io/examples/generative/vq_vae/)\n",
    "\n",
    "Charlie Snell\n"
   ]
  },
  {
   "cell_type": "markdown",
   "metadata": {
    "slideshow": {
     "slide_type": "slide"
    }
   },
   "source": [
    "# From PCA to VQ-VAE\n",
    "\n",
    "[paper: vanilla VQ-VAE](https://arxiv.org/pdf/1711.00937.pdf)\n",
    "\n",
    "[paper: VQ-VAE-2](https://arxiv.org/pdf/1906.00446.pdf)\n",
    "\n",
    "The common element in the design of any Autoencoder method is \n",
    "- to create a \n",
    "latent representation $\\z$ of input $\\x$ \n",
    "- such that $\\z$ can be (approximately) inverted\n",
    "to reconstruct $\\x$.\n"
   ]
  },
  {
   "cell_type": "markdown",
   "metadata": {
    "slideshow": {
     "slide_type": "subslide"
    }
   },
   "source": [
    "Principal Components Analysis is a type of Autoencoder that produces a latent representation $\\z$ of $\\x$\n",
    "\n",
    "- $\\x$ is a vector of length $n$: $\\x \\in \\Reals^n$\n",
    "- $\\z$ is a vector of length $n' \\le n$: $\\z \\in \\Reals^{n'}$\n",
    "\n",
    "Usually $n' << n$: achieving *dimensionality reduction*"
   ]
  },
  {
   "cell_type": "markdown",
   "metadata": {
    "slideshow": {
     "slide_type": "subslide"
    }
   },
   "source": [
    "This is accomplished by decomposing $\\x$ into a weighted product of $n$ *Principal Components*\n",
    "- $\\V \\in \\Reals^{n \\times n}$\n",
    "$$\\x = \\z' \\V^T$$\n",
    "    - where $\\z' \\in \\Reals^n$\n",
    "    - rows of $\\V^T$ are the components\n",
    "\n",
    "So $\\x$ can be decomposed into the weighted sum (with $\\z'$ specifying the weights) \n",
    "- of $n$ component vectors\n",
    "- each of length $n$\n",
    "\n",
    "Since $\\z' \\in \\Reals^n$: there is **no** dimensionality reduction just yet."
   ]
  },
  {
   "cell_type": "markdown",
   "metadata": {
    "slideshow": {
     "slide_type": "subslide"
    }
   },
   "source": [
    "One can view $\\V^T$ as a kind of *code book*\n",
    "- any $\\x$ can be represented (as a linear combination) of the *codes* (components) in $V^T$\n",
    "$$\\x = \\z' \\V^T$$\n",
    "\n",
    "$\\z'$ is like a translation of $\\x$, using $\\V$ as the vocabulary.\n",
    "- weights in the codebook\n",
    "- rather than weights in the standard basis space $I \\in \\Reals^{n \\times n} = \\text{diagonal}(n)$\n",
    "$$\n",
    "\\x = \\x I\n",
    "$$"
   ]
  },
  {
   "cell_type": "markdown",
   "metadata": {
    "slideshow": {
     "slide_type": "subslide"
    }
   },
   "source": [
    "Dimensionality reduction is achieved by defining $\\z$ as a length $n'$ prefix of $\\z$\n",
    "- $\\z = \\z'_{1:n'}$\n",
    "- $\\z \\in \\Reals^{n'}$\n",
    "\n",
    "Similarly, we needed only $n'$ components from $\\V$\n",
    "- $\\Vr^T = \\V^T_{1:n'}$\n",
    "- $\\Vr^T \\in \\Reals^{n' \\times n}$\n",
    "\n",
    "We can construct an *approximation* $\\hat\\x$ of $\\x$ using *reduced dimension* $\\z'$ and $\\Vr$\n",
    "$$\n",
    "\\hat\\x = \\z \\Vr^T\n",
    "$$\n"
   ]
  },
  {
   "cell_type": "markdown",
   "metadata": {
    "slideshow": {
     "slide_type": "subslide"
    }
   },
   "source": [
    "The Autoencoder (and variants such as VAE) produces $\\z^\\ip$, the latent representation of $\\x^\\ip$\n",
    "- directly\n",
    "- independent of any other training example $\\x^{(i')}$ for $i \\ne i'$\n",
    "\n",
    "Our goal in using AE's is in generating synthetic data\n",
    "- the dimensionality reduction achieved thus far was a necessity, not a goal"
   ]
  },
  {
   "cell_type": "markdown",
   "metadata": {
    "slideshow": {
     "slide_type": "subslide"
    }
   },
   "source": [
    "# Vector Quantized Autoencoder\n",
    "\n",
    "A *Vector Quantized VAE* is a VAE with similarities to PCA.  It creates $\\z$\n",
    "- which is an **integer**\n",
    "- that is the index of a row\n",
    "- in a codebook with $K$ rows\n",
    "\n",
    "That is: the input is represented by one of $K$ possible vectors.\n",
    "\n"
   ]
  },
  {
   "cell_type": "markdown",
   "metadata": {
    "slideshow": {
     "slide_type": "subslide"
    }
   },
   "source": [
    "The goal is **not necessarily** dimensionality reduction.\n",
    "\n",
    "Rather, there are some advantages to a **discrete** representation of a continuously-valued vector.\n",
    "- Each vector\n",
    "- Drawn from the infinite space of continuously-valued vectors of length $n$\n",
    "- Can be approximated by one of $K$ possible vectors of length $n$"
   ]
  },
  {
   "cell_type": "markdown",
   "metadata": {
    "slideshow": {
     "slide_type": "subslide"
    }
   },
   "source": [
    "Thus, a sequence of $T$ continuously valued vectors\n",
    "- can be represented as a sequence of $T$ integers\n",
    "- over a \"vocabulary\" defined by the code book\n",
    "\n",
    "This is analogous to text\n",
    "- sequence of works\n",
    "- represented as a sequence of integer indices in a vocabulary of tokens"
   ]
  },
  {
   "cell_type": "markdown",
   "metadata": {
    "slideshow": {
     "slide_type": "subslide"
    }
   },
   "source": [
    "Once we put complex objects\n",
    "- like images\n",
    "- timeseries\n",
    "- speech\n",
    "\n",
    "into a representation similar to text\n",
    "- we can have *mixed type* sequences\n",
    "    - e.g., words, images\n",
    "    "
   ]
  },
  {
   "cell_type": "markdown",
   "metadata": {
    "slideshow": {
     "slide_type": "subslide"
    }
   },
   "source": [
    "In a subsequent module we will take advantage of mixed type sequences\n",
    "- to produce an image\n",
    "- from a text *description* of the image\n",
    "- using the \"predict the next\" element of a sequence technique of Large Language Models\n",
    "\n",
    "<table>\n",
    "    <tr>\n",
    "        <th><center>DALL-E: Text to Image</center></th>\n",
    "    </tr>  \n",
    "    <tr>\n",
    "        <td>\n",
    "            Text input: \"An illustration of a baby daikon radish in a tutu walking a dog\"\n",
    "        </td>\n",
    "    </tr>\n",
    "    <tr>\n",
    "        <td>\n",
    "            <center>Image output:</center>\n",
    "        </td>\n",
    "    </tr>\n",
    "    <tr>\n",
    "        <td>\n",
    "            <img src=\"https://cdn.openai.com/dall-e/v2/samples/anthropomorphism/091432009673a3a126fdec860933cdce_26.png\">\n",
    "        </td>\n",
    "    </tr>\n",
    "    \n",
    "</table>"
   ]
  },
  {
   "cell_type": "markdown",
   "metadata": {
    "slideshow": {
     "slide_type": "slide"
    }
   },
   "source": [
    "# Details\n",
    "\n",
    "Here is diagram of a VQ-VAE\n",
    "- that creates a latent representation of a 3-dimensional image $(w \\times h \\times 3)$\n",
    "- a a 2-dimensional matrix of integers\n",
    "\n",
    "There is a bit of notation: referring to the diagram should facilitate understanding the notation."
   ]
  },
  {
   "cell_type": "markdown",
   "metadata": {
    "slideshow": {
     "slide_type": "subslide"
    }
   },
   "source": [
    "<table>\n",
    "    <tr>\n",
    "        <th><center>VQ-VAE</center></th>\n",
    "    </tr>\n",
    "    <tr>\n",
    "        <td><img src=\"https://i.imgur.com/R9VMWD6.png\" width = 200%></td>\n",
    "    </tr>\n",
    "</table>\n"
   ]
  },
  {
   "cell_type": "markdown",
   "metadata": {
    "slideshow": {
     "slide_type": "subslide"
    }
   },
   "source": [
    "In general, we assume the input has $\\#S$ *spatial*  dimensions\n",
    "- where each location in the spatial dimension is a vector of length $n$\n",
    "- input shape $(n_1 \\times n_2 \\ldots \\times n_{\\#S} \\times n)$\n",
    "\n",
    "We will explain this diagram in steps.\n",
    "\n",
    "First, we summarize the notation in a single spot for easy subsequent reference."
   ]
  },
  {
   "cell_type": "markdown",
   "metadata": {
    "slideshow": {
     "slide_type": "slide"
    }
   },
   "source": [
    "**Notation summary**\n",
    "\n",
    "term &nbsp; &nbsp; &nbsp; &nbsp; | shape &nbsp; &nbsp; &nbsp; &nbsp; &nbsp; &nbsp;  &nbsp; &nbsp; &nbsp; &nbsp; &nbsp; &nbsp; &nbsp; | meaning \n",
    ":---|:---|:---\n",
    "$S$ | $(n_1 \\times n_2 \\ldots \\times n_{\\#S})$ | Spatial dimensions of $\\#S$-dimensional input\n",
    "$\\x$ | $\\Reals^{S \\times n}$ | Input\n",
    "$D$ | | length of latent vectors (Encoder output, Quantized Encoder output, Codebook entry)\n",
    "$\\encoder$ | | Encoder function\n",
    "$\\mathbb{z}_e(\\x)$ | $\\mathbb{R}^{S \\times D}$ |  Encoder output over each location of spatial dimension\n",
    "                         | | $\\z_e(\\x) = \\encoder(\\x)$\n",
    "$\\z_e(\\x)$ | $\\mathbb{R}^D$ |  Encoder output at a **single** representative spatial location\n",
    "                         | | $\\z_e(\\x) = \\encoder(\\x)$        \n",
    "$K$ | | number of codes\n",
    "$\\codebook$ | $\\mathbb{R}^{K \\times D}$ | Codebook/Embedding\n",
    "  | | $K$ codes, each of length $D$\n",
    "$e \\in \\codebook$ | $\\mathbb{R}^D$  | code/embedding\n",
    "$\\mathbb{z}$ | $\\{1, \\ldots,  K\\}^{S \\times D}$ | latent representation over all spatial dimensions\n",
    "$\\z$ | $\\{1, \\ldots,  K\\}$ | Latent representation at a **single** representative spatial location\n",
    "| | one integer per spatial location\n",
    "$\\qr{ \\z | \\x }$ | $\\text{integer} \\in [1 \\ldots K] $| Index $k$ of $e_k \\in \\codebook$ that is closest to $\\z_e(\\x)$ \n",
    "| | $k = \\argmin{j \\in [1,K]} \\| \\z_e(\\x) - \\e_j \\|_2$\n",
    "         | | actually: encoded as a OHE vector of length $K$\n",
    "$\\z_q(\\x) $     | $\\mathbb{R}^D$ | Quantized $\\z_e(\\x)$\n",
    "|| $\\z_q(\\x) = e_k$ where  $k = \\qr{\\z | \\x }$\n",
    "| | i.e, the element of codebook that is closest to $\\z_e(\\x)$\n",
    "  | | $\\z_q(\\x) \\approx \\z_e(\\x)$\n",
    "$\\tilde\\x$ | $n$ | Output: reconstructed $\\x$\n",
    "       | | $\\pr{ \\x | \\z_q(\\x) }$ \n",
    "$\\decoder$  | $\\mathbb{R}^{n'} \\rightarrow \\mathbb{R}^n$ | Decoder\n",
    "| | input: element of codebook $\\codebook$\n",
    "| | $\\tilde\\x = \\decoder( \\z_q(\\x) )$"
   ]
  },
  {
   "cell_type": "markdown",
   "metadata": {
    "slideshow": {
     "slide_type": "slide"
    }
   },
   "source": [
    "## Quanitization\n",
    "\n",
    "Let $S$ denote the spatial dimensions, e.g. $S = (n_1 \\times n_2)$ for 2D\n",
    "\n",
    "So input $\\x \\in \\Reals^{S \\times n}$\n",
    "- $n$ features over $S$ spatial locations"
   ]
  },
  {
   "cell_type": "markdown",
   "metadata": {
    "slideshow": {
     "slide_type": "subslide"
    }
   },
   "source": [
    "The input $\\x$ is transformed in a sequence of steps\n",
    "- Encoder output (continuous value)\n",
    "- Latent representation (discrete value)\n",
    "    - Quantized (continuous value)"
   ]
  },
  {
   "cell_type": "markdown",
   "metadata": {
    "slideshow": {
     "slide_type": "slide"
    }
   },
   "source": [
    "In the first step, the *Encoder* maps input $\\x$ \n",
    "- to Encoder output $\\mathbb{z}_e(\\x)$\n",
    "- an alternate representation of $D$ features over $S'$ spatial locations\n",
    "\n",
    "(For simplicity, we will assume $S' = S$)\n"
   ]
  },
  {
   "cell_type": "markdown",
   "metadata": {
    "slideshow": {
     "slide_type": "slide"
    }
   },
   "source": [
    "**Notational simplification**\n",
    "\n",
    "In the sequel, we will apply the same transformation **to each element** of the spatial dimension\n",
    "\n",
    "Rather than explicitly iterating over each location\n",
    "we write\n",
    "\n",
    "$$\\z_e(\\x) \\in \\Reals^D$$\n",
    "\n",
    "to denote a representative element of $\\mathbb{z}_e(\\x)$ at a single location $s = (i_1, \\ldots, i_{\\#S})$\n",
    "\n",
    "$$\n",
    "\\z_e(\\x) = \\mathbb{z}_e(\\x)_{s}\n",
    "$$\n",
    "\n",
    "We will continue the transformation at the single representative location\n",
    "- and implicitly iterate over all locations $s \\in S$"
   ]
  },
  {
   "cell_type": "markdown",
   "metadata": {
    "slideshow": {
     "slide_type": "slide"
    }
   },
   "source": [
    "The continuous (length $D$) Encoder output vector $\\z_e(\\x)$\n",
    "- is mapped to a *latent representation* $\\qr{ \\z | \\x }$\n",
    "- which is a **discrete** value (integer)\n",
    "\n",
    "$$k = \\qr{ \\z | \\x } \\in \\{1, \\ldots, K\\}$$\n",
    "\n",
    "where $k$ is the *index* of a row $\\e_k$ in codebook $\\codebook$\n",
    "$$\\e_k = \\codebook_k \\in \\Reals^D $$"
   ]
  },
  {
   "cell_type": "markdown",
   "metadata": {
    "slideshow": {
     "slide_type": "slide"
    }
   },
   "source": [
    "$k$ is chosen such that $\\e_k$ is the row in $\\codebook$ **closest to** $\\z_e(\\x)$\n",
    "\n",
    " $$\\begin{array}\\\\\n",
    "        k & = & \\qr{ \\z | \\x } \\\\\n",
    "          & = &\\argmin{j \\in \\{ 1, \\ldots, K \\} } \\| \\z_e(\\x) - \\e_j \\|_2 \\\\\n",
    "          \\end{array}\n",
    "        $$\n",
    "\n",
    "We denote the codebook vector \n",
    "- closest to representative encoder output $\\z_e(\\x)$\n",
    "- as $\\z_q( \\x )$\n",
    "$$\n",
    "\\z_q( \\x ) \\in \\{1, \\ldots, K \\} = e_k\n",
    "$$\n",
    "\n",
    "\n"
   ]
  },
  {
   "cell_type": "markdown",
   "metadata": {
    "slideshow": {
     "slide_type": "subslide"
    }
   },
   "source": [
    "The Decoder tries to invert the codebook entry $\\e_k = \\z_q(\\x) $\n",
    "so that\n",
    "$$\n",
    "\\begin{array}\\\\\n",
    "\\tilde\\x & = & \\decoder( \\z_q(\\x) ) \\\\\n",
    "& \\approx & \\x \\\\\n",
    "\\end{array}\n",
    "$$\n"
   ]
  },
  {
   "cell_type": "markdown",
   "metadata": {
    "slideshow": {
     "slide_type": "slide"
    }
   },
   "source": [
    "# Discussion\n",
    "\n",
    "## Why do we need the CNN Encoder ?\n",
    "\n",
    "The input $\\x$ is first transformed into an *alternate representation*\n",
    "- the **number** and shape of the spatial dimensions are preserved (not necessary)\n",
    "- but the number of features is transformed from $n$ raw features to $D \\ge n$ synthetic features\n",
    "    - typical behavior for, e.g., an image classifier\n",
    "    "
   ]
  },
  {
   "cell_type": "markdown",
   "metadata": {
    "slideshow": {
     "slide_type": "subslide"
    }
   },
   "source": [
    "The part of the VQ-VAE after the initial CNN\n",
    "- reduces the size of the **feature dimension** from $D$ to 1\n",
    "- this is the primary source of dimensionality reduction\n",
    "    - the raw $n$ of image input is usually only $n=3$ channels"
   ]
  },
  {
   "cell_type": "markdown",
   "metadata": {
    "slideshow": {
     "slide_type": "subslide"
    }
   },
   "source": [
    "It may be useful for the CNN to *down-sample* spatial dimension $S$ to a smaller $S'$\n",
    "\n",
    "For example\n",
    "- 3 layers of stride 2 CNN layers\n",
    "- will reduce a 2D image of spatial dimension $(n_1 \\times n_2)$\n",
    "- to spatial dimension $(\\frac{n_1}{8} \\times \\frac{n_2}{8})$\n",
    "\n",
    "This replaces each $(8 \\times 8 \\times n)$ *patch* of raw input\n",
    "- into a single vector of length $D$\n",
    "- that summarizes the $(8 \\times 8)$ the patch"
   ]
  },
  {
   "cell_type": "markdown",
   "metadata": {
    "slideshow": {
     "slide_type": "subslide"
    }
   },
   "source": [
    "One possible role (not strictly necessary) for the CNN Encoder\n",
    "- is to replace a large spatial dimensions\n",
    "- by smaller \"summaries\" of local neighborhoods (patches)"
   ]
  },
  {
   "cell_type": "markdown",
   "metadata": {
    "slideshow": {
     "slide_type": "slide"
    }
   },
   "source": [
    "## Why quantize ?\n",
    "\n",
    "Quantization \n",
    "- converts the continuous $\\z_e(\\x)$\n",
    "- into discrete $\\qr{ \\z | \\x }$\n",
    "- representing the approximation $\\z_q(\\x) \\approx \\z_e(\\x) $\n",
    "\n",
    "The Decoder inverts the approximation.\n",
    "\n",
    "Why bother when the Quantization/De-Quantization is Lossy ?\n"
   ]
  },
  {
   "cell_type": "markdown",
   "metadata": {
    "slideshow": {
     "slide_type": "subslide"
    }
   },
   "source": [
    "One motivation comes from observing what happens if we *quantize and flatten* the $\\#S'$-dimensional\n",
    "spatial locations to a one-dimensional vector.\n",
    "\n",
    "Quantizing replaces each patch with a single integer index.\n",
    "- the integer is the index of an *image token* within a list of $K$ possible toke\n",
    "\n",
    "By flattening the quantized higher dimensional matrix of patches, we convert the input\n",
    "- into a sequence of image tokens\n",
    "- over a \"vocabulary\" defined by the codebook $\\codebook$.\n"
   ]
  },
  {
   "cell_type": "markdown",
   "metadata": {
    "slideshow": {
     "slide_type": "subslide"
    }
   },
   "source": [
    "This yields an image representation\n",
    "- similar to the representation of text\n",
    "\n",
    "Thus, we open the possibility of processing sequences\n",
    "of mixed text and image tokens."
   ]
  },
  {
   "cell_type": "markdown",
   "metadata": {
    "slideshow": {
     "slide_type": "slide"
    }
   },
   "source": [
    "### Quantized image embeddings mixed with Text: preview of DALL-E\n",
    "\n",
    "The Large Language Model operates on a sequence of text tokens\n",
    "- where the text tokens are fragments of words\n",
    "- when run autoregressively\n",
    "    - concatenating each output to the initial input sequence\n",
    "    - the LLM shows an ability to produce a \"sensible\" continuation of an initial \"thought\""
   ]
  },
  {
   "cell_type": "markdown",
   "metadata": {
    "slideshow": {
     "slide_type": "subslide"
    }
   },
   "source": [
    "Suppose we train a LLM on input sequences\n",
    "- that start with a sequence of *text* tokens describing an image\n",
    "- followed by a separator `[SEP]` token\n",
    "- followed by a sequence of of quantized image tokens\n",
    "\n",
    "        <text token> <text token> ... <text token> [SEP] <image token> <image token> ..."
   ]
  },
  {
   "cell_type": "markdown",
   "metadata": {
    "slideshow": {
     "slide_type": "subslide"
    }
   },
   "source": [
    "What continuation will our trained LLM produce given prompt\n",
    "\n",
    "        <text token> <text token> ... <text token> [SEP]\n",
    "        \n",
    "Hopefully:\n",
    "- a sequence of *image tokens*\n",
    "- that can be reconstructed\n",
    "- into an image matching the description given by the text tokens !\n",
    "\n",
    "That is the key idea behind a Text to Image model called DALL-E that we will discuss in a later module."
   ]
  },
  {
   "cell_type": "markdown",
   "metadata": {
    "slideshow": {
     "slide_type": "subslide"
    }
   },
   "source": [
    "There remains an important technical detail\n",
    "- the embedding space of text and image are distinct\n",
    "- they need to be merged into a common embedding space\n",
    "\n",
    "We will visit these issues in the module on CLIP."
   ]
  },
  {
   "cell_type": "markdown",
   "metadata": {
    "slideshow": {
     "slide_type": "slide"
    }
   },
   "source": [
    "# Loss function\n",
    "\n",
    "The Loss function for the VQ-VAE entails several parts\n",
    "- Reconstruction loss\n",
    "    - enforcing constraint that reconstructed image is similar to input\n",
    "    $$\\tilde{\\x} \\approx \\x\n",
    "    $$\n",
    "- Vector Quantization (VQ) Loss:\n",
    "    - enforcing similarity of quantized encoder output and actual encoder output\n",
    "    $$\n",
    "    \\z_q(\\x) \\approx \\z_e(\\x)\n",
    "    $$\n",
    "- Commitment Loss\n",
    "    - a constraint that prevents the Quantization of $\\z_e(\\x)$ from alternating rapidly between code book entries"
   ]
  },
  {
   "cell_type": "markdown",
   "metadata": {
    "slideshow": {
     "slide_type": "subslide"
    }
   },
   "source": [
    "The Reconstruction Loss term is our familiar: Maximize Likelihood \n",
    "- written to minimize the negative of the log likelihood, as usual\n",
    "$$\n",
    "\\pr{ \\x | \\z_q(\\x) } \n",
    "$$\n",
    "\n",
    "The Vector Quantization Loss is more complex\n",
    "\n",
    "$$\n",
    "\\| \\text{sg} ( \\z_e(\\x) ) - \\z_q({\\x}) \\| \n",
    "$$\n"
   ]
  },
  {
   "cell_type": "markdown",
   "metadata": {
    "slideshow": {
     "slide_type": "subslide"
    }
   },
   "source": [
    "The `sg` operator is the *Stop Gradient* operator.\n",
    "\n",
    "We will explain this in more detail below and give reference to a `VectorQuantizer` layer type.\n"
   ]
  },
  {
   "cell_type": "markdown",
   "metadata": {
    "slideshow": {
     "slide_type": "subslide"
    }
   },
   "source": [
    "Commitment Loss:\n",
    "$$\n",
    "\\| \\z_e(\\x) - \\text{sg} ( \\z_q(\\x) )  \\|\n",
    "$$\n",
    "\n",
    "The Commitment and Vector Quantization losses are similar except for the placement of the Stop Gradient.\n",
    "\n",
    "The Stop Gradient in the Commitment Loss prevents a change in the Embeddings from affecting the Encoder weights (and thus, $z_e(\\x)$).\n",
    "\n",
    "The Stop Gradient of the Vector Quantization Loss prevents a change in the Encoder weights (and thus, $z_e(\\x)$) from affecting the embeddings.\n",
    "\n",
    "This prevents a feedback loop \n",
    "- Encoder updating $\\z_e(\\x)$ reduces Reconstruction Loss *assuming* embeddings remain constant\n",
    "- But changing Encoder output results in embeddings being updated\n",
    "- So embeddings *do not* remain constant \n",
    "- The net effect may not be a reduction in Reconstruction Loss\n"
   ]
  },
  {
   "cell_type": "markdown",
   "metadata": {
    "slideshow": {
     "slide_type": "subslide"
    }
   },
   "source": [
    "Which parts of the architecture are responsible for each Loss component\n",
    "- The Decoder is responsible for the Reconstruction Loss (through the term $\\tilde{\\x}$\n",
    "- The Encoder (through the term $\\z_e(\\x)$ is responsible for\n",
    "    - The Reconstruction Loss \n",
    "    - The Commitment Loss\n",
    "- The embeddings $\\E$ are updated via the Vector Quantizer Loss\n",
    "    - Does not affect the Encoder or Decoder weights\n",
    "\n",
    "Straight Through Estimation (discussed below) causes the gradient from Reconstruction Loss to \"by-pass\" $\\E$\n",
    "- effectively, for the purpose of gradient/weight update: \n",
    "$$\\z_q(\\x) = \\z_e(\\x)$$\n",
    "If there were no Vector Quantizer Loss, the Reconstruction Loss would not lead to Embeddings $\\E$ being updated\n"
   ]
  },
  {
   "cell_type": "markdown",
   "metadata": {
    "slideshow": {
     "slide_type": "subslide"
    }
   },
   "source": [
    "Loss function\n",
    "\n",
    "$$\\begin{array} \\\\\n",
    "\\loss(\\x, \\decoder(\\e)) & = & || \\x − \\decoder(\\e)||_2^2 & \\text{Reconstruction Loss} \\\\\n",
    "& & + ||\\text{sg}[\\encoder(x)] − \\e||_2^2  & \\text{VQ loss, codebook loss: train codebook } \\e \\\\\n",
    "& & + β||\\text{sg}[\\e] − \\encoder(\\x)||_2^2 & \\text{Commitment Loss: force } E(\\x) \\text{  to be close to codebook entries} \\\\\n",
    "& &\\text{where } \n",
    "\\e = \\z_q(\\x)\n",
    "\\end{array}\n",
    "$$\n",
    "\n",
    "Need the stop gradient operator $\\text{sg}$ to control the mutual dependence\n",
    "- of $\\encoder(\\x)$ and $\\e$"
   ]
  },
  {
   "cell_type": "markdown",
   "metadata": {
    "slideshow": {
     "slide_type": "slide"
    }
   },
   "source": [
    "# Straight-through Estimation and the Stop Gradient operator sg\n",
    "\n",
    "Gradient Descent is the algorithm that we use to find values for a model's weights that minimize the model's Loss Function.\n",
    "\n",
    "Recall: it works by recursively (backwards from head to input) layer by layer\n",
    "- updating the partial of the Loss with respect to the layer's inputs\n",
    "    - respectively: the partial of the Loss with respect to each operation"
   ]
  },
  {
   "cell_type": "markdown",
   "metadata": {
    "slideshow": {
     "slide_type": "subslide"
    }
   },
   "source": [
    "But there is a problem in the Quantization operation\n",
    "- argmin is not differentiable !\n",
    "- it is not continuous at the point that its value switches between $k$ and $k' \\ne k$\n",
    "    - For example,\n",
    "        - Non-unique arguments: when $\\e_k = \\e_{k'}$ for $k \\ne k'$\n",
    "        - small changes in the arguments cause a change from $k$ to $k'$"
   ]
  },
  {
   "cell_type": "markdown",
   "metadata": {
    "slideshow": {
     "slide_type": "subslide"
    }
   },
   "source": [
    "The non-differentiability of certain operators led to the creation of the Stop Gradient operator `sg`\n",
    "\n",
    "\n",
    "$$\n",
    "\\begin{array} \\\\\n",
    "\\text{sg}(\\x) & = & \\x \\\\\n",
    "\\frac{\\partial \\, \\text{sg}(\\x)}{\\partial \\y} & = & 0 & \\text{for all } \\y \\\\\n",
    "\\end{array}\n",
    "$$\n",
    "\n",
    "It is the identity operation on the Forward pass.\n",
    "\n",
    "But on the Backward pass (Gradient Descent) it treats its argument as if it were a constant.\n"
   ]
  },
  {
   "cell_type": "markdown",
   "metadata": {
    "slideshow": {
     "slide_type": "subslide"
    }
   },
   "source": [
    "## Straight through estimation\n",
    "\n",
    "The Stop Gradient operator can be used in conjunction with *Straight Through Estimation*.\n",
    "\n",
    "Let's recall the definition of the Loss Gradient\n",
    "\n",
    "Let\n",
    "$$\\loss'_\\llp = \\frac{\\partial \\loss}{\\partial \\y_\\llp}$$ \n",
    "denote the derivative of $\\loss$ with respect to the output of layer $\\ll$, i.e., $\\y_\\llp$.\n",
    "\n",
    "This is called the **loss gradient**.\n",
    "- although we state this with respect to a \"layer-ed\" architecture this is for notational convenience only\n",
    "- the same if true if we replace \"layer\" with \"operator\" whose input is denoted $\\y_{(\\ll-1)}$ and output denoted $\\y_\\llp$"
   ]
  },
  {
   "cell_type": "markdown",
   "metadata": {
    "slideshow": {
     "slide_type": "subslide"
    }
   },
   "source": [
    "Back propagation inductively updates the Loss Gradient from the output of layer $\\ll$ to its inputs (e.g., prior layer's output $\\y_{(\\ll-1)}$)\n",
    "- Given $\\loss'_\\llp$\n",
    "- Compute $\\loss'_{(\\ll-1)}$\n",
    "- Using the chain rule\n",
    "\n",
    "$$\n",
    "\\begin{array}[lll] \\\\\n",
    "\\loss'_{(\\ll-1)} & = & \\frac{\\partial \\loss}{\\partial \\y_{(\\ll-1)}} \\\\\n",
    "         & = & \\frac{\\partial \\loss}{\\partial \\y_\\llp} \\frac{\\partial \\y_\\llp}{\\partial \\y_{(\\ll-1)}} \\\\\n",
    "         & = & \\loss'_\\llp \\frac{\\partial \\y_\\llp}{\\partial \\y_{(\\ll-1)}}\n",
    "\\end{array}\n",
    "$$\n",
    "\n",
    "The loss gradient \"flows backward\", from $\\y_{(L+1)}$ to $\\y_{(1)}$.\n",
    "\n",
    "This is referred to as the *backward pass*."
   ]
  },
  {
   "cell_type": "markdown",
   "metadata": {
    "slideshow": {
     "slide_type": "subslide"
    }
   },
   "source": [
    "That is:\n",
    "- the upstream Loss Gradient $\\loss'_\\llp$\n",
    "- is modulated by the local gradient $\\frac{\\partial \\y_\\llp}{\\partial \\y_{(\\ll-1)}}$\n",
    "- where the \"layer\" is the operation transforming input $\\y_{(\\ll-1)}$ to output $\\y_\\llp$"
   ]
  },
  {
   "cell_type": "markdown",
   "metadata": {
    "slideshow": {
     "slide_type": "subslide"
    }
   },
   "source": [
    "What happens when the operation implemented by the function that takes $\\y_{(\\ll-1)}$ to $\\y_\\llp$ is either\n",
    "- non-differentiable\n",
    "- or has zero derivative almost everywhere\n",
    "- non-deterministic (e.g., `tf.argmin` when two inputs are identical)\n",
    "\n",
    "This is the case with any type of quantization operation (uses `tf.argmin`) resulting in\n",
    "- $\\frac{\\partial \\y_\\llp}{\\partial \\y_{(\\ll-1)}} = 0$ \n",
    "- and $\\loss'_{(\\ll-1)} = \\loss_\\llp * 0 = 0$\n",
    "\n",
    "So the quantization operation disconnects the gradient flow from the Decoder backwards to the Encoder.\n",
    "- Encoder won't learn"
   ]
  },
  {
   "cell_type": "markdown",
   "metadata": {
    "slideshow": {
     "slide_type": "subslide"
    }
   },
   "source": [
    "Hence, the notion of a Straight Through Estimator is developed\n",
    "- identity operation on forward pass\n",
    "- with local derivation $\\frac{\\partial \\y_\\llp}{\\partial \\y_{(\\ll-1)}}$ **defined** to be equal to $1$"
   ]
  },
  {
   "cell_type": "markdown",
   "metadata": {
    "slideshow": {
     "slide_type": "subslide"
    }
   },
   "source": [
    "We see this in\n",
    "the [Colab](https://keras.io/examples/generative/vq_vae/) \n",
    "implementation of Vector Quantization (the\n",
    "`VectorQuantizer` layer)\n",
    "```\n",
    "class VectorQuantizer(layers.Layer):\n",
    "...\n",
    "    def call(self, x):\n",
    "...\n",
    "        # Straight-through estimator.\n",
    "        quantized = x + tf.stop_gradient(quantized - x)\n",
    "```\n",
    "Code similar to the [`VectorQuantizer` of the paper's authors](https://github.com/deepmind/sonnet/blob/v1/sonnet/python/modules/nets/vqvae.py)"
   ]
  },
  {
   "cell_type": "markdown",
   "metadata": {
    "slideshow": {
     "slide_type": "subslide"
    }
   },
   "source": [
    "The last line is a [\"straight through estimator\"](https://www.hassanaskary.com/python/pytorch/deep%20learning/2020/09/19/intuitive-explanation-of-straight-through-estimators.html)\n",
    "- On the forward pass: identity assignment `quantized = quantized`\n",
    "- On the backward pass, the Loss gradient is passed through unchanged from upstream\n",
    "    - i.e, from output (the tensor `quantizer`) to the *layer input* (denoted by formal parameters `x`, don't confuse it with the VQ-VAE's input)\n",
    "    - this is because the `tf.stop_gradient` causes the enclosed expression to be treated as a constant\n",
    "        - hence will contribute $0$ to the loss gradient back propagation\n",
    "        "
   ]
  },
  {
   "cell_type": "markdown",
   "metadata": {
    "slideshow": {
     "slide_type": "subslide"
    }
   },
   "source": [
    "So\n",
    "- `tf.stop_gradient` **kills** the gradient along one path\n",
    "- the Straight Through Estimator passes it through unchanged"
   ]
  },
  {
   "cell_type": "markdown",
   "metadata": {
    "slideshow": {
     "slide_type": "subslide"
    }
   },
   "source": [
    "In the VQ-VAE, straight through estimation\n",
    "- passes the gradient from the Decoder input back to the Encoder outputs\n",
    "- ignoring the quantization\n",
    "- allowing the Encoder to adapt to reduce Reconstruction Loss"
   ]
  },
  {
   "cell_type": "markdown",
   "metadata": {
    "slideshow": {
     "slide_type": "slide"
    }
   },
   "source": [
    "# Learning the distribution of latents\n",
    "\n",
    "For a VAE, we assume a functional form for the prior distribution of latents  $\\qr{\\z}$\n",
    "- usually Normal\n",
    "\n",
    "The authors wish to do away with an assumption of the prior distribution $\\qr{\\z}$.\n",
    "\n",
    "Retaining spatial/temporal dimensions in $\\z_q(\\x)$ is key to achieving this goal.b\n"
   ]
  },
  {
   "cell_type": "markdown",
   "metadata": {
    "slideshow": {
     "slide_type": "subslide"
    }
   },
   "source": [
    "The authors *flatten* the spatial/temporal dimensions\n",
    "- Assume (for example) a two dimensional $\\mathbf{Z}$ with $h$ rows and $w$ columns\n",
    "- $\\mathbf{Z}^\\ip_j$ denotes the vector of length $D$ at row $i$, column $j$ of $\\mathbf{Z}$\n",
    "- Flatten $\\mathbf{Z}$ into a *sequence* $[\\z_1, \\z_2, ... ]$\n",
    "    - where $\\z_k$ is the quantization of $\\mathbf{Z}^{(r)}_c$\n",
    "        - for $r = \\text{int}( \\frac{k}{w}), c = (k \\mod w)$\n",
    "\n",
    "\n"
   ]
  },
  {
   "cell_type": "markdown",
   "metadata": {
    "slideshow": {
     "slide_type": "subslide"
    }
   },
   "source": [
    "The authors then learn an autoregressive model for sequences\n",
    "\n",
    "$$\n",
    "\\pr{\\z_{k+1} | \\z_1, \\ldots, \\z_k }\n",
    "$$\n",
    "\n",
    "by using some Autoregressive model (e.g, PixelCNN) to predict $\\z_k$ from its predecessors.\n"
   ]
  },
  {
   "cell_type": "markdown",
   "metadata": {
    "slideshow": {
     "slide_type": "subslide"
    }
   },
   "source": [
    "The Autoressive model\n",
    "- learns $\\z_k$.  Doesn't assume what type of distribution it comes from\n",
    "- can be sampled\n",
    "    - seed the model with $\\z_1$, generate the rest of the sequence\n",
    "    - append predicted $\\z_k$ to sequence upon which $\\z_{k+1}$ is conditioned\n",
    "- Is trained *subsequent* to learning the Embeddings\n",
    "    - future research: learn them jointly\n",
    "\n",
    "Thus, adding the Autoregressive step facilitates generating new sample sequences from\n",
    "which to generate synthetic examples."
   ]
  },
  {
   "cell_type": "code",
   "execution_count": 2,
   "metadata": {
    "slideshow": {
     "slide_type": "slide"
    }
   },
   "outputs": [
    {
     "name": "stdout",
     "output_type": "stream",
     "text": [
      "Done\n"
     ]
    }
   ],
   "source": [
    "print(\"Done\")"
   ]
  }
 ],
 "metadata": {
  "celltoolbar": "Slideshow",
  "kernelspec": {
   "display_name": "Python 3",
   "language": "python",
   "name": "python3"
  },
  "language_info": {
   "codemirror_mode": {
    "name": "ipython",
    "version": 3
   },
   "file_extension": ".py",
   "mimetype": "text/x-python",
   "name": "python",
   "nbconvert_exporter": "python",
   "pygments_lexer": "ipython3",
   "version": "3.7.4"
  },
  "toc": {
   "base_numbering": 1,
   "nav_menu": {},
   "number_sections": true,
   "sideBar": true,
   "skip_h1_title": false,
   "title_cell": "Table of Contents",
   "title_sidebar": "Contents",
   "toc_cell": false,
   "toc_position": {
    "height": "calc(100% - 180px)",
    "left": "10px",
    "top": "150px",
    "width": "369.594px"
   },
   "toc_section_display": true,
   "toc_window_display": true
  }
 },
 "nbformat": 4,
 "nbformat_minor": 2
}
