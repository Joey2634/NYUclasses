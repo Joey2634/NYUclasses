{
 "cells": [
  {
   "cell_type": "code",
   "execution_count": 1,
   "metadata": {
    "slideshow": {
     "slide_type": "notes"
    }
   },
   "outputs": [
    {
     "data": {
      "text/latex": [
       "$$\n",
       "\\newcommand{\\x}{\\mathbf{x}}\n",
       "\\newcommand{\\tx}{\\tilde{\\x}}\n",
       "\\newcommand{\\y}{\\mathbf{y}}\n",
       "\\newcommand{\\b}{\\mathbf{b}}\n",
       "\\newcommand{\\c}{\\mathbf{c}}\n",
       "\\newcommand{\\e}{\\mathbf{e}}\n",
       "\\newcommand{\\z}{\\mathbf{z}}\n",
       "\\newcommand{\\h}{\\mathbf{h}}\n",
       "\\newcommand{\\u}{\\mathbf{u}}\n",
       "\\newcommand{\\v}{\\mathbf{v}}\n",
       "\\newcommand{\\w}{\\mathbf{w}}\n",
       "\\newcommand{\\W}{\\mathbf{W}}\n",
       "\\newcommand{\\X}{\\mathbf{X}}\n",
       "\\newcommand{\\KL}{\\mathbf{KL}}\n",
       "\\newcommand{\\E}{{\\mathbb{E}}}\n",
       "\\newcommand{\\ip}{\\mathbf{{(i)}}}\n",
       "%\n",
       "% Test set\n",
       "\\newcommand{\\xt}{\\underline{\\x}}\n",
       "\\newcommand{\\yt}{\\underline{\\y}}\n",
       "\\newcommand{\\Xt}{\\underline{\\X}}\n",
       "\\newcommand{\\perfm}{\\mathcal{P}}\n",
       "%\n",
       "% \\ll indexes a layer; we can change the actual letter\n",
       "\\newcommand{\\ll}{l}\n",
       "\\newcommand{\\llp}{{(\\ll)}}\n",
       "%\n",
       "\\newcommand{Thetam}{\\Theta_{-0}}\n",
       "\n",
       "% CNN\n",
       "\\newcommand{\\kernel}{\\mathbf{k}} \n",
       "\\newcommand{\\dim}{d}\n",
       "\\newcommand{\\idxspatial}{{\\text{idx}}}\n",
       "\\newcommand{\\summaxact}{\\text{max}}\n",
       "%\n",
       "%\n",
       "\n",
       "% RNN\n",
       "% \\tt indexes a time step\n",
       "\\newcommand{\\tt}{t}\n",
       "\\newcommand{\\tp}{{(\\tt)}}\n",
       "%\n",
       "%\n",
       "\n",
       "% LSTM\n",
       "\\newcommand{\\g}{\\mathbf{g}}\n",
       "\\newcommand{\\remember}{\\mathbf{remember}}\n",
       "\\newcommand{\\save}{\\mathbf{save}}\n",
       "\\newcommand{\\focus}{\\mathbf{focus}}\n",
       "%\n",
       "%\n",
       "% NLP\n",
       "\\newcommand{\\Vocab}{\\mathbf{V}}\n",
       "\\newcommand{\\v}{\\mathbf{v}}\n",
       "\\newcommand{\\offset}{o}\n",
       "\\newcommand{\\o}{o}\n",
       "\\newcommand{\\E}{\\mathbf{E}}\n",
       "%\n",
       "%\n",
       "\\newcommand{\\loss}{\\mathcal{L}}\n",
       "\\newcommand{\\cost}{\\mathcal{L}}\n",
       "%\n",
       "%                     \n",
       "\\newcommand{\\pdata}{p_\\text{data}}\n",
       "\\newcommand{\\pmodel}{p_\\text{model}}\n",
       "%\n",
       "% SVM\n",
       "\\newcommand{\\margin}{{\\mathbb{m}}}\n",
       "\\newcommand{\\lmk}{\\boldsymbol{\\ell}}\n",
       "%\n",
       "% Functions with arguments\n",
       "\\def\\xsy#1#2{#1^#2}\n",
       "\\def\\rand#1{\\tilde{#1}}\n",
       "\\def\\randx{\\rand{\\x}}\n",
       "\\def\\randy{\\rand{\\y}}\n",
       "\\def\\trans#1{\\dot{#1}}\n",
       "\\def\\transx{\\trans{\\x}}\n",
       "\\def\\transy{\\trans{\\y}}\n",
       "%\n",
       "\\def\\argmax#1{\\underset{#1} {\\operatorname{argmax}} }\n",
       "\\def\\argmin#1{\\underset{#1} {\\operatorname{argmin}} }\n",
       "\\def\\max#1{\\underset{#1} {\\operatorname{max}} }\n",
       "\\def\\min#1{\\underset{#1} {\\operatorname{min}} }\n",
       "%\n",
       "\\def\\pr#1{\\mathcal{p}(#1)}\n",
       "\\def\\prc#1#2{\\mathcal{p}(#1 \\; | \\; #2)}\n",
       "\\def\\cnt#1{\\mathcal{count}_{#1}}\n",
       "\\def\\node#1{\\mathbb{#1}}\n",
       "%\n",
       "\\newcommand{\\floor}[1]{\\left\\lfloor #1 \\right\\rfloor}\n",
       "\\newcommand{\\ceil}[1]{\\left\\lceil #1 \\right\\rceil}\n",
       "%\n",
       "\\def\\loc#1{{\\text{##} {#1}}}\n",
       "%\n",
       "$$\n"
      ],
      "text/plain": [
       "<IPython.core.display.Latex object>"
      ]
     },
     "metadata": {},
     "output_type": "display_data"
    }
   ],
   "source": [
    "%run Latex_macros.ipynb\n",
    "%run beautify_plots.py"
   ]
  },
  {
   "cell_type": "code",
   "execution_count": 2,
   "metadata": {
    "slideshow": {
     "slide_type": "notes"
    }
   },
   "outputs": [],
   "source": [
    "# My standard magic !  You will see this in almost all my notebooks.\n",
    "\n",
    "from IPython.core.interactiveshell import InteractiveShell\n",
    "InteractiveShell.ast_node_interactivity = \"all\"\n",
    "\n",
    "# Reload all modules imported with %aimport\n",
    "%load_ext autoreload\n",
    "%autoreload 1\n",
    "\n",
    "%matplotlib inline"
   ]
  },
  {
   "cell_type": "code",
   "execution_count": 3,
   "metadata": {
    "slideshow": {
     "slide_type": "notes"
    }
   },
   "outputs": [],
   "source": [
    "import numpy as np\n",
    "import pandas as pd\n",
    "import matplotlib.pyplot as plt\n",
    "\n",
    "from sklearn import svm, pipeline\n",
    "from sklearn.preprocessing import PolynomialFeatures\n",
    "\n",
    "import training_models_helper as tmh\n",
    "%aimport training_models_helper\n",
    "\n",
    "tm = tmh.TrainingModelsHelper()\n",
    "\n",
    "import svm_helper\n",
    "%aimport svm_helper\n",
    "svmh = svm_helper.SVM_Helper()\n",
    "\n",
    "kn = tmh.KNN_Helper()\n",
    "\n",
    "import transform_helper\n",
    "%aimport transform_helper\n",
    "\n",
    "th = transform_helper.Transformation_Helper()\n",
    "\n",
    "iph = transform_helper.InfluentialPoints_Helper()\n",
    "\n",
    "import svm_helper\n",
    "%aimport svm_helper\n",
    "svmh = svm_helper.SVM_Helper()"
   ]
  },
  {
   "cell_type": "markdown",
   "metadata": {
    "slideshow": {
     "slide_type": "slide"
    }
   },
   "source": [
    "# Transformations\n",
    "\n",
    "It is often the case that the \"raw\" features given to us don't lead to an adequately successful model\n",
    "- We may need to create \"synthetic\" features.  \n",
    "- Or filter out existing features\n",
    "- This is called **feature engineering**.\n",
    "\n",
    "Knowing how to perform feature engineering is a key skill of a Data Scientist."
   ]
  },
  {
   "cell_type": "markdown",
   "metadata": {
    "slideshow": {
     "slide_type": "subslide"
    }
   },
   "source": [
    "As motivation, consider a Binary Classification task\n",
    "- Examples have a single numeric feature $\\x_1$\n",
    "- Target $\\y$ in classes Positive and Negative\n",
    "    - encoded as 1 and 0\n",
    "\n",
    "It should be clear from the plot that the classes are not linearly separable."
   ]
  },
  {
   "cell_type": "code",
   "execution_count": 4,
   "metadata": {
    "slideshow": {
     "slide_type": "subslide"
    }
   },
   "outputs": [
    {
     "data": {
      "image/png": "[encoded data removed]",
      "text/plain": [
       "<Figure size 864x432 with 1 Axes>"
      ]
     },
     "execution_count": 4,
     "metadata": {},
     "output_type": "execute_result"
    }
   ],
   "source": [
    "th = transform_helper.Transformation_Helper()\n",
    "fig_raw, ax_raw, fig_trans, ax_trans = th.LinearSeparate_1d_example(max_val=10, num_examples=50, visible=False)\n",
    "\n",
    "fig_raw"
   ]
  },
  {
   "cell_type": "markdown",
   "metadata": {
    "slideshow": {
     "slide_type": "subslide"
    }
   },
   "source": [
    "But consider the simple transformation that adds a second synthetic feature $\\x_2$\n",
    "- $\\x_2 = \\x_1^2$"
   ]
  },
  {
   "cell_type": "code",
   "execution_count": 5,
   "metadata": {
    "slideshow": {
     "slide_type": "subslide"
    }
   },
   "outputs": [
    {
     "data": {
      "image/png": "[encoded data removed]",
      "text/plain": [
       "<Figure size 864x432 with 1 Axes>"
      ]
     },
     "execution_count": 5,
     "metadata": {},
     "output_type": "execute_result"
    }
   ],
   "source": [
    "fig_trans"
   ]
  },
  {
   "cell_type": "markdown",
   "metadata": {
    "slideshow": {
     "slide_type": "subslide"
    }
   },
   "source": [
    "The transformed examples are now linearly separable."
   ]
  },
  {
   "cell_type": "markdown",
   "metadata": {
    "slideshow": {
     "slide_type": "subslide"
    }
   },
   "source": [
    "Or consider trying to fit a linear model to the following data"
   ]
  },
  {
   "cell_type": "code",
   "execution_count": 6,
   "metadata": {
    "slideshow": {
     "slide_type": "notes"
    }
   },
   "outputs": [],
   "source": [
    "sph = transform_helper.ShiftedPrice_Helper()\n",
    "series_over_time = sph.gen_data()\n",
    "\n",
    "fig, ax = plt.subplots(1,1, figsize=(12,6) )\n",
    "_= sph.plot_data(series_over_time, ax=ax)\n",
    "plt.close(fig)\n",
    "\n",
    "figu, axu = plt.subplots(1,1, figsize=(12,6) )\n",
    "_= sph.plot_data(series_over_time, ax=axu, nolabels=True)\n",
    "plt.close(figu)\n"
   ]
  },
  {
   "cell_type": "code",
   "execution_count": 7,
   "metadata": {
    "slideshow": {
     "slide_type": "subslide"
    }
   },
   "outputs": [
    {
     "data": {
      "image/png": "[encoded data removed]",
      "text/plain": [
       "<Figure size 864x432 with 1 Axes>"
      ]
     },
     "execution_count": 7,
     "metadata": {},
     "output_type": "execute_result"
    }
   ],
   "source": [
    "figu"
   ]
  },
  {
   "cell_type": "markdown",
   "metadata": {
    "slideshow": {
     "slide_type": "subslide"
    }
   },
   "source": [
    "We could fit a linear model but: is it a coincidence that there seem to be two clusters of examples ?\n",
    "\n",
    "In fact not, as will be made clear by labeling the examples"
   ]
  },
  {
   "cell_type": "code",
   "execution_count": 8,
   "metadata": {
    "slideshow": {
     "slide_type": "subslide"
    }
   },
   "outputs": [
    {
     "data": {
      "image/png": "[encoded data removed]",
      "text/plain": [
       "<Figure size 864x432 with 1 Axes>"
      ]
     },
     "execution_count": 8,
     "metadata": {},
     "output_type": "execute_result"
    }
   ],
   "source": [
    "fig"
   ]
  },
  {
   "cell_type": "markdown",
   "metadata": {
    "slideshow": {
     "slide_type": "subslide"
    }
   },
   "source": [
    "The two clusters are, in fact, examples observed at different times\n",
    "- It looks like there are *two* linear relationships\n",
    "- Which vary with time"
   ]
  },
  {
   "cell_type": "markdown",
   "metadata": {
    "slideshow": {
     "slide_type": "subslide"
    }
   },
   "source": [
    "Fitting a linear model to the (raw) pooled data is an unsatisfying compromise:\n",
    "- It's right on average (pooled) but poor for each cluster in isolation.\n",
    "\n",
    "Can we do better ?"
   ]
  },
  {
   "cell_type": "markdown",
   "metadata": {
    "slideshow": {
     "slide_type": "subslide"
    }
   },
   "source": [
    "Also: Recall the Fundamental Principle of Machine Learning\n",
    "- The training and test examples come from the same distribution\n",
    "\n",
    "The examples from each cluster appear to be from different distributions\n",
    "- The model will have poor in-sample performance (\"compromise\")\n",
    "- It's likely that the out of sample performance will also be poor\n",
    "\n",
    "The likely root cause ?  A missing feature."
   ]
  },
  {
   "cell_type": "markdown",
   "metadata": {
    "slideshow": {
     "slide_type": "subslide"
    }
   },
   "source": [
    "One prime motivation for Transformations\n",
    "- Is to take examples that look different on the surface\n",
    "- And transform them so that they look similar\n",
    "    - create the missing feature\n",
    "\n",
    "Examples are often a scarce resource in Machine Learning\n",
    "- Transformations are a way of increasing the number of applicable examples\n",
    "    - Pooling over time, geography, type"
   ]
  },
  {
   "cell_type": "markdown",
   "metadata": {
    "slideshow": {
     "slide_type": "subslide"
    }
   },
   "source": [
    "Illustration\n",
    "- Look different: Prices vary with time (inflation)\n",
    "    - Make them similar: re-denominate prices as multiples of contemporaneous \"cost of living\"\n",
    "- Look different: Prices vary with location\n",
    "    - Make them similar: re-denominate prices as multiples of contemporaneous \"cost of living\"\n",
    "- Look different: Some stocks trade for \\\\$10/share, others for \\\\$1000/share\n",
    "    - Make them similar: consider returns (percentage price changes) rather than price\n",
    "- Look different: Options on shares that trade for \\\\$10/share, others for \\\\$1000/share\n",
    "    - Make them similar: re-denominate into \"moneyness\" (ratio of Share price to Strike price)\n",
    "    "
   ]
  },
  {
   "cell_type": "markdown",
   "metadata": {
    "slideshow": {
     "slide_type": "subslide"
    }
   },
   "source": [
    "We focus on the process of transforming raw examples into a form that\n",
    "facilitates successful modeling.\n",
    "\n",
    "We broaden the  term *Transformation* to include\n",
    "- Cleaning\n",
    "- Numericalization of non-numeric features/targets\n",
    "- Scaling\n",
    "\n",
    "(These are distinct steps in the Recipe, but have similar API)"
   ]
  },
  {
   "cell_type": "markdown",
   "metadata": {
    "slideshow": {
     "slide_type": "subslide"
    }
   },
   "source": [
    "<table>\n",
    "    <tr>\n",
    "        <th><center>Recipe for Machine Learning</center></th>\n",
    "    </tr>\n",
    "    <tr>\n",
    "        <td><img src=\"images/W1_L3_S4_ML_Process.png\" width=\"100%\"></td>\n",
    "    </tr>\n",
    "</table>\n",
    "​"
   ]
  },
  {
   "cell_type": "markdown",
   "metadata": {
    "slideshow": {
     "slide_type": "subslide"
    }
   },
   "source": [
    "Our focus is mainly on the **why** rather than the **how**\n",
    "\n",
    "Let's briefly review the *how*:\n",
    "- [Mechanics of transformations](Transformations_Mechanics.ipynb)\n",
    "\n",
    "For a refresher on implementation in `sklearn`\n",
    "- Revisit our previous module [Coding transformations in `sklearn`](Transformations_Pipelines.ipynb))\n"
   ]
  },
  {
   "cell_type": "markdown",
   "metadata": {
    "slideshow": {
     "slide_type": "slide"
    }
   },
   "source": [
    "# The why's of transformations\n",
    "\n",
    "We illustrate several useful types of transformations below.\n",
    "\n",
    "This is organized more as a \"case study\" than a taxonomy.\n",
    "- Many transformations have multiple uses, making a hard taxonomy difficult\n"
   ]
  },
  {
   "cell_type": "markdown",
   "metadata": {
    "slideshow": {
     "slide_type": "slide"
    }
   },
   "source": [
    "## Making the data fit your model's assumptions\n",
    "\n",
    "Some models work under the assumption that there is a linear relationship between features and the target.\n",
    "\n",
    "When this assumption doesn't hold, the \"fit\" is sub-optimal (prediction error)\n",
    "\n",
    "Sometimes: transformations can induce linearity\n",
    "- Add a squared term to make Linear Regression fit the \"curvy\" dataset better\n",
    "- Changing the target to log odds to enable Linear Regression to work for Classification tasks\n",
    "\n",
    "Let's visit the notebook section [Inducing linearity](Transformations.ipynb#Linearity-inducing-transformations:-Making-data-fit-your-model)"
   ]
  },
  {
   "cell_type": "markdown",
   "metadata": {
    "slideshow": {
     "slide_type": "slide"
    }
   },
   "source": [
    "## Missing numeric feature\n",
    "\n",
    "Sometimes, your examples have all the \"information\" you need, but in the wrong form.\n",
    "\n",
    "Creating new \"synthetic\" features from raw features is one way of making this information\n",
    "available to the model.\n",
    "\n",
    "Let's visit the notebook section [Missing numeric feature](Transformations.ipynb#Transformation-to-add-a-%22missing%22-numeric-feature)"
   ]
  },
  {
   "cell_type": "markdown",
   "metadata": {
    "slideshow": {
     "slide_type": "subslide"
    }
   },
   "source": [
    "## Missing categorical feature: \"group\" indicator\n",
    "\n",
    "**identical up to an additive constant**\n",
    "\n",
    "There is a more subtle case of a missing feature\n",
    "- Examples that naturally partition into sub-groups\n",
    "\n",
    "The sub-groups might be examples that come from similar geographies or points in time."
   ]
  },
  {
   "cell_type": "markdown",
   "metadata": {
    "slideshow": {
     "slide_type": "subslide"
    }
   },
   "source": [
    "The key is that\n",
    "- The relationship between target and features is *almost identical* between groups\n",
    "- With the exception of a constant shift\n",
    "    \n",
    "Adding indicator/dummy variables as new features to indicate sub-group membership may be a solution\n",
    "\n",
    "Let's visit the notebook section [Missing Categorical Feature](Transformations.ipynb#Transformation-to-add-a-%22missing%22-categorical-feature)"
   ]
  },
  {
   "cell_type": "markdown",
   "metadata": {
    "slideshow": {
     "slide_type": "slide"
    }
   },
   "source": [
    "## Cross features\n",
    "\n",
    "We witnessed the power of a simple indicator feature to isolate differences between groups of\n",
    "examples.\n",
    "\n",
    "It is possible to\n",
    "- Create multiple indicator features\n",
    "- Create indicator features that are the *product* of other indicators\n",
    "\n",
    "This is called a *cross feature* and is a powerful way to isolate complicated sub-groups of examples.\n",
    "\n",
    "Let's visit the notebook section [Cross features](Transformations.ipynb#Cross-features)\n"
   ]
  },
  {
   "cell_type": "markdown",
   "metadata": {
    "slideshow": {
     "slide_type": "slide"
    }
   },
   "source": [
    "## Scaling\n",
    "\n",
    "There is a class of transformations that alter the *scale* (magnitude) of \n",
    "features or targets.\n",
    "\n",
    "In the Recipe for ML, Scaling is treated as separate from the other transformations.\n",
    "\n",
    "Perhaps this is because scaling is sometimes performed \n",
    "- *Not* strictly because of the relationship between target and features\n",
    "- But because of the mathematics of the *loss function*\n",
    "\n",
    "Let's visit the notebook section [Scale sensitive loss functions](Transformations.ipynb#Scaling)"
   ]
  },
  {
   "cell_type": "markdown",
   "metadata": {
    "slideshow": {
     "slide_type": "slide"
    }
   },
   "source": [
    "## Normalization\n",
    "\n",
    "We will use the term \"normalization\" (non-standard terminology ?) to refer\n",
    "to a transformation that re-scales examples by different amounts\n",
    "- As opposed to traditional \"scaling\" where all examples are scaled equally\n",
    "\n",
    "Let's visit the notebook section [Normalization](Transformations.ipynb#Normalization)"
   ]
  },
  {
   "cell_type": "markdown",
   "metadata": {
    "slideshow": {
     "slide_type": "slide"
    }
   },
   "source": [
    "# Transformed targets: remember to invert your prediction !\n",
    "\n",
    "Suppose you transform your raw training set \n",
    "$$\\langle \\X, \\y \\rangle$$\n",
    "\n",
    "to \n",
    "$$\\langle \\X', \\y' \\rangle$$\n",
    "\n",
    "where $f$ is the transformation applied to targets\n",
    "$$\n",
    "\\y' = f(\\y)\n",
    "$$\n",
    "\n",
    "The units of $\\y$ change from $u$ (e.g., dollars) to $u'$ (e.g., dimensionless z-score)"
   ]
  },
  {
   "cell_type": "markdown",
   "metadata": {
    "slideshow": {
     "slide_type": "subslide"
    }
   },
   "source": [
    "Then your model's predictions\n",
    "$$\n",
    "\\hat{\\y'}\n",
    "$$\n",
    "are in units of $u'$ **not** $u$.\n",
    "\n",
    "You must **invert** the transformed predicted target $\\hat{\\y'}$ back to units of $u$\n",
    "$$\n",
    "\\hat{\\y} = f^{-1} ( \\hat{\\y'} )\n",
    "$$\n",
    "\n",
    "For example\n",
    "$$\n",
    "\\y \\mapsto \\frac{\\y - \\mu}{\\sigma}\n",
    "$$\n",
    "where $\\mu, \\sigma$ are the mean and standard deviation of the *training* examples $\\y$\n",
    "\n",
    "Then\n",
    "$$\n",
    "\\hat{\\y'} \\mapsto \\sigma * \\hat{\\y'} + \\mu\n",
    "$$\n",
    "\n",
    "`sklearn` transformers provide an `inverse_transform` method to facilitate this."
   ]
  },
  {
   "cell_type": "markdown",
   "metadata": {
    "slideshow": {
     "slide_type": "slide"
    }
   },
   "source": [
    "# Other transformations\n",
    "\n",
    "The continuation of the linked notebook describes more transformations, listed below.\n",
    "\n",
    "We encourage you to study these.\n",
    "\n",
    "We especially recommend the section [Feature engineering example](Transformations.ipynb#Feature-engineering-example:-Geron-Housing-Data)\n",
    "which is a worked example from one of the recommend textbooks.\n",
    "\n",
    "**Other transformations**\n",
    "\n",
    "- [Normality inducing transformaton](Transformations.ipynb#Normality-inducing-transformations)\n",
    "-  [Categorical variable transformation](Transformations.ipynb#Categorical-transformation) \n",
    "- [Transformations to induce normality](Transformations.ipynb#Normality-inducing-transformations)\n",
    "- [Other transformation](Transformations.ipynb#Other-transformations)"
   ]
  },
  {
   "cell_type": "code",
   "execution_count": 9,
   "metadata": {
    "slideshow": {
     "slide_type": "slide"
    }
   },
   "outputs": [
    {
     "name": "stdout",
     "output_type": "stream",
     "text": [
      "Done\n"
     ]
    }
   ],
   "source": [
    "print(\"Done\")"
   ]
  }
 ],
 "metadata": {
  "celltoolbar": "Slideshow",
  "kernelspec": {
   "display_name": "Python 3",
   "language": "python",
   "name": "python3"
  },
  "language_info": {
   "codemirror_mode": {
    "name": "ipython",
    "version": 3
   },
   "file_extension": ".py",
   "mimetype": "text/x-python",
   "name": "python",
   "nbconvert_exporter": "python",
   "pygments_lexer": "ipython3",
   "version": "3.7.4"
  },
  "toc": {
   "base_numbering": 1,
   "nav_menu": {},
   "number_sections": true,
   "sideBar": true,
   "skip_h1_title": false,
   "title_cell": "Table of Contents",
   "title_sidebar": "Contents",
   "toc_cell": false,
   "toc_position": {
    "height": "calc(100% - 180px)",
    "left": "10px",
    "top": "150px",
    "width": "369px"
   },
   "toc_section_display": true,
   "toc_window_display": true
  }
 },
 "nbformat": 4,
 "nbformat_minor": 2
}
