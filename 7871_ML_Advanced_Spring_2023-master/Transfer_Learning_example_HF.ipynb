{
  "cells": [
    {
      "cell_type": "markdown",
      "metadata": {
        "id": "O0SPaq6pA-C-"
      },
      "source": [
        "Ken Perry attribution\n",
        "- The following code is adapted from the Course (as of late May 2022) example notebook `Fine_tune_HuggingFace_model_in_Keras_with_plain_datasets.ipynb`\n",
        "- Change dataset to Financial Phrasebank\n",
        "  - The \"official\" version of the data is hidden behind a download linke\n",
        "  - To use it, you need to\n",
        "   - go to the link, manually download it to your local machine\n",
        "   - upload it to the `/content` directory on Colab\n",
        "  - I give an alternate source, with more examples\n",
        "\n",
        "Fine-tune a HF DistlBERT model on Financial Phrasebank\n",
        "- create **custom model** consisting of HF DistilBERT **plus own classification head**\n",
        "- evaluatate accuracy before and after fine-tuning\n",
        "- create HF DistilBERT model complete with it's own head from HF\n",
        "- experiment with datasets along the way\n",
        "- Financial Phrasebank dataset can be sourced in the code in two ways\n",
        "  - as a HF dataset\n",
        "  - directly from author's website, but we must perform preprocessing\n",
        "\n",
        "In creating own head\n",
        "- had to observe shape of DistilBERT output `x`\n",
        "  - `x['last_hidden_state']`\n",
        "  - sequence (of length of no. of tokens of input)\n",
        "  - each element of sequence is of size $d_\\text{model} = 768$\n",
        "  - token 0 corresponds to the `[CLS]` token\n",
        "  - so my head accesses the sequence position of `[CLS]`: x['last_hidden_state'][:, 0, :]\n",
        "    - first dim. is batch, 0 is first position, : is vector of length 768\n",
        "\n",
        "In using the HF model with head\n",
        "- had to observe that output are **logits** not *probabilities*\n",
        "  - so had to convert to probability or just simply take largets count\n"
      ]
    },
    {
      "cell_type": "code",
      "execution_count": 1,
      "metadata": {
        "colab": {
          "base_uri": "https://localhost:8080/"
        },
        "id": "2bqCgWJUZe7_",
        "outputId": "761ed7b3-f40f-4a62-91eb-b7756d6cbab8"
      },
      "outputs": [
        {
          "output_type": "stream",
          "name": "stdout",
          "text": [
            "We're running Colab\n"
          ]
        }
      ],
      "source": [
        "try:\n",
        "  from google.colab import drive\n",
        "  IN_COLAB=True\n",
        "except:\n",
        "  IN_COLAB=False\n",
        "\n",
        "if IN_COLAB:\n",
        "  print(\"We're running Colab\")"
      ]
    },
    {
      "cell_type": "code",
      "execution_count": 2,
      "metadata": {
        "colab": {
          "base_uri": "https://localhost:8080/"
        },
        "id": "cHLfx-H7Zok1",
        "outputId": "a89ed3c7-64ed-4aaa-85e1-f774803ea13c"
      },
      "outputs": [
        {
          "output_type": "stream",
          "name": "stdout",
          "text": [
            "Running TensorFlow version  2.11.0\n",
            "Version 2, minor 11\n"
          ]
        }
      ],
      "source": [
        "import tensorflow as tf\n",
        "\n",
        "print(\"Running TensorFlow version \",tf.__version__)\n",
        "\n",
        "# Parse tensorflow version\n",
        "import re\n",
        "\n",
        "version_match = re.match(\"([0-9]+)\\.([0-9]+)\", tf.__version__)\n",
        "tf_major, tf_minor = int(version_match.group(1)) , int(version_match.group(2))\n",
        "print(\"Version {v:d}, minor {m:d}\".format(v=tf_major, m=tf_minor) )"
      ]
    },
    {
      "cell_type": "code",
      "execution_count": 3,
      "metadata": {
        "colab": {
          "base_uri": "https://localhost:8080/"
        },
        "id": "efciYF7yZqCd",
        "outputId": "64d27f35-a2a7-469b-f36e-9c91e55ad00f"
      },
      "outputs": [
        {
          "output_type": "stream",
          "name": "stdout",
          "text": [
            "Using GPU\n"
          ]
        }
      ],
      "source": [
        "gpu_devices = tf.config.experimental.list_physical_devices('GPU')\n",
        "if gpu_devices:\n",
        "    print('Using GPU')\n",
        "    tf.config.experimental.set_memory_growth(gpu_devices[0], True)\n",
        "else:\n",
        "    print('Using CPU')"
      ]
    },
    {
      "cell_type": "code",
      "execution_count": 4,
      "metadata": {
        "id": "5MNvRM7JcoKg"
      },
      "outputs": [],
      "source": [
        "import tensorflow as tf\n",
        "from tensorflow import keras\n",
        "from tensorflow.keras import layers\n",
        "\n",
        "import numpy as np"
      ]
    },
    {
      "cell_type": "markdown",
      "metadata": {
        "id": "A0HBx9cl0LqC"
      },
      "source": [
        "# Make sure required packages are installed\n",
        "- vast.ai does not have some packages that are commonly installed in Colab, etc."
      ]
    },
    {
      "cell_type": "code",
      "execution_count": 5,
      "metadata": {
        "id": "IUwkW7YV0LqC"
      },
      "outputs": [],
      "source": [
        "# Derived from: https://stackoverflow.com/a/44210735\n",
        "\n",
        "import pkg_resources\n",
        "\n",
        "required = {'scikit-learn'}\n",
        "installed = {pkg.key for pkg in pkg_resources.working_set}\n",
        "missing = required - installed\n",
        "\n",
        "if missing:\n",
        "    python = sys.executable\n",
        "    subprocess.check_call([python, '-m', 'pip', 'install', *missing], stdout=subprocess.DEVNULL)\n",
        "\n"
      ]
    },
    {
      "cell_type": "code",
      "execution_count": 6,
      "metadata": {
        "colab": {
          "base_uri": "https://localhost:8080/"
        },
        "id": "2QPmH_fHN3e4",
        "outputId": "d8730c95-7c3b-4656-d218-06216a3f21d5"
      },
      "outputs": [
        {
          "output_type": "stream",
          "name": "stdout",
          "text": [
            "Looking in indexes: https://pypi.org/simple, https://us-python.pkg.dev/colab-wheels/public/simple/\n",
            "Collecting transformers\n",
            "  Downloading transformers-4.27.0-py3-none-any.whl (6.8 MB)\n",
            "\u001b[2K     \u001b[90m━━━━━━━━━━━━━━━━━━━━━━━━━━━━━━━━━━━━━━━━\u001b[0m \u001b[32m6.8/6.8 MB\u001b[0m \u001b[31m14.3 MB/s\u001b[0m eta \u001b[36m0:00:00\u001b[0m\n",
            "\u001b[?25hRequirement already satisfied: regex!=2019.12.17 in /usr/local/lib/python3.9/dist-packages (from transformers) (2022.6.2)\n",
            "Requirement already satisfied: requests in /usr/local/lib/python3.9/dist-packages (from transformers) (2.25.1)\n",
            "Requirement already satisfied: numpy>=1.17 in /usr/local/lib/python3.9/dist-packages (from transformers) (1.22.4)\n",
            "Collecting tokenizers!=0.11.3,<0.14,>=0.11.1\n",
            "  Downloading tokenizers-0.13.2-cp39-cp39-manylinux_2_17_x86_64.manylinux2014_x86_64.whl (7.6 MB)\n",
            "\u001b[2K     \u001b[90m━━━━━━━━━━━━━━━━━━━━━━━━━━━━━━━━━━━━━━━━\u001b[0m \u001b[32m7.6/7.6 MB\u001b[0m \u001b[31m29.1 MB/s\u001b[0m eta \u001b[36m0:00:00\u001b[0m\n",
            "\u001b[?25hCollecting huggingface-hub<1.0,>=0.11.0\n",
            "  Downloading huggingface_hub-0.13.2-py3-none-any.whl (199 kB)\n",
            "\u001b[2K     \u001b[90m━━━━━━━━━━━━━━━━━━━━━━━━━━━━━━━━━━━━━━\u001b[0m \u001b[32m199.2/199.2 KB\u001b[0m \u001b[31m11.3 MB/s\u001b[0m eta \u001b[36m0:00:00\u001b[0m\n",
            "\u001b[?25hRequirement already satisfied: packaging>=20.0 in /usr/local/lib/python3.9/dist-packages (from transformers) (23.0)\n",
            "Requirement already satisfied: filelock in /usr/local/lib/python3.9/dist-packages (from transformers) (3.9.0)\n",
            "Requirement already satisfied: pyyaml>=5.1 in /usr/local/lib/python3.9/dist-packages (from transformers) (6.0)\n",
            "Requirement already satisfied: tqdm>=4.27 in /usr/local/lib/python3.9/dist-packages (from transformers) (4.65.0)\n",
            "Requirement already satisfied: typing-extensions>=3.7.4.3 in /usr/local/lib/python3.9/dist-packages (from huggingface-hub<1.0,>=0.11.0->transformers) (4.5.0)\n",
            "Requirement already satisfied: urllib3<1.27,>=1.21.1 in /usr/local/lib/python3.9/dist-packages (from requests->transformers) (1.26.15)\n",
            "Requirement already satisfied: idna<3,>=2.5 in /usr/local/lib/python3.9/dist-packages (from requests->transformers) (2.10)\n",
            "Requirement already satisfied: certifi>=2017.4.17 in /usr/local/lib/python3.9/dist-packages (from requests->transformers) (2022.12.7)\n",
            "Requirement already satisfied: chardet<5,>=3.0.2 in /usr/local/lib/python3.9/dist-packages (from requests->transformers) (4.0.0)\n",
            "Installing collected packages: tokenizers, huggingface-hub, transformers\n",
            "Successfully installed huggingface-hub-0.13.2 tokenizers-0.13.2 transformers-4.27.0\n"
          ]
        }
      ],
      "source": [
        "!pip install transformers"
      ]
    },
    {
      "cell_type": "code",
      "execution_count": 7,
      "metadata": {
        "colab": {
          "base_uri": "https://localhost:8080/"
        },
        "id": "9AM81BikOM97",
        "outputId": "f50ea32d-1662-4ad7-bf05-3a254d28253a"
      },
      "outputs": [
        {
          "output_type": "stream",
          "name": "stdout",
          "text": [
            "Looking in indexes: https://pypi.org/simple, https://us-python.pkg.dev/colab-wheels/public/simple/\n",
            "Collecting datasets\n",
            "  Downloading datasets-2.10.1-py3-none-any.whl (469 kB)\n",
            "\u001b[2K     \u001b[90m━━━━━━━━━━━━━━━━━━━━━━━━━━━━━━━━━━━━━━\u001b[0m \u001b[32m469.0/469.0 KB\u001b[0m \u001b[31m12.3 MB/s\u001b[0m eta \u001b[36m0:00:00\u001b[0m\n",
            "\u001b[?25hCollecting aiohttp\n",
            "  Downloading aiohttp-3.8.4-cp39-cp39-manylinux_2_17_x86_64.manylinux2014_x86_64.whl (1.0 MB)\n",
            "\u001b[2K     \u001b[90m━━━━━━━━━━━━━━━━━━━━━━━━━━━━━━━━━━━━━━━━\u001b[0m \u001b[32m1.0/1.0 MB\u001b[0m \u001b[31m51.0 MB/s\u001b[0m eta \u001b[36m0:00:00\u001b[0m\n",
            "\u001b[?25hRequirement already satisfied: pyarrow>=6.0.0 in /usr/local/lib/python3.9/dist-packages (from datasets) (9.0.0)\n",
            "Requirement already satisfied: tqdm>=4.62.1 in /usr/local/lib/python3.9/dist-packages (from datasets) (4.65.0)\n",
            "Collecting multiprocess\n",
            "  Downloading multiprocess-0.70.14-py39-none-any.whl (132 kB)\n",
            "\u001b[2K     \u001b[90m━━━━━━━━━━━━━━━━━━━━━━━━━━━━━━━━━━━━━━\u001b[0m \u001b[32m132.9/132.9 KB\u001b[0m \u001b[31m16.4 MB/s\u001b[0m eta \u001b[36m0:00:00\u001b[0m\n",
            "\u001b[?25hRequirement already satisfied: packaging in /usr/local/lib/python3.9/dist-packages (from datasets) (23.0)\n",
            "Collecting xxhash\n",
            "  Downloading xxhash-3.2.0-cp39-cp39-manylinux_2_17_x86_64.manylinux2014_x86_64.whl (212 kB)\n",
            "\u001b[2K     \u001b[90m━━━━━━━━━━━━━━━━━━━━━━━━━━━━━━━━━━━━━━\u001b[0m \u001b[32m212.2/212.2 KB\u001b[0m \u001b[31m20.5 MB/s\u001b[0m eta \u001b[36m0:00:00\u001b[0m\n",
            "\u001b[?25hCollecting responses<0.19\n",
            "  Downloading responses-0.18.0-py3-none-any.whl (38 kB)\n",
            "Requirement already satisfied: fsspec[http]>=2021.11.1 in /usr/local/lib/python3.9/dist-packages (from datasets) (2023.3.0)\n",
            "Requirement already satisfied: numpy>=1.17 in /usr/local/lib/python3.9/dist-packages (from datasets) (1.22.4)\n",
            "Requirement already satisfied: huggingface-hub<1.0.0,>=0.2.0 in /usr/local/lib/python3.9/dist-packages (from datasets) (0.13.2)\n",
            "Requirement already satisfied: requests>=2.19.0 in /usr/local/lib/python3.9/dist-packages (from datasets) (2.25.1)\n",
            "Requirement already satisfied: pyyaml>=5.1 in /usr/local/lib/python3.9/dist-packages (from datasets) (6.0)\n",
            "Collecting dill<0.3.7,>=0.3.0\n",
            "  Downloading dill-0.3.6-py3-none-any.whl (110 kB)\n",
            "\u001b[2K     \u001b[90m━━━━━━━━━━━━━━━━━━━━━━━━━━━━━━━━━━━━━━\u001b[0m \u001b[32m110.5/110.5 KB\u001b[0m \u001b[31m12.8 MB/s\u001b[0m eta \u001b[36m0:00:00\u001b[0m\n",
            "\u001b[?25hRequirement already satisfied: pandas in /usr/local/lib/python3.9/dist-packages (from datasets) (1.4.4)\n",
            "Collecting aiosignal>=1.1.2\n",
            "  Downloading aiosignal-1.3.1-py3-none-any.whl (7.6 kB)\n",
            "Collecting multidict<7.0,>=4.5\n",
            "  Downloading multidict-6.0.4-cp39-cp39-manylinux_2_17_x86_64.manylinux2014_x86_64.whl (114 kB)\n",
            "\u001b[2K     \u001b[90m━━━━━━━━━━━━━━━━━━━━━━━━━━━━━━━━━━━━━━━\u001b[0m \u001b[32m114.2/114.2 KB\u001b[0m \u001b[31m9.2 MB/s\u001b[0m eta \u001b[36m0:00:00\u001b[0m\n",
            "\u001b[?25hCollecting async-timeout<5.0,>=4.0.0a3\n",
            "  Downloading async_timeout-4.0.2-py3-none-any.whl (5.8 kB)\n",
            "Collecting yarl<2.0,>=1.0\n",
            "  Downloading yarl-1.8.2-cp39-cp39-manylinux_2_17_x86_64.manylinux2014_x86_64.whl (264 kB)\n",
            "\u001b[2K     \u001b[90m━━━━━━━━━━━━━━━━━━━━━━━━━━━━━━━━━━━━━━\u001b[0m \u001b[32m264.6/264.6 KB\u001b[0m \u001b[31m15.1 MB/s\u001b[0m eta \u001b[36m0:00:00\u001b[0m\n",
            "\u001b[?25hRequirement already satisfied: attrs>=17.3.0 in /usr/local/lib/python3.9/dist-packages (from aiohttp->datasets) (22.2.0)\n",
            "Collecting frozenlist>=1.1.1\n",
            "  Downloading frozenlist-1.3.3-cp39-cp39-manylinux_2_5_x86_64.manylinux1_x86_64.manylinux_2_17_x86_64.manylinux2014_x86_64.whl (158 kB)\n",
            "\u001b[2K     \u001b[90m━━━━━━━━━━━━━━━━━━━━━━━━━━━━━━━━━━━━━━\u001b[0m \u001b[32m158.8/158.8 KB\u001b[0m \u001b[31m15.8 MB/s\u001b[0m eta \u001b[36m0:00:00\u001b[0m\n",
            "\u001b[?25hCollecting charset-normalizer<4.0,>=2.0\n",
            "  Downloading charset_normalizer-3.1.0-cp39-cp39-manylinux_2_17_x86_64.manylinux2014_x86_64.whl (199 kB)\n",
            "\u001b[2K     \u001b[90m━━━━━━━━━━━━━━━━━━━━━━━━━━━━━━━━━━━━━━\u001b[0m \u001b[32m199.2/199.2 KB\u001b[0m \u001b[31m20.6 MB/s\u001b[0m eta \u001b[36m0:00:00\u001b[0m\n",
            "\u001b[?25hRequirement already satisfied: filelock in /usr/local/lib/python3.9/dist-packages (from huggingface-hub<1.0.0,>=0.2.0->datasets) (3.9.0)\n",
            "Requirement already satisfied: typing-extensions>=3.7.4.3 in /usr/local/lib/python3.9/dist-packages (from huggingface-hub<1.0.0,>=0.2.0->datasets) (4.5.0)\n",
            "Requirement already satisfied: idna<3,>=2.5 in /usr/local/lib/python3.9/dist-packages (from requests>=2.19.0->datasets) (2.10)\n",
            "Requirement already satisfied: urllib3<1.27,>=1.21.1 in /usr/local/lib/python3.9/dist-packages (from requests>=2.19.0->datasets) (1.26.15)\n",
            "Requirement already satisfied: certifi>=2017.4.17 in /usr/local/lib/python3.9/dist-packages (from requests>=2.19.0->datasets) (2022.12.7)\n",
            "Requirement already satisfied: chardet<5,>=3.0.2 in /usr/local/lib/python3.9/dist-packages (from requests>=2.19.0->datasets) (4.0.0)\n",
            "Requirement already satisfied: pytz>=2020.1 in /usr/local/lib/python3.9/dist-packages (from pandas->datasets) (2022.7.1)\n",
            "Requirement already satisfied: python-dateutil>=2.8.1 in /usr/local/lib/python3.9/dist-packages (from pandas->datasets) (2.8.2)\n",
            "Requirement already satisfied: six>=1.5 in /usr/local/lib/python3.9/dist-packages (from python-dateutil>=2.8.1->pandas->datasets) (1.15.0)\n",
            "Installing collected packages: xxhash, multidict, frozenlist, dill, charset-normalizer, async-timeout, yarl, responses, multiprocess, aiosignal, aiohttp, datasets\n",
            "Successfully installed aiohttp-3.8.4 aiosignal-1.3.1 async-timeout-4.0.2 charset-normalizer-3.1.0 datasets-2.10.1 dill-0.3.6 frozenlist-1.3.3 multidict-6.0.4 multiprocess-0.70.14 responses-0.18.0 xxhash-3.2.0 yarl-1.8.2\n"
          ]
        }
      ],
      "source": [
        "!pip install  datasets\n",
        "from datasets import load_dataset\n",
        "\n"
      ]
    },
    {
      "cell_type": "markdown",
      "metadata": {
        "id": "sVunly1cUS8A"
      },
      "source": [
        "# We can source the Financial Phrasebank dataset from several places\n",
        "- HuggingFace\n",
        "- the authors\n",
        "  - requires downloading and preprocessing (implemented below)"
      ]
    },
    {
      "cell_type": "code",
      "execution_count": 8,
      "metadata": {
        "id": "6aa-Q2FNGVpH"
      },
      "outputs": [],
      "source": [
        "financial_phrasebank_src =  \"HuggingFace\" # \"author\"\n",
        "\n",
        "dataset_name = \"financial_phrasebank\"\n",
        "subset_name = 'sentences_allagree'\n",
        "\n",
        "# Mapping of numeric labels to string\n",
        "label_to_int = { 'negative': 0, 'neutral': 1, 'positive': 2}\n",
        "\n",
        "# Dataset keys\n",
        "(text_hdr, label_hdr) = (\"sentence\", \"label\")\n",
        "\n",
        "from datasets import load_dataset"
      ]
    },
    {
      "cell_type": "code",
      "execution_count": 9,
      "metadata": {
        "colab": {
          "base_uri": "https://localhost:8080/",
          "height": 249,
          "referenced_widgets": [
            "5237068516b845fea2e47dd47ef6e8d8",
            "40c67c122e544803815cf951a3c18c84",
            "9fce0ccd11ef4fef9602690b057da2a9",
            "b1324c7469ef404782b6a391efdeff9e",
            "bf019c06c3174c90a522974069167609",
            "c59f32b0eef4470a8bed8853286fee70",
            "ef29b4e5f9bc4d399d94859376e28532",
            "f71162b968634440a5d7d2c8e9ba50e1",
            "35bcec3e3a744985a87afe32f4f826e8",
            "5604d04a9c094b97afeccb16197e8640",
            "d08bd703063e46ef90f7185f2658be1b",
            "39e630e41acc4c23a9422c1f9315ecf8",
            "2c5f4d78302b42b082718936bea2789a",
            "937c10920e804eb8b1495804240574c4",
            "9a7c804264f64e8db941e842c90846c2",
            "b35ad8fafdc045b4985162aa83447efc",
            "bd3acd4877c94a73aef6ffb0b07c78ac",
            "c2c7232c43fb4488971914e6c725b971",
            "c35ff3a4fd20445f816c979e901ee807",
            "185a843cfa4146bbb47ac046be1f9b5a",
            "38120c5d614d435d8bcca41b9809a956",
            "fb28b2090dba4834975a31a119e9e72f",
            "51cf6edb68934eaaa27ccea972581eae",
            "1aa74057ae7347aa8833720bf681c682",
            "69f2b77813c945f99dcc01fd1ba1cf12",
            "0126ca57312a40dd9288f56bae025f56",
            "b5e7ffeaa62743599b9fabe84ae6ba89",
            "4ea2ed1fb3e942afab58e9cf29050fe5",
            "1a2bee275a4b48738f0a4e2982ecf30f",
            "50fa464363e34dbca8d08b6853fb4d14",
            "ca01f28ab1714a58be16e6beeb2b72e6",
            "645bc8c1f0614a0a8dcd2b25ead04b54",
            "976d562d35e5475cace91721db055112",
            "8dbb145829bf44f986ac2a85e396eb83",
            "899bd42aefcc4222a9d18b4bfdd5466d",
            "91b3b7e19f734f5c829f25140f970e83",
            "2227f3a7e8a74a5e9ebdce0264c7cc4c",
            "84e8e2ded612442b82273d08569b6367",
            "84fe9aa5007147bc8f3de02aa39cc233",
            "85a1f501a5ae422dbab08df6b63978fc",
            "22776003c89e40be80a0289b0b875a83",
            "bd29ea1b569d457b892a26886e51b1d5",
            "ca4c7df095ba45f089c88c62fd0b9a7b",
            "f6bf8345442349ed8903b1f30395f2a6",
            "3d46c91713504f568b8d37f0f134d804",
            "af56744fcbeb417ba8aaa705b95a896f",
            "b9760e739f4e4db28b5ad214142931ae",
            "f89d38024ac6412b9f3058d59e5ec16f",
            "d4c0ab903fff4ba394a4425a056a0424",
            "eba74edee89d445a8b47df8c3ce578a9",
            "73bce0ca9c7d4629bb418cf25a75089f",
            "3e25f8e05186473188b0ca1e7c0cbffa",
            "07585c07cbef4a59b94679d64b98840c",
            "71093706a5e64593aaa1f2d58f8db0d1",
            "1b8509df6f3b4b8d8961a25454c63d99",
            "fae20f3871fd41ab85c4fd024b6bbec3",
            "9d7d200d31fa4dcfa4507840b40fb7f0",
            "99db6045fe004ad8b5af475eb30c4176",
            "03bf7e3c06f942b3a0ca637f50efa29c",
            "4ff28d79124e4500a06eedddc59d8ba2",
            "f7d2c7d56bf548b4a6ecfd81805507b5",
            "8fae8d215bd24b54bb4c03b53d17192a",
            "d2c5041606b84433859f9cc68d975d70",
            "b88f5cfadae445d894663a5cbf8bb88c",
            "ce3f923466004f2ea15f7ba5a6caa576",
            "f74d2e48a3924391b4f5c905beb8dabd"
          ]
        },
        "id": "p8-7OsLrGdXr",
        "outputId": "18828abd-b8cf-4505-b685-87730e351b00"
      },
      "outputs": [
        {
          "output_type": "stream",
          "name": "stdout",
          "text": [
            "Obtaining dataset 'financial_phrasebank', subset 'sentences_allagree' from HuggingFace\n"
          ]
        },
        {
          "output_type": "display_data",
          "data": {
            "text/plain": [
              "Downloading builder script:   0%|          | 0.00/6.04k [00:00<?, ?B/s]"
            ],
            "application/vnd.jupyter.widget-view+json": {
              "version_major": 2,
              "version_minor": 0,
              "model_id": "5237068516b845fea2e47dd47ef6e8d8"
            }
          },
          "metadata": {}
        },
        {
          "output_type": "display_data",
          "data": {
            "text/plain": [
              "Downloading metadata:   0%|          | 0.00/13.7k [00:00<?, ?B/s]"
            ],
            "application/vnd.jupyter.widget-view+json": {
              "version_major": 2,
              "version_minor": 0,
              "model_id": "39e630e41acc4c23a9422c1f9315ecf8"
            }
          },
          "metadata": {}
        },
        {
          "output_type": "display_data",
          "data": {
            "text/plain": [
              "Downloading readme:   0%|          | 0.00/8.86k [00:00<?, ?B/s]"
            ],
            "application/vnd.jupyter.widget-view+json": {
              "version_major": 2,
              "version_minor": 0,
              "model_id": "51cf6edb68934eaaa27ccea972581eae"
            }
          },
          "metadata": {}
        },
        {
          "output_type": "stream",
          "name": "stdout",
          "text": [
            "Downloading and preparing dataset financial_phrasebank/sentences_allagree to /root/.cache/huggingface/datasets/financial_phrasebank/sentences_allagree/1.0.0/550bde12e6c30e2674da973a55f57edde5181d53f5a5a34c1531c53f93b7e141...\n"
          ]
        },
        {
          "output_type": "display_data",
          "data": {
            "text/plain": [
              "Downloading data:   0%|          | 0.00/682k [00:00<?, ?B/s]"
            ],
            "application/vnd.jupyter.widget-view+json": {
              "version_major": 2,
              "version_minor": 0,
              "model_id": "8dbb145829bf44f986ac2a85e396eb83"
            }
          },
          "metadata": {}
        },
        {
          "output_type": "display_data",
          "data": {
            "text/plain": [
              "Generating train split:   0%|          | 0/2264 [00:00<?, ? examples/s]"
            ],
            "application/vnd.jupyter.widget-view+json": {
              "version_major": 2,
              "version_minor": 0,
              "model_id": "3d46c91713504f568b8d37f0f134d804"
            }
          },
          "metadata": {}
        },
        {
          "output_type": "stream",
          "name": "stdout",
          "text": [
            "Dataset financial_phrasebank downloaded and prepared to /root/.cache/huggingface/datasets/financial_phrasebank/sentences_allagree/1.0.0/550bde12e6c30e2674da973a55f57edde5181d53f5a5a34c1531c53f93b7e141. Subsequent calls will reuse this data.\n"
          ]
        },
        {
          "output_type": "display_data",
          "data": {
            "text/plain": [
              "  0%|          | 0/1 [00:00<?, ?it/s]"
            ],
            "application/vnd.jupyter.widget-view+json": {
              "version_major": 2,
              "version_minor": 0,
              "model_id": "fae20f3871fd41ab85c4fd024b6bbec3"
            }
          },
          "metadata": {}
        }
      ],
      "source": [
        "if financial_phrasebank_src == \"HuggingFace\":\n",
        "  print(f\"Obtaining dataset '{dataset_name}', subset '{subset_name}' from {financial_phrasebank_src}\")\n",
        "  dataset = load_dataset(dataset_name, subset_name)\n"
      ]
    },
    {
      "cell_type": "code",
      "execution_count": 10,
      "metadata": {
        "id": "sx3_JZDlG94f"
      },
      "outputs": [],
      "source": [
        "if financial_phrasebank_src == \"author\":\n",
        "  print(f\"Obtaining dataset '{dataset_name}', subset '{subset_name}' from {financial_phrasebank_src}\")\n",
        " \n",
        "  dataset_downlolad_url = \"https://www.researchgate.net/publication/251231364_FinancialPhraseBank-v10/link/0c96051eee4fb1d56e000000/download\"\n",
        "  dataset_zipfile_url = \"https://www.researchgate.net/profile/Pekka_Malo/publication/251231364_FinancialPhraseBank-v10/data/0c96051eee4fb1d56e000000/FinancialPhraseBank-v10.zip\"\n",
        "\n",
        "  download_path = \"/content/FinancialPhraseBank-v1.0.zip\"\n",
        "\n",
        "  # The dataset seems to be hidden behind a `download` link (`dataset_downlolad_url`). \n",
        "  # Invoke the link (`dataset_download_url`) manually to get the zip file instead\n",
        "  # - this will download it to local machine\n",
        "  # - then upload to the `/content` directory on Colab\n",
        "\n",
        "  import os\n",
        "\n",
        "  if not os.path.exists(download_path):\n",
        "    print(\"You must manually go to the URL: \", dataset_zipfile_url, \"\\n\\tdownload the file and upload it to Colab\")\n",
        "    # !wget $dataset_zipfile_url\n",
        "\n",
        "    unzipped_dir=download_path.replace(\".zip\", \"\")\n",
        "    unzipped_file=os.path.join(unzipped_dir, \"Sentences_AllAgree.txt\")\n",
        "\n",
        "\n",
        "  if not os.path.exists(unzipped_file):\n",
        "    ! unzip $download_path\n",
        "\n",
        "  print(\"Loading: \", unzipped_file)\n",
        "\n",
        "  # Unfortunately, the unzipped file is not encoded as utf-8, so `load_dataset` failes when it encounters a non-Unicode character.\n",
        "\n",
        "  # Can read it as a CSV file by passing the proper encoding argument and separator.\n",
        "  # Then write it back out as a CSV file in \"standard\" encoding.\n",
        "\n",
        "  import pandas as pd\n",
        "  df = pd.read_csv(unzipped_file, encoding='latin1', delimiter='@', header=None)\n",
        "\n",
        "  unzipped_file_mod = unzipped_file.replace(\".txt\", \"_mod.csv\")\n",
        "\n",
        "  df.to_csv(unzipped_file_mod, sep=\"\\t\", header=[text_hdr, label_hdr], index=None)\n",
        "\n",
        "  # Finally: can load the dataset from the modified CSV file\n",
        "  raw_datasets = load_dataset(\"csv\", data_files=unzipped_file_mod, delimiter=\"\\t\")\n",
        "\n",
        "  def process_example(example):\n",
        "    text, label = example[text_hdr], example[label_hdr]\n",
        "\n",
        "    # Replace label with integer:\n",
        "    label_int = label_to_int[label]\n",
        "\n",
        "    return { text_hdr: text, label_hdr: label_int }\n",
        "\n",
        "  dataset = raw_datasets.map(process_example)\n"
      ]
    },
    {
      "cell_type": "code",
      "execution_count": 11,
      "metadata": {
        "colab": {
          "base_uri": "https://localhost:8080/"
        },
        "id": "mlrZzaKXd3cB",
        "outputId": "4cbeca0d-2e35-4d43-c287-3568856dfe94"
      },
      "outputs": [
        {
          "output_type": "execute_result",
          "data": {
            "text/plain": [
              "DatasetDict({\n",
              "    train: Dataset({\n",
              "        features: ['sentence', 'label'],\n",
              "        num_rows: 2264\n",
              "    })\n",
              "})"
            ]
          },
          "metadata": {},
          "execution_count": 11
        }
      ],
      "source": [
        "dataset"
      ]
    },
    {
      "cell_type": "code",
      "execution_count": 12,
      "metadata": {
        "colab": {
          "base_uri": "https://localhost:8080/"
        },
        "id": "Iw4OjvYreASH",
        "outputId": "923f7c5d-1146-4c50-a3e6-9c9a529f6fbf"
      },
      "outputs": [
        {
          "output_type": "execute_result",
          "data": {
            "text/plain": [
              "{'sentence': ['According to Gran , the company has no plans to move all production to Russia , although that is where the company is growing .',\n",
              "  \"For the last quarter of 2010 , Componenta 's net sales doubled to EUR131m from EUR76m for the same period a year earlier , while it moved to a zero pre-tax profit from a pre-tax loss of EUR7m .\"],\n",
              " 'label': [1, 2]}"
            ]
          },
          "metadata": {},
          "execution_count": 12
        }
      ],
      "source": [
        "dataset[\"train\"][:2]"
      ]
    },
    {
      "cell_type": "markdown",
      "metadata": {
        "id": "XwvPDlrP-vDd"
      },
      "source": [
        "# Re-using a `DistilBert` model with a task specific Classifer head\n",
        "\n",
        "`BERT` is a *very large* Language Model.\n",
        "\n",
        "`DistilBert` is a *much smaller* model obtained from `BERT` via a process known as distillation\n"
      ]
    },
    {
      "cell_type": "markdown",
      "metadata": {
        "id": "yW7Qof4seAFb"
      },
      "source": [
        "Let's take a look at the model configuration of each model"
      ]
    },
    {
      "cell_type": "code",
      "execution_count": 13,
      "metadata": {
        "colab": {
          "base_uri": "https://localhost:8080/"
        },
        "id": "1xYoZOUfdcD6",
        "outputId": "c1d17519-22af-45e3-bf3a-6aa84cb99611"
      },
      "outputs": [
        {
          "output_type": "execute_result",
          "data": {
            "text/plain": [
              "DistilBertConfig {\n",
              "  \"activation\": \"gelu\",\n",
              "  \"attention_dropout\": 0.1,\n",
              "  \"dim\": 768,\n",
              "  \"dropout\": 0.1,\n",
              "  \"hidden_dim\": 3072,\n",
              "  \"initializer_range\": 0.02,\n",
              "  \"max_position_embeddings\": 512,\n",
              "  \"model_type\": \"distilbert\",\n",
              "  \"n_heads\": 12,\n",
              "  \"n_layers\": 6,\n",
              "  \"pad_token_id\": 0,\n",
              "  \"qa_dropout\": 0.1,\n",
              "  \"seq_classif_dropout\": 0.2,\n",
              "  \"sinusoidal_pos_embds\": false,\n",
              "  \"transformers_version\": \"4.27.0\",\n",
              "  \"vocab_size\": 30522\n",
              "}"
            ]
          },
          "metadata": {},
          "execution_count": 13
        }
      ],
      "source": [
        "from transformers import DistilBertConfig, BertConfig\n",
        "\n",
        "DistilBertConfig()"
      ]
    },
    {
      "cell_type": "code",
      "execution_count": 14,
      "metadata": {
        "colab": {
          "base_uri": "https://localhost:8080/"
        },
        "id": "lroC-HmkeSDA",
        "outputId": "5521da1f-a060-4b72-ded6-205a552db11f"
      },
      "outputs": [
        {
          "output_type": "execute_result",
          "data": {
            "text/plain": [
              "BertConfig {\n",
              "  \"attention_probs_dropout_prob\": 0.1,\n",
              "  \"classifier_dropout\": null,\n",
              "  \"hidden_act\": \"gelu\",\n",
              "  \"hidden_dropout_prob\": 0.1,\n",
              "  \"hidden_size\": 768,\n",
              "  \"initializer_range\": 0.02,\n",
              "  \"intermediate_size\": 3072,\n",
              "  \"layer_norm_eps\": 1e-12,\n",
              "  \"max_position_embeddings\": 512,\n",
              "  \"model_type\": \"bert\",\n",
              "  \"num_attention_heads\": 12,\n",
              "  \"num_hidden_layers\": 12,\n",
              "  \"pad_token_id\": 0,\n",
              "  \"position_embedding_type\": \"absolute\",\n",
              "  \"transformers_version\": \"4.27.0\",\n",
              "  \"type_vocab_size\": 2,\n",
              "  \"use_cache\": true,\n",
              "  \"vocab_size\": 30522\n",
              "}"
            ]
          },
          "metadata": {},
          "execution_count": 14
        }
      ],
      "source": [
        "BertConfig()"
      ]
    },
    {
      "cell_type": "markdown",
      "metadata": {
        "id": "HEj2pZKe_J9n"
      },
      "source": [
        "A couple of comparisons between the two models\n",
        "- both models produce a sequence of latent vectors (sequence length equal to length of input sequence)\n",
        "- the latent dimension of BERT (`hidden_size`) and `DistilBert` (`dim`) are both 768\n",
        "- the number of layers of BERT ('num_hiden_layers`) is 12; `DistilBert` (`n_layers`) is 6\n",
        "- both has 12 attention heads per layer\n"
      ]
    },
    {
      "cell_type": "markdown",
      "metadata": {
        "id": "2YFBjSd5UFaF"
      },
      "source": [
        "# Instantiating the pre-trained model"
      ]
    },
    {
      "cell_type": "markdown",
      "metadata": {
        "id": "BrL_A_gzGn5q"
      },
      "source": [
        "We are going to adapt `DistilBert` to a new \"Target\" task\n",
        "- `DistilBert` was trained on the Masked Language Modelling task\n",
        "- So the complete model includes a Classification head for that task\n",
        "- Our task is different: Text Sequence Classification\n",
        "- We will therefore invoke a \"headless\" version of the model and graft on our own head\n",
        "  - which will need to be trained\n",
        "\n"
      ]
    },
    {
      "cell_type": "markdown",
      "metadata": {
        "id": "kErzRBqqbafs"
      },
      "source": [
        "By invoking the model with the `*Model` architecture: we get a model that returns (the sequence of) hidden states.  That is: a model without a head.\n",
        "\n",
        "Had we invoked it with the `*AutoModelForSequenceClassification` architecture, we get a model with a *binary* classification head.\n",
        "- But this dataset has *three* classes, so have to design a head with 3 outputs\n"
      ]
    },
    {
      "cell_type": "code",
      "execution_count": 15,
      "metadata": {
        "colab": {
          "base_uri": "https://localhost:8080/",
          "height": 284,
          "referenced_widgets": [
            "a53454fa84f1415dae39cad3562d21c1",
            "d8b9c09708da48898676f0924851613b",
            "430734e9fc9c4818b11a8800267e31ff",
            "550bfb7d505c487fbc3ad728652fab36",
            "65e0b9bc88ff42618f653438f5a00ee0",
            "a29e72800cba47ce9f785a5d55d32979",
            "b86a42c8e8704ed39dd1063d4659ff38",
            "d830431200f4498f894c077bc59c7157",
            "cb98d526e0e44bce80fd74b7672e20fe",
            "d7af34558c564ca38c7c34355baed31f",
            "f8e383c1e3184acf8a216ce25e6ce682",
            "3185f6a7a484403f98855fa640250067",
            "59e2e9d6036c44ada973d0dcdf45b3ec",
            "15ec9e1dd0b94f678c5ca00e05c904df",
            "4957ac344cc14e41bbf0ed3f219bf3e6",
            "77a1081042394407a29c2fb6a519b46a",
            "bfb1170c71c3453eafb26068b2f49a5b",
            "74be904f25074d1c851307fb2c191bc0",
            "91e4605afc824ac5b9adae91949ed154",
            "74e957599497491f939ef54d3cf9162e",
            "ec628269cfff47a4ac4f20d34fb7781c",
            "3cb36918c8e4484a90d1726c4003f7bd",
            "26724b2f473a4ae18163dc1183dae52b",
            "d52c4edbb7004f2194e35ca658e1bf3d",
            "a1ef93417e3844b2ac6634be7a4369d4",
            "088f7be018df458b93419281c823f030",
            "c6bb4b1859bf41c1869c210f0f9f9cef",
            "15830503d1394b569209de9ffce6c1b6",
            "132298b7fb0c44e0928d121e0e4487d4",
            "e676fa50b7ba45759c2741ba69c32631",
            "5a74d77408bb4d32ae55291e6d2c77e1",
            "dfded48cd55a4013a09250a878fb451c",
            "36edf57cb14144cb92b9542bfe1feca0",
            "6e95ee47bc6b449bb8e03198d504a385",
            "682541d5655d4a00a886c64dd9b49c65",
            "a59a52fb16e94164b16e80483cc5d2f9",
            "13aa2620db4a471f9b0357ae88249b24",
            "d3928eb94d984362b4088bb9bb1f75c0",
            "78bd0cfccff64894899345c20dbc50b0",
            "040da855f91d42998dbc613c9efa4fef",
            "0f44a18a1d494c60b11392dbeec564f7",
            "13228bcbf3ae4ef183234479046fbcba",
            "84ca201567514a6d83de9e035ad4c64c",
            "d4850bc438e64ed583e434dd2a28b694",
            "bda479883b784081b73ffe946751bbac",
            "fb2dfb52d7b54a07ba56e93d32606de0",
            "07031da5734049529b44dda841c80ce6",
            "1345810386ee47cc8560c93f914b3cb7",
            "05f9154426ab48858cec226cbab2d84b",
            "c62917ca1119438aa899ada5a4a29286",
            "ee570f7d99dd4465b1ed5fca42985082",
            "6f38331ddf484165a1ab633058728b2f",
            "04cca5c054c04b78acaf080ad3300e87",
            "a748d7dc17b84be2ab03d28faf05609e",
            "d3f2733713ba4fca9c65b812beef5428"
          ]
        },
        "id": "6vAv_3A1N5Ed",
        "outputId": "653ef356-cbcb-4cbe-8b18-44f15037cb79"
      },
      "outputs": [
        {
          "output_type": "display_data",
          "data": {
            "text/plain": [
              "Downloading (…)okenizer_config.json:   0%|          | 0.00/28.0 [00:00<?, ?B/s]"
            ],
            "application/vnd.jupyter.widget-view+json": {
              "version_major": 2,
              "version_minor": 0,
              "model_id": "a53454fa84f1415dae39cad3562d21c1"
            }
          },
          "metadata": {}
        },
        {
          "output_type": "display_data",
          "data": {
            "text/plain": [
              "Downloading (…)solve/main/vocab.txt:   0%|          | 0.00/232k [00:00<?, ?B/s]"
            ],
            "application/vnd.jupyter.widget-view+json": {
              "version_major": 2,
              "version_minor": 0,
              "model_id": "3185f6a7a484403f98855fa640250067"
            }
          },
          "metadata": {}
        },
        {
          "output_type": "display_data",
          "data": {
            "text/plain": [
              "Downloading (…)/main/tokenizer.json:   0%|          | 0.00/466k [00:00<?, ?B/s]"
            ],
            "application/vnd.jupyter.widget-view+json": {
              "version_major": 2,
              "version_minor": 0,
              "model_id": "26724b2f473a4ae18163dc1183dae52b"
            }
          },
          "metadata": {}
        },
        {
          "output_type": "display_data",
          "data": {
            "text/plain": [
              "Downloading (…)lve/main/config.json:   0%|          | 0.00/483 [00:00<?, ?B/s]"
            ],
            "application/vnd.jupyter.widget-view+json": {
              "version_major": 2,
              "version_minor": 0,
              "model_id": "6e95ee47bc6b449bb8e03198d504a385"
            }
          },
          "metadata": {}
        },
        {
          "output_type": "display_data",
          "data": {
            "text/plain": [
              "Downloading tf_model.h5:   0%|          | 0.00/363M [00:00<?, ?B/s]"
            ],
            "application/vnd.jupyter.widget-view+json": {
              "version_major": 2,
              "version_minor": 0,
              "model_id": "bda479883b784081b73ffe946751bbac"
            }
          },
          "metadata": {}
        },
        {
          "output_type": "stream",
          "name": "stderr",
          "text": [
            "Some layers from the model checkpoint at distilbert-base-uncased were not used when initializing TFDistilBertModel: ['vocab_layer_norm', 'vocab_transform', 'vocab_projector', 'activation_13']\n",
            "- This IS expected if you are initializing TFDistilBertModel from the checkpoint of a model trained on another task or with another architecture (e.g. initializing a BertForSequenceClassification model from a BertForPreTraining model).\n",
            "- This IS NOT expected if you are initializing TFDistilBertModel from the checkpoint of a model that you expect to be exactly identical (initializing a BertForSequenceClassification model from a BertForSequenceClassification model).\n",
            "All the layers of TFDistilBertModel were initialized from the model checkpoint at distilbert-base-uncased.\n",
            "If your task is similar to the task the model of the checkpoint was trained on, you can already use TFDistilBertModel for predictions without further training.\n"
          ]
        }
      ],
      "source": [
        "from transformers import DistilBertTokenizerFast, TFDistilBertModel\n",
        "tokenizer = DistilBertTokenizerFast.from_pretrained('distilbert-base-uncased')\n",
        "bert = TFDistilBertModel.from_pretrained(\"distilbert-base-uncased\")"
      ]
    },
    {
      "cell_type": "markdown",
      "metadata": {
        "id": "Sctn2be7UXXP"
      },
      "source": [
        "We get warning messages because\n",
        "- `DistilBert` was trained for Masked Language Modelling and we are invoking a \"headless\" model\n",
        "  - because we need to use it for a different task: Text Sequence Classification"
      ]
    },
    {
      "cell_type": "markdown",
      "metadata": {
        "id": "T0m-vytlOMjb"
      },
      "source": [
        "We will accomplish this by deriving a sub-class of `kera.Model`\n",
        "- that *contains* a `DistilBert` model\n",
        "  - refered to as the \"encoder\"\n",
        "- override the `call` method\n",
        "  - to invoke the encoder\n",
        "  - post-process the output (obtain the encoding of the special `[CLS]` input token\n",
        "  - use the encoding of `[CLS]` as input to a task-specfiic Classifier head"
      ]
    },
    {
      "cell_type": "code",
      "execution_count": 16,
      "metadata": {
        "id": "o6neoUXZcm1E"
      },
      "outputs": [],
      "source": [
        "class TextClassificationModel(keras.Model):\n",
        "  def __init__(self, encoder, train_encoder=True):\n",
        "    super(TextClassificationModel, self).__init__()\n",
        "    self.encoder = encoder\n",
        "    self.encoder.trainable = train_encoder\n",
        "    self.dropout1 = layers.Dropout(0.1)\n",
        "    self.dropout2 = layers.Dropout(0.1)\n",
        "    self.dense1 = layers.Dense(20, activation=\"relu\")\n",
        "    self.dense2 = layers.Dense(3, activation='softmax')\n",
        "  \n",
        "  def call(self, input):\n",
        "    x = self.encoder(input)\n",
        "    x = x['last_hidden_state'][:, 0, :]\n",
        "    x = self.dropout1(x)\n",
        "    x = self.dense1(x)\n",
        "    x = self.dropout2(x)\n",
        "    x = self.dense2(x)\n",
        "    return x"
      ]
    },
    {
      "cell_type": "markdown",
      "metadata": {
        "id": "Ekj1xnOqnb_k"
      },
      "source": [
        "## Alternate way to create a model consisting of Distilbert + a new heads\n",
        "- instead of sub-classing and  overriding `call`\n",
        "- created a new `Functional` model\n",
        "\n",
        "        x = self.encoder(input)\n",
        "        x = x['last_hidden_state'][:, 0, :]\n",
        "        x = self.dropout1(x)\n",
        "        x = self.dense1(x)\n",
        "        x = self.dropout2(x)\n",
        "        outputs = self.dense2(x)\n",
        "\n",
        "        model = tf.keras.Model(inputs=input, outputs=outputs)"
      ]
    },
    {
      "cell_type": "markdown",
      "metadata": {
        "id": "3rJyu6h2rDTM"
      },
      "source": [
        "# Prepare the data\n",
        "- split into train and test datasets\n",
        "- tokenize train and test datasets\n",
        "- create TensorFlow `tf.data.Dataset`"
      ]
    },
    {
      "cell_type": "code",
      "execution_count": 17,
      "metadata": {
        "colab": {
          "base_uri": "https://localhost:8080/"
        },
        "id": "_jSn8L3mfZgi",
        "outputId": "e5e5d528-6416-4484-9786-1c7a252fadca"
      },
      "outputs": [
        {
          "output_type": "execute_result",
          "data": {
            "text/plain": [
              "2264"
            ]
          },
          "metadata": {},
          "execution_count": 17
        }
      ],
      "source": [
        "len( dataset[\"train\"][\"label\"] )"
      ]
    },
    {
      "cell_type": "code",
      "execution_count": 18,
      "metadata": {
        "colab": {
          "base_uri": "https://localhost:8080/"
        },
        "id": "-HhuTCilMQUk",
        "outputId": "8d981d53-d791-4ec4-fb99-d05c8a19f5aa"
      },
      "outputs": [
        {
          "output_type": "execute_result",
          "data": {
            "text/plain": [
              "{0, 1, 2}"
            ]
          },
          "metadata": {},
          "execution_count": 18
        }
      ],
      "source": [
        "set( dataset[\"train\"][\"label\"] )"
      ]
    },
    {
      "cell_type": "code",
      "execution_count": 19,
      "metadata": {
        "colab": {
          "base_uri": "https://localhost:8080/"
        },
        "id": "cIA_QZiRXeoN",
        "outputId": "33537bea-b424-4377-d199-5ef2fd809f0e"
      },
      "outputs": [
        {
          "output_type": "stream",
          "name": "stdout",
          "text": [
            "Target task labels: 0, 1, 2\n"
          ]
        }
      ],
      "source": [
        "target_labels = [ str(_) for _ in list( label_to_int.values() ) ]\n",
        "\n",
        "print(f\"Target task labels: {', '.join(target_labels)}\")\n"
      ]
    },
    {
      "cell_type": "markdown",
      "metadata": {
        "id": "ZfShRJtYft_Z"
      },
      "source": [
        "First try:\n",
        "- place all examples/labels in memory, rather than HF dataset\n",
        "- then tokenize them and place them in a TF Dataset and free memory"
      ]
    },
    {
      "cell_type": "code",
      "execution_count": 20,
      "metadata": {
        "id": "E3ASPwWRfKIH"
      },
      "outputs": [],
      "source": [
        "train_texts, train_labels = dataset[\"train\"][text_hdr], dataset[\"train\"][label_hdr]"
      ]
    },
    {
      "cell_type": "code",
      "execution_count": 21,
      "metadata": {
        "id": "e2ceu8qlfItQ"
      },
      "outputs": [],
      "source": [
        "from sklearn.model_selection import train_test_split\n",
        "train_texts, val_texts, train_labels, val_labels = train_test_split(train_texts, train_labels, test_size=.2)"
      ]
    },
    {
      "cell_type": "code",
      "execution_count": 22,
      "metadata": {
        "colab": {
          "base_uri": "https://localhost:8080/"
        },
        "id": "5I8aMbP0f6HK",
        "outputId": "0b68736b-c124-4940-cca9-0add1011a406"
      },
      "outputs": [
        {
          "output_type": "execute_result",
          "data": {
            "text/plain": [
              "453"
            ]
          },
          "metadata": {},
          "execution_count": 22
        }
      ],
      "source": [
        "len(val_texts)"
      ]
    },
    {
      "cell_type": "code",
      "execution_count": 23,
      "metadata": {
        "id": "kICb5It5gJ1H"
      },
      "outputs": [],
      "source": [
        "train_encodings = tokenizer(train_texts, truncation=True, padding=\"max_length\", max_length=512)\n",
        "val_encodings = tokenizer(val_texts, truncation=True, padding=\"max_length\", max_length=512)"
      ]
    },
    {
      "cell_type": "code",
      "execution_count": 24,
      "metadata": {
        "colab": {
          "base_uri": "https://localhost:8080/"
        },
        "id": "TyLkUtv5gMgX",
        "outputId": "0175358c-8434-4075-ff3c-357e925e3768"
      },
      "outputs": [
        {
          "output_type": "execute_result",
          "data": {
            "text/plain": [
              "transformers.tokenization_utils_base.BatchEncoding"
            ]
          },
          "metadata": {},
          "execution_count": 24
        }
      ],
      "source": [
        "type(train_encodings)"
      ]
    },
    {
      "cell_type": "code",
      "execution_count": 25,
      "metadata": {
        "colab": {
          "base_uri": "https://localhost:8080/"
        },
        "id": "6CuhObe8gS_f",
        "outputId": "473023fe-f5e9-4066-9043-8ef46831f90f"
      },
      "outputs": [
        {
          "output_type": "execute_result",
          "data": {
            "text/plain": [
              "dict_keys(['input_ids', 'attention_mask'])"
            ]
          },
          "metadata": {},
          "execution_count": 25
        }
      ],
      "source": [
        "train_encodings.keys()"
      ]
    },
    {
      "cell_type": "code",
      "execution_count": 26,
      "metadata": {
        "colab": {
          "base_uri": "https://localhost:8080/"
        },
        "id": "8eJIm5zJgdKW",
        "outputId": "358a81f2-3414-4028-de41-9c712218397f"
      },
      "outputs": [
        {
          "output_type": "execute_result",
          "data": {
            "text/plain": [
              "dict"
            ]
          },
          "metadata": {},
          "execution_count": 26
        }
      ],
      "source": [
        "type( dict(train_encodings))"
      ]
    },
    {
      "cell_type": "code",
      "execution_count": 27,
      "metadata": {
        "id": "JWYHSKWEgErY"
      },
      "outputs": [],
      "source": [
        "train_dataset = tf.data.Dataset.from_tensor_slices((\n",
        "    dict(train_encodings),\n",
        "    train_labels\n",
        "))\n",
        "val_dataset = tf.data.Dataset.from_tensor_slices((\n",
        "    dict(val_encodings),\n",
        "    val_labels\n",
        "))"
      ]
    },
    {
      "cell_type": "markdown",
      "metadata": {
        "id": "qYwIK9bih_qE"
      },
      "source": [
        "Free up memory\n",
        "- the data is now in the `tf.data.Datasets`, don't need to keep the original in memory"
      ]
    },
    {
      "cell_type": "code",
      "execution_count": 28,
      "metadata": {
        "id": "1ooBSYZOiGsW"
      },
      "outputs": [],
      "source": [
        "num_train = len(train_texts)\n",
        "\n",
        "del(train_texts)\n",
        "del(val_texts)"
      ]
    },
    {
      "cell_type": "code",
      "execution_count": 29,
      "metadata": {
        "id": "8WeaRLtZidDD"
      },
      "outputs": [],
      "source": [
        "del(train_encodings)\n",
        "del(val_encodings)"
      ]
    },
    {
      "cell_type": "markdown",
      "metadata": {
        "id": "ZgZSG2xiqJlg"
      },
      "source": [
        "# Transfer Learning\n",
        "- Just train the Classification head\n",
        "- **do not** modify the weights of the \"Encoder\" (`DistilBert`) model contained within `text_classification_model`"
      ]
    },
    {
      "cell_type": "markdown",
      "metadata": {
        "id": "6hGeSxQm7HRa"
      },
      "source": [
        "Create `text_classification_model` by adding a trainable Classifiation head to a frozen `DistilBert` model "
      ]
    },
    {
      "cell_type": "code",
      "execution_count": 30,
      "metadata": {
        "id": "RbZ1O2ihgxxX"
      },
      "outputs": [],
      "source": [
        "text_classification_model = TextClassificationModel(bert, train_encoder=False)"
      ]
    },
    {
      "cell_type": "markdown",
      "metadata": {
        "id": "js6l3oNgr6QB"
      },
      "source": [
        "We would like to do `text_classification_model.summary()` right now\n",
        "- but it will fail because \"the model hasn't been built\"\n",
        "  - this means that the size of the inputs are unknown as of yet\n",
        "  - either we invokde `build` on the model and specify the input shape\n",
        "  - or we call the model with some data, thus indicating the input shape\n",
        "    - we do the latter\n",
        "    - create a batched dataset\n",
        "    - process the first batch through the model"
      ]
    },
    {
      "cell_type": "code",
      "execution_count": 31,
      "metadata": {
        "colab": {
          "base_uri": "https://localhost:8080/"
        },
        "id": "w-ROodPmgqvw",
        "outputId": "02ec3f86-df08-4f6e-bafd-07b166cdde1b"
      },
      "outputs": [
        {
          "output_type": "stream",
          "name": "stdout",
          "text": [
            "First batch outputs -- number of examples in batch: 4\n",
            "First batch outputs -- number of classes: 3\n",
            "First batch outputs -- sum of outputs of each row: [1.0000001  0.99999994 1.         1.0000001 ].\n",
            "\n",
            "First batch outputs:\n"
          ]
        },
        {
          "output_type": "execute_result",
          "data": {
            "text/plain": [
              "<tf.Tensor: shape=(4, 3), dtype=float32, numpy=\n",
              "array([[0.38322738, 0.48554093, 0.13123174],\n",
              "       [0.40428188, 0.40895686, 0.18676122],\n",
              "       [0.4088328 , 0.47693524, 0.11423194],\n",
              "       [0.4152962 , 0.45829642, 0.12640747]], dtype=float32)>"
            ]
          },
          "metadata": {},
          "execution_count": 31
        }
      ],
      "source": [
        "first_batch_outputs = text_classification_model(next(iter(train_dataset.batch(4))))\n",
        "\n",
        "print(f\"First batch outputs -- number of examples in batch: {first_batch_outputs.shape[0]}\")\n",
        "\n",
        "print(f\"First batch outputs -- number of classes: {first_batch_outputs.shape[1]}\")\n",
        "\n",
        "print(f\"First batch outputs -- sum of outputs of each row: {tf.reduce_sum(first_batch_outputs, axis=1)}.\")\n",
        "\n",
        "print()\n",
        "print(f\"First batch outputs:\")\n",
        "first_batch_outputs"
      ]
    },
    {
      "cell_type": "markdown",
      "metadata": {
        "id": "SuvD1aYnsTPy"
      },
      "source": [
        "We can see from the above output shape\n",
        "- 4 rows = batch size 4\n",
        "- 3 columns: corresponds to the 3 classes\n",
        "- column values appear to be probabilities (sum to 1), not logits"
      ]
    },
    {
      "cell_type": "markdown",
      "metadata": {
        "id": "pnodkFbCt0fL"
      },
      "source": [
        "OK, time to get the model summary"
      ]
    },
    {
      "cell_type": "code",
      "execution_count": 32,
      "metadata": {
        "id": "BlUZ_ZEtt9hJ"
      },
      "outputs": [],
      "source": [
        "def count_weights(weights_per_layer, prefix=None):\n",
        "  # NOTE: the .weights attributed DOES NOT include biases (available via .bias attribute)\n",
        "  count_weights = 0\n",
        "\n",
        "  for layer, weights in enumerate(weights_per_layer):\n",
        "    num_weights = np.prod(weights.shape)\n",
        "\n",
        "    if prefix is not None:\n",
        "      print(f\"Trainable layer {layer} has {num_weights} weights\")\n",
        "\n",
        "    count_weights += num_weights\n",
        "\n",
        "  return count_weights\n",
        "\n",
        "def count_model_weights(model):\n",
        "  all_weights = model.weights\n",
        "  trainable_weights = model.trainable_weights\n",
        "\n",
        "  num_layers = len( model.layers )\n",
        "\n",
        "  # Control detailed output: supress if number of layers (length of trainable_weights) is too big\n",
        "  out_prefix = \"trainable\" if len(trainable_weights) < 10 else None\n",
        "\n",
        "  num_weights, num_trainable_weights = count_weights(all_weights, None), count_weights(trainable_weights, out_prefix)                                                                         \n",
        "\n",
        "  return num_weights, num_trainable_weights\n",
        "  \n"
      ]
    },
    {
      "cell_type": "code",
      "execution_count": 33,
      "metadata": {
        "colab": {
          "base_uri": "https://localhost:8080/"
        },
        "id": "DvTAqwmQkoOq",
        "outputId": "c1f0b751-0981-46aa-c28b-0c4dd49a554b"
      },
      "outputs": [
        {
          "output_type": "stream",
          "name": "stdout",
          "text": [
            "Trainable layer 0 has 15360 weights\n",
            "Trainable layer 1 has 20 weights\n",
            "Trainable layer 2 has 60 weights\n",
            "Trainable layer 3 has 3 weights\n",
            "\n",
            "Total number of weights 66,378,323, number of trainable weights 15,443\n"
          ]
        }
      ],
      "source": [
        "num_weights, num_trainable_weights = count_model_weights(text_classification_model)\n",
        "\n",
        "print()\n",
        "print(f\"Total number of weights {num_weights:,}, number of trainable weights {num_trainable_weights:,}\")"
      ]
    },
    {
      "cell_type": "code",
      "execution_count": 34,
      "metadata": {
        "colab": {
          "base_uri": "https://localhost:8080/"
        },
        "id": "Ynq89oecrvq9",
        "outputId": "84d03282-967a-4f4e-93e7-b4d0b48073ef"
      },
      "outputs": [
        {
          "output_type": "stream",
          "name": "stdout",
          "text": [
            "Model: \"text_classification_model\"\n",
            "_________________________________________________________________\n",
            " Layer (type)                Output Shape              Param #   \n",
            "=================================================================\n",
            " tf_distil_bert_model (TFDis  multiple                 66362880  \n",
            " tilBertModel)                                                   \n",
            "                                                                 \n",
            " dropout_19 (Dropout)        multiple                  0         \n",
            "                                                                 \n",
            " dropout_20 (Dropout)        multiple                  0         \n",
            "                                                                 \n",
            " dense (Dense)               multiple                  15380     \n",
            "                                                                 \n",
            " dense_1 (Dense)             multiple                  63        \n",
            "                                                                 \n",
            "=================================================================\n",
            "Total params: 66,378,323\n",
            "Trainable params: 15,443\n",
            "Non-trainable params: 66,362,880\n",
            "_________________________________________________________________\n"
          ]
        }
      ],
      "source": [
        "text_classification_model.summary()"
      ]
    },
    {
      "cell_type": "markdown",
      "metadata": {
        "id": "u_7kEHhyzjU0"
      },
      "source": [
        "Let's examine the last 2 layers"
      ]
    },
    {
      "cell_type": "code",
      "execution_count": 35,
      "metadata": {
        "colab": {
          "base_uri": "https://localhost:8080/"
        },
        "id": "oBE1Cz6CznCo",
        "outputId": "feddf3c7-a0bc-432b-daf6-322837162981"
      },
      "outputs": [
        {
          "output_type": "stream",
          "name": "stdout",
          "text": [
            "Layer -2: <class 'keras.layers.core.dense.Dense'> weights (768, 20), biases (20,)\n",
            "Layer -1: <class 'keras.layers.core.dense.Dense'> weights (20, 3), biases (3,)\n"
          ]
        }
      ],
      "source": [
        "for i, layer in enumerate( text_classification_model.layers[-2:] ):\n",
        "  print(f\"Layer {-2 + i}: {type(layer)} weights {layer.weights[0].shape}, biases {layer.weights[1].shape}\")\n"
      ]
    },
    {
      "cell_type": "markdown",
      "metadata": {
        "id": "2XksJ1DByzb4"
      },
      "source": [
        "You can see from the above\n",
        "- the latent representation size (of the single `[CLS]` token) is 768\n",
        "- the next to last layer is `Dense`, converts this to 20 features\n",
        "- the last layer (Classifier) converts to 20 features to 3 classes\n",
        "\n"
      ]
    },
    {
      "cell_type": "markdown",
      "metadata": {
        "id": "kFFAExRG2J5R"
      },
      "source": [
        "## Train: head only"
      ]
    },
    {
      "cell_type": "code",
      "execution_count": 36,
      "metadata": {
        "id": "D1pke6RRh-e6"
      },
      "outputs": [],
      "source": [
        "text_classification_model.compile(\n",
        "    tf.keras.optimizers.Adam(learning_rate=5e-5), \n",
        "    \"sparse_categorical_crossentropy\", \n",
        "    metrics=[\"accuracy\"])\n"
      ]
    },
    {
      "cell_type": "code",
      "execution_count": 37,
      "metadata": {
        "id": "B8KC57oZiiYt"
      },
      "outputs": [],
      "source": [
        "\n",
        "from tensorflow.python.ops.gen_logging_ops import histogram_summary\n",
        "\n",
        "def train_model(model, train_dataset, val_dataset, num_epochs=4):\n",
        "    history = model.fit(\n",
        "      train_dataset.shuffle(1000).batch(16), \n",
        "      epochs=num_epochs, \n",
        "      validation_data=val_dataset.batch(16)\n",
        "      #callbacks=[tensorboard_callback]\n",
        "    )\n",
        "    \n",
        "    return history\n",
        "    \n",
        "def train_model_in_chunks(model, train_dataset, val_dataset, num_chunks=4, num_epochs=1):\n",
        "  # Divide training set into chunks\n",
        "  chunk_size = num_train // num_chunks\n",
        "\n",
        "  print(f\"training on {num_train} examples in chunks of size {chunk_size}\")\n",
        "\n",
        "  for epoch_num in range(num_epochs):\n",
        "    for chunk_num in range(num_chunks):\n",
        "      print(f\"Epoch {epoch_num}, chunk {chunk_num}:\")\n",
        "      history = model.fit(\n",
        "        train_dataset.skip(chunk_num * chunk_size).take(chunk_size).shuffle(1000).batch(16), \n",
        "        epochs=1, \n",
        "        validation_data=val_dataset.batch(16)\n",
        "        # validation_data=val_dataset.take(500).batch(16),\n",
        "        #callbacks=[tensorboard_callback]\n",
        "    )\n",
        "      \n",
        "  return history"
      ]
    },
    {
      "cell_type": "code",
      "execution_count": 38,
      "metadata": {
        "colab": {
          "base_uri": "https://localhost:8080/"
        },
        "id": "HYkxqzEq4mau",
        "outputId": "6ef8d1a7-8cea-4745-fd1e-8aa0d5a1266d"
      },
      "outputs": [
        {
          "output_type": "stream",
          "name": "stdout",
          "text": [
            "Epoch 1/4\n"
          ]
        },
        {
          "output_type": "stream",
          "name": "stderr",
          "text": [
            "WARNING:tensorflow:From /usr/local/lib/python3.9/dist-packages/tensorflow/python/autograph/pyct/static_analysis/liveness.py:83: Analyzer.lamba_check (from tensorflow.python.autograph.pyct.static_analysis.liveness) is deprecated and will be removed after 2023-09-23.\n",
            "Instructions for updating:\n",
            "Lambda fuctions will be no more assumed to be used in the statement where they are used, or at least in the same block. https://github.com/tensorflow/tensorflow/issues/56089\n"
          ]
        },
        {
          "output_type": "stream",
          "name": "stdout",
          "text": [
            "114/114 [==============================] - 57s 410ms/step - loss: 1.0649 - accuracy: 0.5047 - val_loss: 0.9481 - val_accuracy: 0.6269\n",
            "Epoch 2/4\n",
            "114/114 [==============================] - 46s 407ms/step - loss: 0.9489 - accuracy: 0.6085 - val_loss: 0.8793 - val_accuracy: 0.6269\n",
            "Epoch 3/4\n",
            "114/114 [==============================] - 47s 415ms/step - loss: 0.8911 - accuracy: 0.6195 - val_loss: 0.8334 - val_accuracy: 0.6269\n",
            "Epoch 4/4\n",
            "114/114 [==============================] - 47s 412ms/step - loss: 0.8442 - accuracy: 0.6405 - val_loss: 0.7910 - val_accuracy: 0.6424\n"
          ]
        },
        {
          "output_type": "execute_result",
          "data": {
            "text/plain": [
              "<keras.callbacks.History at 0x7ff00c5e3ca0>"
            ]
          },
          "metadata": {},
          "execution_count": 38
        }
      ],
      "source": [
        "train_model(text_classification_model, train_dataset, val_dataset)"
      ]
    },
    {
      "cell_type": "markdown",
      "metadata": {
        "id": "mBCtMaaottWy"
      },
      "source": [
        "## Accuracy: Evaluate accuracy on validation data"
      ]
    },
    {
      "cell_type": "code",
      "execution_count": 39,
      "metadata": {
        "id": "CgyiXZM3uJSh"
      },
      "outputs": [],
      "source": [
        "from sklearn.metrics import accuracy_score \n"
      ]
    },
    {
      "cell_type": "code",
      "execution_count": 40,
      "metadata": {
        "id": "9GtAoI2b6Oe_"
      },
      "outputs": [],
      "source": [
        "def eval_model(model, val_dataset, val_labels, batch_size=16):\n",
        "  val_logits = model.predict( val_dataset.batch(batch_size) )\n",
        "\n",
        "  # Depending on the model, the return type of val_logits can vary\n",
        "  # - ndarray\n",
        "  # - Hugging Face Sequence Model output type\n",
        "\n",
        "  try:\n",
        "    # If it is a Hugging Face return type, the logits are in the result attribute 'logits'\n",
        "    hf_logits = val_logits.logits\n",
        "    val_logits = hf_logits\n",
        "  except:\n",
        "    pass\n",
        "\n",
        "  val_preds = np.argmax( val_logits, axis=1)\n",
        "\n",
        "  acc = accuracy_score( val_labels, val_preds)  \n",
        "  return acc"
      ]
    },
    {
      "cell_type": "code",
      "execution_count": 41,
      "metadata": {
        "colab": {
          "base_uri": "https://localhost:8080/"
        },
        "id": "gxIHC9F_3CeH",
        "outputId": "1d612ec0-0219-4332-c413-dffa55694f78"
      },
      "outputs": [
        {
          "output_type": "stream",
          "name": "stdout",
          "text": [
            "29/29 [==============================] - 10s 294ms/step\n",
            "Transfer learning (head-only) accuracy: 0.64\n"
          ]
        }
      ],
      "source": [
        "print(f\"Transfer learning (head-only) accuracy: {eval_model(text_classification_model, val_dataset, val_labels):3.2f}\")"
      ]
    },
    {
      "cell_type": "markdown",
      "metadata": {
        "id": "WfpKlkDJ3i41"
      },
      "source": [
        "## Fine tuning: train **all** layers\n",
        "\n",
        "Now that the head has been trained, it's safe to update weights for the \"Encoder\"\n",
        "- had we not trained the head first\n",
        "- the gradients in the initial batches would have bee large\n",
        "- and updateing the Encoder weights with these large gradients would have been harmful\n"
      ]
    },
    {
      "cell_type": "markdown",
      "metadata": {
        "id": "_JnLJlzC7ZsB"
      },
      "source": [
        "Unfreeze the weights in the embedded \"Encoder\" `Distilbert`"
      ]
    },
    {
      "cell_type": "code",
      "execution_count": 42,
      "metadata": {
        "id": "KkTTiTpU7nnP"
      },
      "outputs": [],
      "source": [
        "text_classification_model.encoder.trainable = True"
      ]
    },
    {
      "cell_type": "code",
      "execution_count": 43,
      "metadata": {
        "colab": {
          "base_uri": "https://localhost:8080/"
        },
        "id": "eQT244w-7z3u",
        "outputId": "f03636b6-6d1f-4293-cd02-2cf0edab81c8"
      },
      "outputs": [
        {
          "output_type": "stream",
          "name": "stdout",
          "text": [
            "\n",
            "Total number of weights 66,378,323, number of trainable weights 66,378,323\n"
          ]
        }
      ],
      "source": [
        "\n",
        "num_weights, num_trainable_weights = count_model_weights(text_classification_model)\n",
        "\n",
        "print()\n",
        "print(f\"Total number of weights {num_weights:,}, number of trainable weights {num_trainable_weights:,}\")"
      ]
    },
    {
      "cell_type": "code",
      "execution_count": 44,
      "metadata": {
        "colab": {
          "base_uri": "https://localhost:8080/"
        },
        "id": "ElU8cXRG7-0G",
        "outputId": "4a956c7e-d2c7-47f5-e5bf-12eacbdf41cb"
      },
      "outputs": [
        {
          "output_type": "stream",
          "name": "stdout",
          "text": [
            "Epoch 1/4\n",
            "114/114 [==============================] - 49s 433ms/step - loss: 0.7951 - accuracy: 0.6692 - val_loss: 0.7556 - val_accuracy: 0.6711\n",
            "Epoch 2/4\n",
            "114/114 [==============================] - 47s 412ms/step - loss: 0.7704 - accuracy: 0.7007 - val_loss: 0.7254 - val_accuracy: 0.6843\n",
            "Epoch 3/4\n",
            "114/114 [==============================] - 47s 416ms/step - loss: 0.7383 - accuracy: 0.7079 - val_loss: 0.6997 - val_accuracy: 0.6954\n",
            "Epoch 4/4\n",
            "114/114 [==============================] - 47s 416ms/step - loss: 0.7223 - accuracy: 0.7195 - val_loss: 0.6773 - val_accuracy: 0.7064\n"
          ]
        },
        {
          "output_type": "execute_result",
          "data": {
            "text/plain": [
              "<keras.callbacks.History at 0x7fefee54bd30>"
            ]
          },
          "metadata": {},
          "execution_count": 44
        }
      ],
      "source": [
        "train_model(text_classification_model, train_dataset, val_dataset)"
      ]
    },
    {
      "cell_type": "markdown",
      "metadata": {
        "id": "eFFW0W5bGW4u"
      },
      "source": [
        "## Accuracy after fine-tuning: Evaluate accuracy on validation data"
      ]
    },
    {
      "cell_type": "code",
      "execution_count": 45,
      "metadata": {
        "colab": {
          "base_uri": "https://localhost:8080/"
        },
        "id": "TdW8chAf81Tg",
        "outputId": "8192d2d1-a90d-4d98-85d2-db6e205b9bfd"
      },
      "outputs": [
        {
          "output_type": "stream",
          "name": "stdout",
          "text": [
            "29/29 [==============================] - 9s 298ms/step\n",
            "Transfer learning (fine-tuning -- all weights) accuracy: 0.71\n"
          ]
        }
      ],
      "source": [
        "print(f\"Transfer learning (fine-tuning -- all weights) accuracy: {eval_model(text_classification_model, val_dataset, val_labels):3.2f}\")"
      ]
    },
    {
      "cell_type": "markdown",
      "metadata": {
        "id": "kt7TB0_4SmZE"
      },
      "source": [
        "# Simpler approach: auto-generated Text Sequence Classification Head"
      ]
    },
    {
      "cell_type": "markdown",
      "metadata": {
        "id": "TCmcZw7LVvhp"
      },
      "source": [
        "Hugging Face has a generic `TFAutoModelForSequenceClassification` class\n",
        "- that invoked the `*ForSequenceClassification` variant of a given model\n",
        "- result is a model that *includes* \n",
        "  - the post-processing steps needed to feed a Classification head\n",
        "  - an (uninitialized) Classification Head\n",
        "    - we need to tell the head how many classes are possible: `num_labels` argument\n",
        "\n",
        "Similarly: we can obtain the tokenizer used by a variant of a given model\n",
        "\n",
        "```\n",
        "from transformers import AutoTokenizer\n",
        "\n",
        "tokenizer = AutoTokenizer.from_pretrained(model_checkpoint)\n",
        "```\n",
        "This is not necessary for us as we have already tokenized the data\n",
        "- and convert to a `tf.data.Dataset`"
      ]
    },
    {
      "cell_type": "code",
      "execution_count": 46,
      "metadata": {
        "colab": {
          "base_uri": "https://localhost:8080/"
        },
        "id": "V8rd0QCASz0C",
        "outputId": "fd73669f-3a4d-42ea-e7d2-c016f050f52b"
      },
      "outputs": [
        {
          "output_type": "stream",
          "name": "stderr",
          "text": [
            "Some layers from the model checkpoint at distilbert-base-uncased were not used when initializing TFDistilBertForSequenceClassification: ['vocab_layer_norm', 'vocab_transform', 'vocab_projector', 'activation_13']\n",
            "- This IS expected if you are initializing TFDistilBertForSequenceClassification from the checkpoint of a model trained on another task or with another architecture (e.g. initializing a BertForSequenceClassification model from a BertForPreTraining model).\n",
            "- This IS NOT expected if you are initializing TFDistilBertForSequenceClassification from the checkpoint of a model that you expect to be exactly identical (initializing a BertForSequenceClassification model from a BertForSequenceClassification model).\n",
            "Some layers of TFDistilBertForSequenceClassification were not initialized from the model checkpoint at distilbert-base-uncased and are newly initialized: ['dropout_40', 'classifier', 'pre_classifier']\n",
            "You should probably TRAIN this model on a down-stream task to be able to use it for predictions and inference.\n"
          ]
        }
      ],
      "source": [
        "from transformers import TFAutoModelForSequenceClassification\n",
        "text_classification_model_hf = TFAutoModelForSequenceClassification.from_pretrained(\"distilbert-base-uncased\", num_labels=len(target_labels) )"
      ]
    },
    {
      "cell_type": "code",
      "execution_count": 47,
      "metadata": {
        "colab": {
          "base_uri": "https://localhost:8080/"
        },
        "id": "xNeujiGNk83a",
        "outputId": "0b724463-1c1d-4641-ad62-c83d7db5f655"
      },
      "outputs": [
        {
          "output_type": "stream",
          "name": "stdout",
          "text": [
            "\n",
            "AutoModel: Total number of weights 66,955,779, number of trainable weights 66,955,779\n"
          ]
        }
      ],
      "source": [
        "num_weights, num_trainable_weights = count_model_weights(text_classification_model_hf)\n",
        "\n",
        "print()\n",
        "print(f\"AutoModel: Total number of weights {num_weights:,}, number of trainable weights {num_trainable_weights:,}\")"
      ]
    },
    {
      "cell_type": "markdown",
      "metadata": {
        "id": "dXNX_A2Gl2Rr"
      },
      "source": [
        "From the above:\n",
        "- looks like **all** weights are trainable\n",
        "\n",
        "Probably not a good idea to Fine-Tune before training the Classifiction Head !\n",
        "\n",
        "Let's address that:"
      ]
    },
    {
      "cell_type": "code",
      "execution_count": 48,
      "metadata": {
        "colab": {
          "base_uri": "https://localhost:8080/"
        },
        "id": "d2DFDLVVjfko",
        "outputId": "b94033e9-7d38-4f15-ddbd-ab08defa8176"
      },
      "outputs": [
        {
          "output_type": "execute_result",
          "data": {
            "text/plain": [
              "[<transformers.models.distilbert.modeling_tf_distilbert.TFDistilBertMainLayer at 0x7fefedd250a0>,\n",
              " <keras.layers.core.dense.Dense at 0x7fefedc7fd90>,\n",
              " <keras.layers.core.dense.Dense at 0x7fefedc811f0>,\n",
              " <keras.layers.regularization.dropout.Dropout at 0x7fefedc81160>]"
            ]
          },
          "metadata": {},
          "execution_count": 48
        }
      ],
      "source": [
        "text_classification_model_hf.layers"
      ]
    },
    {
      "cell_type": "markdown",
      "metadata": {
        "id": "V-hJ0VemoqYA"
      },
      "source": [
        "Model architecture created by `TFAutoModelForSequenceClassification` is just like the one we created by hand.\n",
        "\n",
        "Let's set the `TFDistilBert` model contained within to non-trainable"
      ]
    },
    {
      "cell_type": "code",
      "execution_count": 49,
      "metadata": {
        "colab": {
          "base_uri": "https://localhost:8080/"
        },
        "id": "nFDnlMGvpBk2",
        "outputId": "83a13b2c-ca49-466b-d815-3c5266eb7c4b"
      },
      "outputs": [
        {
          "output_type": "stream",
          "name": "stdout",
          "text": [
            "Trainable layer 0 has 589824 weights\n",
            "Trainable layer 1 has 768 weights\n",
            "Trainable layer 2 has 2304 weights\n",
            "Trainable layer 3 has 3 weights\n",
            "\n",
            "AutoModel -- head only: Total number of weights 66,955,779, number of trainable weights 592,899\n"
          ]
        }
      ],
      "source": [
        "text_classification_model_hf.layers[0].trainable = False\n",
        "\n",
        "num_weights, num_trainable_weights = count_model_weights(text_classification_model_hf)\n",
        "\n",
        "print()\n",
        "print(f\"AutoModel -- head only: Total number of weights {num_weights:,}, number of trainable weights {num_trainable_weights:,}\")"
      ]
    },
    {
      "cell_type": "code",
      "execution_count": 50,
      "metadata": {
        "id": "Rv02AsIZmoOb"
      },
      "outputs": [],
      "source": [
        "text_classification_model_hf.compile(\n",
        "    tf.keras.optimizers.Adam(learning_rate=5e-5), \n",
        "    \"sparse_categorical_crossentropy\", \n",
        "    metrics=[\"accuracy\"])\n"
      ]
    },
    {
      "cell_type": "code",
      "execution_count": 51,
      "metadata": {
        "colab": {
          "base_uri": "https://localhost:8080/"
        },
        "id": "l_J5gTxGWl9A",
        "outputId": "435b9fd0-8d43-4811-8ea6-69465f7309c7"
      },
      "outputs": [
        {
          "output_type": "stream",
          "name": "stdout",
          "text": [
            "Epoch 1/4\n",
            "114/114 [==============================] - 59s 437ms/step - loss: 1.3029 - accuracy: 0.4931 - val_loss: 1.0986 - val_accuracy: 0.6313\n",
            "Epoch 2/4\n",
            "114/114 [==============================] - 47s 414ms/step - loss: 1.0986 - accuracy: 0.5157 - val_loss: 1.0986 - val_accuracy: 0.6313\n",
            "Epoch 3/4\n",
            "114/114 [==============================] - 47s 416ms/step - loss: 1.0986 - accuracy: 0.5472 - val_loss: 1.0986 - val_accuracy: 0.6313\n",
            "Epoch 4/4\n",
            "114/114 [==============================] - 47s 414ms/step - loss: 1.1050 - accuracy: 0.5224 - val_loss: 1.0986 - val_accuracy: 0.5982\n"
          ]
        },
        {
          "output_type": "execute_result",
          "data": {
            "text/plain": [
              "<keras.callbacks.History at 0x7fefedc65d90>"
            ]
          },
          "metadata": {},
          "execution_count": 51
        }
      ],
      "source": [
        "train_model(text_classification_model_hf, train_dataset, val_dataset)"
      ]
    },
    {
      "cell_type": "code",
      "execution_count": 52,
      "metadata": {
        "colab": {
          "base_uri": "https://localhost:8080/"
        },
        "id": "wgKnSpVAXVVQ",
        "outputId": "041d7320-e0cf-42b0-a189-1b0d6f808a8e"
      },
      "outputs": [
        {
          "output_type": "stream",
          "name": "stdout",
          "text": [
            "29/29 [==============================] - 10s 297ms/step\n",
            "Transfer learning (head-only) accuracy: 0.60\n"
          ]
        }
      ],
      "source": [
        "print(f\"Transfer learning (head-only) accuracy: {eval_model(text_classification_model_hf, val_dataset, val_labels):3.2f}\")"
      ]
    },
    {
      "cell_type": "markdown",
      "metadata": {
        "id": "zicTT9iagNdj"
      },
      "source": [
        "# Extra material: Understand datasets\n",
        "\n",
        "The model takes a `dict` as argument, **not** an array of examples\n",
        "\n",
        "The `dict` has keys for\n",
        "- `input_ids`, `attention_mask`\n",
        "- the value associated with each key is an array (of length equal to number of examples)\n",
        "\n",
        "A batch of \"examples\" is thus a `dict` of arrays, **not** and array of `dict`'s !\n",
        "\n",
        "`val_dataset` batch is:\n",
        "- a tuple of length 2\n",
        "  - features\n",
        "    - a dict of key/value pairs\n",
        "      - the values associated with a key is an array of size `batch_size`\n",
        "  - labels\n",
        "    - one label per example, hence an array of size `batch_size`"
      ]
    },
    {
      "cell_type": "code",
      "execution_count": 53,
      "metadata": {
        "colab": {
          "base_uri": "https://localhost:8080/"
        },
        "id": "SHV_8x4RdRiJ",
        "outputId": "6b8aad83-939a-4cc3-bce2-f1fc690694a9"
      },
      "outputs": [
        {
          "output_type": "execute_result",
          "data": {
            "text/plain": [
              "{'input_ids': <tf.Tensor: shape=(16, 512), dtype=int32, numpy=\n",
              " array([[  101,  6983, 20248, ...,     0,     0,     0],\n",
              "        [  101,  1996,  2373, ...,     0,     0,     0],\n",
              "        [  101,  1996,  2449, ...,     0,     0,     0],\n",
              "        ...,\n",
              "        [  101, 22563, 21766, ...,     0,     0,     0],\n",
              "        [  101,  1996,  3136, ...,     0,     0,     0],\n",
              "        [  101,  6983,  7929, ...,     0,     0,     0]], dtype=int32)>,\n",
              " 'attention_mask': <tf.Tensor: shape=(16, 512), dtype=int32, numpy=\n",
              " array([[1, 1, 1, ..., 0, 0, 0],\n",
              "        [1, 1, 1, ..., 0, 0, 0],\n",
              "        [1, 1, 1, ..., 0, 0, 0],\n",
              "        ...,\n",
              "        [1, 1, 1, ..., 0, 0, 0],\n",
              "        [1, 1, 1, ..., 0, 0, 0],\n",
              "        [1, 1, 1, ..., 0, 0, 0]], dtype=int32)>}"
            ]
          },
          "metadata": {},
          "execution_count": 53
        }
      ],
      "source": [
        "batch_size = 16\n",
        "\n",
        "e = next( iter(val_dataset.batch(batch_size)) )\n",
        "e_features, e_labels = e\n",
        "e_features"
      ]
    },
    {
      "cell_type": "code",
      "execution_count": 54,
      "metadata": {
        "colab": {
          "base_uri": "https://localhost:8080/"
        },
        "id": "0hxOp4pbg-Bo",
        "outputId": "92625cb1-3e01-48c5-abef-92ecfaf56d73"
      },
      "outputs": [
        {
          "output_type": "execute_result",
          "data": {
            "text/plain": [
              "<tf.Tensor: shape=(16,), dtype=int32, numpy=array([0, 1, 1, 0, 1, 1, 1, 1, 1, 1, 1, 0, 1, 1, 1, 2], dtype=int32)>"
            ]
          },
          "metadata": {},
          "execution_count": 54
        }
      ],
      "source": [
        "e_labels"
      ]
    },
    {
      "cell_type": "markdown",
      "metadata": {
        "id": "cjSSuA-fhJKy"
      },
      "source": [
        "To **manually** create a batch of examples (features only)\n",
        "- Need to create a `dict`\n",
        "- with the same keys\n",
        "- whose arrays are sub-arrays (of length `batch_size`) of the entire set of examples"
      ]
    },
    {
      "cell_type": "code",
      "execution_count": 55,
      "metadata": {
        "colab": {
          "base_uri": "https://localhost:8080/"
        },
        "id": "RweGCXUPetJD",
        "outputId": "3f911dbf-d5f4-4bfe-fc53-2a8627d456c5"
      },
      "outputs": [
        {
          "output_type": "stream",
          "name": "stdout",
          "text": [
            "1/1 [==============================] - 2s 2s/step\n"
          ]
        },
        {
          "output_type": "execute_result",
          "data": {
            "text/plain": [
              "array([[0.20199126, 0.41778433, 0.38022447],\n",
              "       [0.10219001, 0.73698646, 0.1608236 ],\n",
              "       [0.12517482, 0.76487195, 0.10995324],\n",
              "       [0.1779874 , 0.5524665 , 0.26954615],\n",
              "       [0.10431206, 0.8107503 , 0.08493762],\n",
              "       [0.11627509, 0.7560843 , 0.12764052],\n",
              "       [0.12988111, 0.58455247, 0.28556642],\n",
              "       [0.13154511, 0.75028074, 0.11817414],\n",
              "       [0.11067282, 0.7880505 , 0.1012767 ],\n",
              "       [0.14301555, 0.6590541 , 0.19793038],\n",
              "       [0.09331883, 0.7941863 , 0.11249483],\n",
              "       [0.22484739, 0.35589364, 0.41925892],\n",
              "       [0.11820243, 0.80760723, 0.07419029],\n",
              "       [0.10871381, 0.7720098 , 0.1192764 ],\n",
              "       [0.08616417, 0.8449084 , 0.06892749],\n",
              "       [0.13000588, 0.7438134 , 0.12618077]], dtype=float32)"
            ]
          },
          "metadata": {},
          "execution_count": 55
        }
      ],
      "source": [
        "b = { k: e_features[k][:batch_size] for k in e_features.keys() }\n",
        "\n",
        "# Try to predict using our manually created batch\n",
        "text_classification_model.predict( b )"
      ]
    },
    {
      "cell_type": "code",
      "execution_count": 56,
      "metadata": {
        "colab": {
          "base_uri": "https://localhost:8080/"
        },
        "id": "SGeehIyXeDE0",
        "outputId": "fe71d1e0-5f0e-4250-9585-1b75000a4117"
      },
      "outputs": [
        {
          "output_type": "stream",
          "name": "stdout",
          "text": [
            "1/1 [==============================] - 0s 302ms/step\n"
          ]
        },
        {
          "output_type": "execute_result",
          "data": {
            "text/plain": [
              "array([[0.20199126, 0.41778433, 0.38022447],\n",
              "       [0.10219001, 0.73698646, 0.1608236 ],\n",
              "       [0.12517482, 0.76487195, 0.10995324],\n",
              "       [0.1779874 , 0.5524665 , 0.26954615],\n",
              "       [0.10431206, 0.8107503 , 0.08493762],\n",
              "       [0.11627509, 0.7560843 , 0.12764052],\n",
              "       [0.12988111, 0.58455247, 0.28556642],\n",
              "       [0.13154511, 0.75028074, 0.11817414],\n",
              "       [0.11067282, 0.7880505 , 0.1012767 ],\n",
              "       [0.14301555, 0.6590541 , 0.19793038],\n",
              "       [0.09331883, 0.7941863 , 0.11249483],\n",
              "       [0.22484739, 0.35589364, 0.41925892],\n",
              "       [0.11820243, 0.80760723, 0.07419029],\n",
              "       [0.10871381, 0.7720098 , 0.1192764 ],\n",
              "       [0.08616417, 0.8449084 , 0.06892749],\n",
              "       [0.13000588, 0.7438134 , 0.12618077]], dtype=float32)"
            ]
          },
          "metadata": {},
          "execution_count": 56
        }
      ],
      "source": [
        "# Compare to predict using the batch created by Dataset operations\n",
        "# The dataset returns a pair: (features, labels).  Don't need labels to predict so the \"[0]\" is selecting the features from the pair\n",
        "text_classification_model.predict( next( iter(val_dataset.batch(batch_size)) )[0] )\n"
      ]
    },
    {
      "cell_type": "code",
      "execution_count": 57,
      "metadata": {
        "id": "zCQ_cYmQ1R-T"
      },
      "outputs": [],
      "source": [
        "num_val = 10\n",
        "\n"
      ]
    }
  ],
  "metadata": {
    "accelerator": "GPU",
    "colab": {
      "provenance": [],
      "toc_visible": true
    },
    "kernelspec": {
      "display_name": "Python 3",
      "language": "python",
      "name": "python3"
    },
    "language_info": {
      "codemirror_mode": {
        "name": "ipython",
        "version": 3
      },
      "file_extension": ".py",
      "mimetype": "text/x-python",
      "name": "python",
      "nbconvert_exporter": "python",
      "pygments_lexer": "ipython3",
      "version": "3.7.4"
    },
    "toc": {
      "base_numbering": 1,
      "nav_menu": {},
      "number_sections": true,
      "sideBar": true,
      "skip_h1_title": false,
      "title_cell": "Table of Contents",
      "title_sidebar": "Contents",
      "toc_cell": false,
      "toc_position": {},
      "toc_section_display": true,
      "toc_window_display": true
    },
    "widgets": {
      "application/vnd.jupyter.widget-state+json": {
        "5237068516b845fea2e47dd47ef6e8d8": {
          "model_module": "@jupyter-widgets/controls",
          "model_name": "HBoxModel",
          "model_module_version": "1.5.0",
          "state": {
            "_dom_classes": [],
            "_model_module": "@jupyter-widgets/controls",
            "_model_module_version": "1.5.0",
            "_model_name": "HBoxModel",
            "_view_count": null,
            "_view_module": "@jupyter-widgets/controls",
            "_view_module_version": "1.5.0",
            "_view_name": "HBoxView",
            "box_style": "",
            "children": [
              "IPY_MODEL_40c67c122e544803815cf951a3c18c84",
              "IPY_MODEL_9fce0ccd11ef4fef9602690b057da2a9",
              "IPY_MODEL_b1324c7469ef404782b6a391efdeff9e"
            ],
            "layout": "IPY_MODEL_bf019c06c3174c90a522974069167609"
          }
        },
        "40c67c122e544803815cf951a3c18c84": {
          "model_module": "@jupyter-widgets/controls",
          "model_name": "HTMLModel",
          "model_module_version": "1.5.0",
          "state": {
            "_dom_classes": [],
            "_model_module": "@jupyter-widgets/controls",
            "_model_module_version": "1.5.0",
            "_model_name": "HTMLModel",
            "_view_count": null,
            "_view_module": "@jupyter-widgets/controls",
            "_view_module_version": "1.5.0",
            "_view_name": "HTMLView",
            "description": "",
            "description_tooltip": null,
            "layout": "IPY_MODEL_c59f32b0eef4470a8bed8853286fee70",
            "placeholder": "​",
            "style": "IPY_MODEL_ef29b4e5f9bc4d399d94859376e28532",
            "value": "Downloading builder script: 100%"
          }
        },
        "9fce0ccd11ef4fef9602690b057da2a9": {
          "model_module": "@jupyter-widgets/controls",
          "model_name": "FloatProgressModel",
          "model_module_version": "1.5.0",
          "state": {
            "_dom_classes": [],
            "_model_module": "@jupyter-widgets/controls",
            "_model_module_version": "1.5.0",
            "_model_name": "FloatProgressModel",
            "_view_count": null,
            "_view_module": "@jupyter-widgets/controls",
            "_view_module_version": "1.5.0",
            "_view_name": "ProgressView",
            "bar_style": "success",
            "description": "",
            "description_tooltip": null,
            "layout": "IPY_MODEL_f71162b968634440a5d7d2c8e9ba50e1",
            "max": 6036,
            "min": 0,
            "orientation": "horizontal",
            "style": "IPY_MODEL_35bcec3e3a744985a87afe32f4f826e8",
            "value": 6036
          }
        },
        "b1324c7469ef404782b6a391efdeff9e": {
          "model_module": "@jupyter-widgets/controls",
          "model_name": "HTMLModel",
          "model_module_version": "1.5.0",
          "state": {
            "_dom_classes": [],
            "_model_module": "@jupyter-widgets/controls",
            "_model_module_version": "1.5.0",
            "_model_name": "HTMLModel",
            "_view_count": null,
            "_view_module": "@jupyter-widgets/controls",
            "_view_module_version": "1.5.0",
            "_view_name": "HTMLView",
            "description": "",
            "description_tooltip": null,
            "layout": "IPY_MODEL_5604d04a9c094b97afeccb16197e8640",
            "placeholder": "​",
            "style": "IPY_MODEL_d08bd703063e46ef90f7185f2658be1b",
            "value": " 6.04k/6.04k [00:00&lt;00:00, 366kB/s]"
          }
        },
        "bf019c06c3174c90a522974069167609": {
          "model_module": "@jupyter-widgets/base",
          "model_name": "LayoutModel",
          "model_module_version": "1.2.0",
          "state": {
            "_model_module": "@jupyter-widgets/base",
            "_model_module_version": "1.2.0",
            "_model_name": "LayoutModel",
            "_view_count": null,
            "_view_module": "@jupyter-widgets/base",
            "_view_module_version": "1.2.0",
            "_view_name": "LayoutView",
            "align_content": null,
            "align_items": null,
            "align_self": null,
            "border": null,
            "bottom": null,
            "display": null,
            "flex": null,
            "flex_flow": null,
            "grid_area": null,
            "grid_auto_columns": null,
            "grid_auto_flow": null,
            "grid_auto_rows": null,
            "grid_column": null,
            "grid_gap": null,
            "grid_row": null,
            "grid_template_areas": null,
            "grid_template_columns": null,
            "grid_template_rows": null,
            "height": null,
            "justify_content": null,
            "justify_items": null,
            "left": null,
            "margin": null,
            "max_height": null,
            "max_width": null,
            "min_height": null,
            "min_width": null,
            "object_fit": null,
            "object_position": null,
            "order": null,
            "overflow": null,
            "overflow_x": null,
            "overflow_y": null,
            "padding": null,
            "right": null,
            "top": null,
            "visibility": null,
            "width": null
          }
        },
        "c59f32b0eef4470a8bed8853286fee70": {
          "model_module": "@jupyter-widgets/base",
          "model_name": "LayoutModel",
          "model_module_version": "1.2.0",
          "state": {
            "_model_module": "@jupyter-widgets/base",
            "_model_module_version": "1.2.0",
            "_model_name": "LayoutModel",
            "_view_count": null,
            "_view_module": "@jupyter-widgets/base",
            "_view_module_version": "1.2.0",
            "_view_name": "LayoutView",
            "align_content": null,
            "align_items": null,
            "align_self": null,
            "border": null,
            "bottom": null,
            "display": null,
            "flex": null,
            "flex_flow": null,
            "grid_area": null,
            "grid_auto_columns": null,
            "grid_auto_flow": null,
            "grid_auto_rows": null,
            "grid_column": null,
            "grid_gap": null,
            "grid_row": null,
            "grid_template_areas": null,
            "grid_template_columns": null,
            "grid_template_rows": null,
            "height": null,
            "justify_content": null,
            "justify_items": null,
            "left": null,
            "margin": null,
            "max_height": null,
            "max_width": null,
            "min_height": null,
            "min_width": null,
            "object_fit": null,
            "object_position": null,
            "order": null,
            "overflow": null,
            "overflow_x": null,
            "overflow_y": null,
            "padding": null,
            "right": null,
            "top": null,
            "visibility": null,
            "width": null
          }
        },
        "ef29b4e5f9bc4d399d94859376e28532": {
          "model_module": "@jupyter-widgets/controls",
          "model_name": "DescriptionStyleModel",
          "model_module_version": "1.5.0",
          "state": {
            "_model_module": "@jupyter-widgets/controls",
            "_model_module_version": "1.5.0",
            "_model_name": "DescriptionStyleModel",
            "_view_count": null,
            "_view_module": "@jupyter-widgets/base",
            "_view_module_version": "1.2.0",
            "_view_name": "StyleView",
            "description_width": ""
          }
        },
        "f71162b968634440a5d7d2c8e9ba50e1": {
          "model_module": "@jupyter-widgets/base",
          "model_name": "LayoutModel",
          "model_module_version": "1.2.0",
          "state": {
            "_model_module": "@jupyter-widgets/base",
            "_model_module_version": "1.2.0",
            "_model_name": "LayoutModel",
            "_view_count": null,
            "_view_module": "@jupyter-widgets/base",
            "_view_module_version": "1.2.0",
            "_view_name": "LayoutView",
            "align_content": null,
            "align_items": null,
            "align_self": null,
            "border": null,
            "bottom": null,
            "display": null,
            "flex": null,
            "flex_flow": null,
            "grid_area": null,
            "grid_auto_columns": null,
            "grid_auto_flow": null,
            "grid_auto_rows": null,
            "grid_column": null,
            "grid_gap": null,
            "grid_row": null,
            "grid_template_areas": null,
            "grid_template_columns": null,
            "grid_template_rows": null,
            "height": null,
            "justify_content": null,
            "justify_items": null,
            "left": null,
            "margin": null,
            "max_height": null,
            "max_width": null,
            "min_height": null,
            "min_width": null,
            "object_fit": null,
            "object_position": null,
            "order": null,
            "overflow": null,
            "overflow_x": null,
            "overflow_y": null,
            "padding": null,
            "right": null,
            "top": null,
            "visibility": null,
            "width": null
          }
        },
        "35bcec3e3a744985a87afe32f4f826e8": {
          "model_module": "@jupyter-widgets/controls",
          "model_name": "ProgressStyleModel",
          "model_module_version": "1.5.0",
          "state": {
            "_model_module": "@jupyter-widgets/controls",
            "_model_module_version": "1.5.0",
            "_model_name": "ProgressStyleModel",
            "_view_count": null,
            "_view_module": "@jupyter-widgets/base",
            "_view_module_version": "1.2.0",
            "_view_name": "StyleView",
            "bar_color": null,
            "description_width": ""
          }
        },
        "5604d04a9c094b97afeccb16197e8640": {
          "model_module": "@jupyter-widgets/base",
          "model_name": "LayoutModel",
          "model_module_version": "1.2.0",
          "state": {
            "_model_module": "@jupyter-widgets/base",
            "_model_module_version": "1.2.0",
            "_model_name": "LayoutModel",
            "_view_count": null,
            "_view_module": "@jupyter-widgets/base",
            "_view_module_version": "1.2.0",
            "_view_name": "LayoutView",
            "align_content": null,
            "align_items": null,
            "align_self": null,
            "border": null,
            "bottom": null,
            "display": null,
            "flex": null,
            "flex_flow": null,
            "grid_area": null,
            "grid_auto_columns": null,
            "grid_auto_flow": null,
            "grid_auto_rows": null,
            "grid_column": null,
            "grid_gap": null,
            "grid_row": null,
            "grid_template_areas": null,
            "grid_template_columns": null,
            "grid_template_rows": null,
            "height": null,
            "justify_content": null,
            "justify_items": null,
            "left": null,
            "margin": null,
            "max_height": null,
            "max_width": null,
            "min_height": null,
            "min_width": null,
            "object_fit": null,
            "object_position": null,
            "order": null,
            "overflow": null,
            "overflow_x": null,
            "overflow_y": null,
            "padding": null,
            "right": null,
            "top": null,
            "visibility": null,
            "width": null
          }
        },
        "d08bd703063e46ef90f7185f2658be1b": {
          "model_module": "@jupyter-widgets/controls",
          "model_name": "DescriptionStyleModel",
          "model_module_version": "1.5.0",
          "state": {
            "_model_module": "@jupyter-widgets/controls",
            "_model_module_version": "1.5.0",
            "_model_name": "DescriptionStyleModel",
            "_view_count": null,
            "_view_module": "@jupyter-widgets/base",
            "_view_module_version": "1.2.0",
            "_view_name": "StyleView",
            "description_width": ""
          }
        },
        "39e630e41acc4c23a9422c1f9315ecf8": {
          "model_module": "@jupyter-widgets/controls",
          "model_name": "HBoxModel",
          "model_module_version": "1.5.0",
          "state": {
            "_dom_classes": [],
            "_model_module": "@jupyter-widgets/controls",
            "_model_module_version": "1.5.0",
            "_model_name": "HBoxModel",
            "_view_count": null,
            "_view_module": "@jupyter-widgets/controls",
            "_view_module_version": "1.5.0",
            "_view_name": "HBoxView",
            "box_style": "",
            "children": [
              "IPY_MODEL_2c5f4d78302b42b082718936bea2789a",
              "IPY_MODEL_937c10920e804eb8b1495804240574c4",
              "IPY_MODEL_9a7c804264f64e8db941e842c90846c2"
            ],
            "layout": "IPY_MODEL_b35ad8fafdc045b4985162aa83447efc"
          }
        },
        "2c5f4d78302b42b082718936bea2789a": {
          "model_module": "@jupyter-widgets/controls",
          "model_name": "HTMLModel",
          "model_module_version": "1.5.0",
          "state": {
            "_dom_classes": [],
            "_model_module": "@jupyter-widgets/controls",
            "_model_module_version": "1.5.0",
            "_model_name": "HTMLModel",
            "_view_count": null,
            "_view_module": "@jupyter-widgets/controls",
            "_view_module_version": "1.5.0",
            "_view_name": "HTMLView",
            "description": "",
            "description_tooltip": null,
            "layout": "IPY_MODEL_bd3acd4877c94a73aef6ffb0b07c78ac",
            "placeholder": "​",
            "style": "IPY_MODEL_c2c7232c43fb4488971914e6c725b971",
            "value": "Downloading metadata: 100%"
          }
        },
        "937c10920e804eb8b1495804240574c4": {
          "model_module": "@jupyter-widgets/controls",
          "model_name": "FloatProgressModel",
          "model_module_version": "1.5.0",
          "state": {
            "_dom_classes": [],
            "_model_module": "@jupyter-widgets/controls",
            "_model_module_version": "1.5.0",
            "_model_name": "FloatProgressModel",
            "_view_count": null,
            "_view_module": "@jupyter-widgets/controls",
            "_view_module_version": "1.5.0",
            "_view_name": "ProgressView",
            "bar_style": "success",
            "description": "",
            "description_tooltip": null,
            "layout": "IPY_MODEL_c35ff3a4fd20445f816c979e901ee807",
            "max": 13677,
            "min": 0,
            "orientation": "horizontal",
            "style": "IPY_MODEL_185a843cfa4146bbb47ac046be1f9b5a",
            "value": 13677
          }
        },
        "9a7c804264f64e8db941e842c90846c2": {
          "model_module": "@jupyter-widgets/controls",
          "model_name": "HTMLModel",
          "model_module_version": "1.5.0",
          "state": {
            "_dom_classes": [],
            "_model_module": "@jupyter-widgets/controls",
            "_model_module_version": "1.5.0",
            "_model_name": "HTMLModel",
            "_view_count": null,
            "_view_module": "@jupyter-widgets/controls",
            "_view_module_version": "1.5.0",
            "_view_name": "HTMLView",
            "description": "",
            "description_tooltip": null,
            "layout": "IPY_MODEL_38120c5d614d435d8bcca41b9809a956",
            "placeholder": "​",
            "style": "IPY_MODEL_fb28b2090dba4834975a31a119e9e72f",
            "value": " 13.7k/13.7k [00:00&lt;00:00, 654kB/s]"
          }
        },
        "b35ad8fafdc045b4985162aa83447efc": {
          "model_module": "@jupyter-widgets/base",
          "model_name": "LayoutModel",
          "model_module_version": "1.2.0",
          "state": {
            "_model_module": "@jupyter-widgets/base",
            "_model_module_version": "1.2.0",
            "_model_name": "LayoutModel",
            "_view_count": null,
            "_view_module": "@jupyter-widgets/base",
            "_view_module_version": "1.2.0",
            "_view_name": "LayoutView",
            "align_content": null,
            "align_items": null,
            "align_self": null,
            "border": null,
            "bottom": null,
            "display": null,
            "flex": null,
            "flex_flow": null,
            "grid_area": null,
            "grid_auto_columns": null,
            "grid_auto_flow": null,
            "grid_auto_rows": null,
            "grid_column": null,
            "grid_gap": null,
            "grid_row": null,
            "grid_template_areas": null,
            "grid_template_columns": null,
            "grid_template_rows": null,
            "height": null,
            "justify_content": null,
            "justify_items": null,
            "left": null,
            "margin": null,
            "max_height": null,
            "max_width": null,
            "min_height": null,
            "min_width": null,
            "object_fit": null,
            "object_position": null,
            "order": null,
            "overflow": null,
            "overflow_x": null,
            "overflow_y": null,
            "padding": null,
            "right": null,
            "top": null,
            "visibility": null,
            "width": null
          }
        },
        "bd3acd4877c94a73aef6ffb0b07c78ac": {
          "model_module": "@jupyter-widgets/base",
          "model_name": "LayoutModel",
          "model_module_version": "1.2.0",
          "state": {
            "_model_module": "@jupyter-widgets/base",
            "_model_module_version": "1.2.0",
            "_model_name": "LayoutModel",
            "_view_count": null,
            "_view_module": "@jupyter-widgets/base",
            "_view_module_version": "1.2.0",
            "_view_name": "LayoutView",
            "align_content": null,
            "align_items": null,
            "align_self": null,
            "border": null,
            "bottom": null,
            "display": null,
            "flex": null,
            "flex_flow": null,
            "grid_area": null,
            "grid_auto_columns": null,
            "grid_auto_flow": null,
            "grid_auto_rows": null,
            "grid_column": null,
            "grid_gap": null,
            "grid_row": null,
            "grid_template_areas": null,
            "grid_template_columns": null,
            "grid_template_rows": null,
            "height": null,
            "justify_content": null,
            "justify_items": null,
            "left": null,
            "margin": null,
            "max_height": null,
            "max_width": null,
            "min_height": null,
            "min_width": null,
            "object_fit": null,
            "object_position": null,
            "order": null,
            "overflow": null,
            "overflow_x": null,
            "overflow_y": null,
            "padding": null,
            "right": null,
            "top": null,
            "visibility": null,
            "width": null
          }
        },
        "c2c7232c43fb4488971914e6c725b971": {
          "model_module": "@jupyter-widgets/controls",
          "model_name": "DescriptionStyleModel",
          "model_module_version": "1.5.0",
          "state": {
            "_model_module": "@jupyter-widgets/controls",
            "_model_module_version": "1.5.0",
            "_model_name": "DescriptionStyleModel",
            "_view_count": null,
            "_view_module": "@jupyter-widgets/base",
            "_view_module_version": "1.2.0",
            "_view_name": "StyleView",
            "description_width": ""
          }
        },
        "c35ff3a4fd20445f816c979e901ee807": {
          "model_module": "@jupyter-widgets/base",
          "model_name": "LayoutModel",
          "model_module_version": "1.2.0",
          "state": {
            "_model_module": "@jupyter-widgets/base",
            "_model_module_version": "1.2.0",
            "_model_name": "LayoutModel",
            "_view_count": null,
            "_view_module": "@jupyter-widgets/base",
            "_view_module_version": "1.2.0",
            "_view_name": "LayoutView",
            "align_content": null,
            "align_items": null,
            "align_self": null,
            "border": null,
            "bottom": null,
            "display": null,
            "flex": null,
            "flex_flow": null,
            "grid_area": null,
            "grid_auto_columns": null,
            "grid_auto_flow": null,
            "grid_auto_rows": null,
            "grid_column": null,
            "grid_gap": null,
            "grid_row": null,
            "grid_template_areas": null,
            "grid_template_columns": null,
            "grid_template_rows": null,
            "height": null,
            "justify_content": null,
            "justify_items": null,
            "left": null,
            "margin": null,
            "max_height": null,
            "max_width": null,
            "min_height": null,
            "min_width": null,
            "object_fit": null,
            "object_position": null,
            "order": null,
            "overflow": null,
            "overflow_x": null,
            "overflow_y": null,
            "padding": null,
            "right": null,
            "top": null,
            "visibility": null,
            "width": null
          }
        },
        "185a843cfa4146bbb47ac046be1f9b5a": {
          "model_module": "@jupyter-widgets/controls",
          "model_name": "ProgressStyleModel",
          "model_module_version": "1.5.0",
          "state": {
            "_model_module": "@jupyter-widgets/controls",
            "_model_module_version": "1.5.0",
            "_model_name": "ProgressStyleModel",
            "_view_count": null,
            "_view_module": "@jupyter-widgets/base",
            "_view_module_version": "1.2.0",
            "_view_name": "StyleView",
            "bar_color": null,
            "description_width": ""
          }
        },
        "38120c5d614d435d8bcca41b9809a956": {
          "model_module": "@jupyter-widgets/base",
          "model_name": "LayoutModel",
          "model_module_version": "1.2.0",
          "state": {
            "_model_module": "@jupyter-widgets/base",
            "_model_module_version": "1.2.0",
            "_model_name": "LayoutModel",
            "_view_count": null,
            "_view_module": "@jupyter-widgets/base",
            "_view_module_version": "1.2.0",
            "_view_name": "LayoutView",
            "align_content": null,
            "align_items": null,
            "align_self": null,
            "border": null,
            "bottom": null,
            "display": null,
            "flex": null,
            "flex_flow": null,
            "grid_area": null,
            "grid_auto_columns": null,
            "grid_auto_flow": null,
            "grid_auto_rows": null,
            "grid_column": null,
            "grid_gap": null,
            "grid_row": null,
            "grid_template_areas": null,
            "grid_template_columns": null,
            "grid_template_rows": null,
            "height": null,
            "justify_content": null,
            "justify_items": null,
            "left": null,
            "margin": null,
            "max_height": null,
            "max_width": null,
            "min_height": null,
            "min_width": null,
            "object_fit": null,
            "object_position": null,
            "order": null,
            "overflow": null,
            "overflow_x": null,
            "overflow_y": null,
            "padding": null,
            "right": null,
            "top": null,
            "visibility": null,
            "width": null
          }
        },
        "fb28b2090dba4834975a31a119e9e72f": {
          "model_module": "@jupyter-widgets/controls",
          "model_name": "DescriptionStyleModel",
          "model_module_version": "1.5.0",
          "state": {
            "_model_module": "@jupyter-widgets/controls",
            "_model_module_version": "1.5.0",
            "_model_name": "DescriptionStyleModel",
            "_view_count": null,
            "_view_module": "@jupyter-widgets/base",
            "_view_module_version": "1.2.0",
            "_view_name": "StyleView",
            "description_width": ""
          }
        },
        "51cf6edb68934eaaa27ccea972581eae": {
          "model_module": "@jupyter-widgets/controls",
          "model_name": "HBoxModel",
          "model_module_version": "1.5.0",
          "state": {
            "_dom_classes": [],
            "_model_module": "@jupyter-widgets/controls",
            "_model_module_version": "1.5.0",
            "_model_name": "HBoxModel",
            "_view_count": null,
            "_view_module": "@jupyter-widgets/controls",
            "_view_module_version": "1.5.0",
            "_view_name": "HBoxView",
            "box_style": "",
            "children": [
              "IPY_MODEL_1aa74057ae7347aa8833720bf681c682",
              "IPY_MODEL_69f2b77813c945f99dcc01fd1ba1cf12",
              "IPY_MODEL_0126ca57312a40dd9288f56bae025f56"
            ],
            "layout": "IPY_MODEL_b5e7ffeaa62743599b9fabe84ae6ba89"
          }
        },
        "1aa74057ae7347aa8833720bf681c682": {
          "model_module": "@jupyter-widgets/controls",
          "model_name": "HTMLModel",
          "model_module_version": "1.5.0",
          "state": {
            "_dom_classes": [],
            "_model_module": "@jupyter-widgets/controls",
            "_model_module_version": "1.5.0",
            "_model_name": "HTMLModel",
            "_view_count": null,
            "_view_module": "@jupyter-widgets/controls",
            "_view_module_version": "1.5.0",
            "_view_name": "HTMLView",
            "description": "",
            "description_tooltip": null,
            "layout": "IPY_MODEL_4ea2ed1fb3e942afab58e9cf29050fe5",
            "placeholder": "​",
            "style": "IPY_MODEL_1a2bee275a4b48738f0a4e2982ecf30f",
            "value": "Downloading readme: 100%"
          }
        },
        "69f2b77813c945f99dcc01fd1ba1cf12": {
          "model_module": "@jupyter-widgets/controls",
          "model_name": "FloatProgressModel",
          "model_module_version": "1.5.0",
          "state": {
            "_dom_classes": [],
            "_model_module": "@jupyter-widgets/controls",
            "_model_module_version": "1.5.0",
            "_model_name": "FloatProgressModel",
            "_view_count": null,
            "_view_module": "@jupyter-widgets/controls",
            "_view_module_version": "1.5.0",
            "_view_name": "ProgressView",
            "bar_style": "success",
            "description": "",
            "description_tooltip": null,
            "layout": "IPY_MODEL_50fa464363e34dbca8d08b6853fb4d14",
            "max": 8862,
            "min": 0,
            "orientation": "horizontal",
            "style": "IPY_MODEL_ca01f28ab1714a58be16e6beeb2b72e6",
            "value": 8862
          }
        },
        "0126ca57312a40dd9288f56bae025f56": {
          "model_module": "@jupyter-widgets/controls",
          "model_name": "HTMLModel",
          "model_module_version": "1.5.0",
          "state": {
            "_dom_classes": [],
            "_model_module": "@jupyter-widgets/controls",
            "_model_module_version": "1.5.0",
            "_model_name": "HTMLModel",
            "_view_count": null,
            "_view_module": "@jupyter-widgets/controls",
            "_view_module_version": "1.5.0",
            "_view_name": "HTMLView",
            "description": "",
            "description_tooltip": null,
            "layout": "IPY_MODEL_645bc8c1f0614a0a8dcd2b25ead04b54",
            "placeholder": "​",
            "style": "IPY_MODEL_976d562d35e5475cace91721db055112",
            "value": " 8.86k/8.86k [00:00&lt;00:00, 412kB/s]"
          }
        },
        "b5e7ffeaa62743599b9fabe84ae6ba89": {
          "model_module": "@jupyter-widgets/base",
          "model_name": "LayoutModel",
          "model_module_version": "1.2.0",
          "state": {
            "_model_module": "@jupyter-widgets/base",
            "_model_module_version": "1.2.0",
            "_model_name": "LayoutModel",
            "_view_count": null,
            "_view_module": "@jupyter-widgets/base",
            "_view_module_version": "1.2.0",
            "_view_name": "LayoutView",
            "align_content": null,
            "align_items": null,
            "align_self": null,
            "border": null,
            "bottom": null,
            "display": null,
            "flex": null,
            "flex_flow": null,
            "grid_area": null,
            "grid_auto_columns": null,
            "grid_auto_flow": null,
            "grid_auto_rows": null,
            "grid_column": null,
            "grid_gap": null,
            "grid_row": null,
            "grid_template_areas": null,
            "grid_template_columns": null,
            "grid_template_rows": null,
            "height": null,
            "justify_content": null,
            "justify_items": null,
            "left": null,
            "margin": null,
            "max_height": null,
            "max_width": null,
            "min_height": null,
            "min_width": null,
            "object_fit": null,
            "object_position": null,
            "order": null,
            "overflow": null,
            "overflow_x": null,
            "overflow_y": null,
            "padding": null,
            "right": null,
            "top": null,
            "visibility": null,
            "width": null
          }
        },
        "4ea2ed1fb3e942afab58e9cf29050fe5": {
          "model_module": "@jupyter-widgets/base",
          "model_name": "LayoutModel",
          "model_module_version": "1.2.0",
          "state": {
            "_model_module": "@jupyter-widgets/base",
            "_model_module_version": "1.2.0",
            "_model_name": "LayoutModel",
            "_view_count": null,
            "_view_module": "@jupyter-widgets/base",
            "_view_module_version": "1.2.0",
            "_view_name": "LayoutView",
            "align_content": null,
            "align_items": null,
            "align_self": null,
            "border": null,
            "bottom": null,
            "display": null,
            "flex": null,
            "flex_flow": null,
            "grid_area": null,
            "grid_auto_columns": null,
            "grid_auto_flow": null,
            "grid_auto_rows": null,
            "grid_column": null,
            "grid_gap": null,
            "grid_row": null,
            "grid_template_areas": null,
            "grid_template_columns": null,
            "grid_template_rows": null,
            "height": null,
            "justify_content": null,
            "justify_items": null,
            "left": null,
            "margin": null,
            "max_height": null,
            "max_width": null,
            "min_height": null,
            "min_width": null,
            "object_fit": null,
            "object_position": null,
            "order": null,
            "overflow": null,
            "overflow_x": null,
            "overflow_y": null,
            "padding": null,
            "right": null,
            "top": null,
            "visibility": null,
            "width": null
          }
        },
        "1a2bee275a4b48738f0a4e2982ecf30f": {
          "model_module": "@jupyter-widgets/controls",
          "model_name": "DescriptionStyleModel",
          "model_module_version": "1.5.0",
          "state": {
            "_model_module": "@jupyter-widgets/controls",
            "_model_module_version": "1.5.0",
            "_model_name": "DescriptionStyleModel",
            "_view_count": null,
            "_view_module": "@jupyter-widgets/base",
            "_view_module_version": "1.2.0",
            "_view_name": "StyleView",
            "description_width": ""
          }
        },
        "50fa464363e34dbca8d08b6853fb4d14": {
          "model_module": "@jupyter-widgets/base",
          "model_name": "LayoutModel",
          "model_module_version": "1.2.0",
          "state": {
            "_model_module": "@jupyter-widgets/base",
            "_model_module_version": "1.2.0",
            "_model_name": "LayoutModel",
            "_view_count": null,
            "_view_module": "@jupyter-widgets/base",
            "_view_module_version": "1.2.0",
            "_view_name": "LayoutView",
            "align_content": null,
            "align_items": null,
            "align_self": null,
            "border": null,
            "bottom": null,
            "display": null,
            "flex": null,
            "flex_flow": null,
            "grid_area": null,
            "grid_auto_columns": null,
            "grid_auto_flow": null,
            "grid_auto_rows": null,
            "grid_column": null,
            "grid_gap": null,
            "grid_row": null,
            "grid_template_areas": null,
            "grid_template_columns": null,
            "grid_template_rows": null,
            "height": null,
            "justify_content": null,
            "justify_items": null,
            "left": null,
            "margin": null,
            "max_height": null,
            "max_width": null,
            "min_height": null,
            "min_width": null,
            "object_fit": null,
            "object_position": null,
            "order": null,
            "overflow": null,
            "overflow_x": null,
            "overflow_y": null,
            "padding": null,
            "right": null,
            "top": null,
            "visibility": null,
            "width": null
          }
        },
        "ca01f28ab1714a58be16e6beeb2b72e6": {
          "model_module": "@jupyter-widgets/controls",
          "model_name": "ProgressStyleModel",
          "model_module_version": "1.5.0",
          "state": {
            "_model_module": "@jupyter-widgets/controls",
            "_model_module_version": "1.5.0",
            "_model_name": "ProgressStyleModel",
            "_view_count": null,
            "_view_module": "@jupyter-widgets/base",
            "_view_module_version": "1.2.0",
            "_view_name": "StyleView",
            "bar_color": null,
            "description_width": ""
          }
        },
        "645bc8c1f0614a0a8dcd2b25ead04b54": {
          "model_module": "@jupyter-widgets/base",
          "model_name": "LayoutModel",
          "model_module_version": "1.2.0",
          "state": {
            "_model_module": "@jupyter-widgets/base",
            "_model_module_version": "1.2.0",
            "_model_name": "LayoutModel",
            "_view_count": null,
            "_view_module": "@jupyter-widgets/base",
            "_view_module_version": "1.2.0",
            "_view_name": "LayoutView",
            "align_content": null,
            "align_items": null,
            "align_self": null,
            "border": null,
            "bottom": null,
            "display": null,
            "flex": null,
            "flex_flow": null,
            "grid_area": null,
            "grid_auto_columns": null,
            "grid_auto_flow": null,
            "grid_auto_rows": null,
            "grid_column": null,
            "grid_gap": null,
            "grid_row": null,
            "grid_template_areas": null,
            "grid_template_columns": null,
            "grid_template_rows": null,
            "height": null,
            "justify_content": null,
            "justify_items": null,
            "left": null,
            "margin": null,
            "max_height": null,
            "max_width": null,
            "min_height": null,
            "min_width": null,
            "object_fit": null,
            "object_position": null,
            "order": null,
            "overflow": null,
            "overflow_x": null,
            "overflow_y": null,
            "padding": null,
            "right": null,
            "top": null,
            "visibility": null,
            "width": null
          }
        },
        "976d562d35e5475cace91721db055112": {
          "model_module": "@jupyter-widgets/controls",
          "model_name": "DescriptionStyleModel",
          "model_module_version": "1.5.0",
          "state": {
            "_model_module": "@jupyter-widgets/controls",
            "_model_module_version": "1.5.0",
            "_model_name": "DescriptionStyleModel",
            "_view_count": null,
            "_view_module": "@jupyter-widgets/base",
            "_view_module_version": "1.2.0",
            "_view_name": "StyleView",
            "description_width": ""
          }
        },
        "8dbb145829bf44f986ac2a85e396eb83": {
          "model_module": "@jupyter-widgets/controls",
          "model_name": "HBoxModel",
          "model_module_version": "1.5.0",
          "state": {
            "_dom_classes": [],
            "_model_module": "@jupyter-widgets/controls",
            "_model_module_version": "1.5.0",
            "_model_name": "HBoxModel",
            "_view_count": null,
            "_view_module": "@jupyter-widgets/controls",
            "_view_module_version": "1.5.0",
            "_view_name": "HBoxView",
            "box_style": "",
            "children": [
              "IPY_MODEL_899bd42aefcc4222a9d18b4bfdd5466d",
              "IPY_MODEL_91b3b7e19f734f5c829f25140f970e83",
              "IPY_MODEL_2227f3a7e8a74a5e9ebdce0264c7cc4c"
            ],
            "layout": "IPY_MODEL_84e8e2ded612442b82273d08569b6367"
          }
        },
        "899bd42aefcc4222a9d18b4bfdd5466d": {
          "model_module": "@jupyter-widgets/controls",
          "model_name": "HTMLModel",
          "model_module_version": "1.5.0",
          "state": {
            "_dom_classes": [],
            "_model_module": "@jupyter-widgets/controls",
            "_model_module_version": "1.5.0",
            "_model_name": "HTMLModel",
            "_view_count": null,
            "_view_module": "@jupyter-widgets/controls",
            "_view_module_version": "1.5.0",
            "_view_name": "HTMLView",
            "description": "",
            "description_tooltip": null,
            "layout": "IPY_MODEL_84fe9aa5007147bc8f3de02aa39cc233",
            "placeholder": "​",
            "style": "IPY_MODEL_85a1f501a5ae422dbab08df6b63978fc",
            "value": "Downloading data: 100%"
          }
        },
        "91b3b7e19f734f5c829f25140f970e83": {
          "model_module": "@jupyter-widgets/controls",
          "model_name": "FloatProgressModel",
          "model_module_version": "1.5.0",
          "state": {
            "_dom_classes": [],
            "_model_module": "@jupyter-widgets/controls",
            "_model_module_version": "1.5.0",
            "_model_name": "FloatProgressModel",
            "_view_count": null,
            "_view_module": "@jupyter-widgets/controls",
            "_view_module_version": "1.5.0",
            "_view_name": "ProgressView",
            "bar_style": "success",
            "description": "",
            "description_tooltip": null,
            "layout": "IPY_MODEL_22776003c89e40be80a0289b0b875a83",
            "max": 681890,
            "min": 0,
            "orientation": "horizontal",
            "style": "IPY_MODEL_bd29ea1b569d457b892a26886e51b1d5",
            "value": 681890
          }
        },
        "2227f3a7e8a74a5e9ebdce0264c7cc4c": {
          "model_module": "@jupyter-widgets/controls",
          "model_name": "HTMLModel",
          "model_module_version": "1.5.0",
          "state": {
            "_dom_classes": [],
            "_model_module": "@jupyter-widgets/controls",
            "_model_module_version": "1.5.0",
            "_model_name": "HTMLModel",
            "_view_count": null,
            "_view_module": "@jupyter-widgets/controls",
            "_view_module_version": "1.5.0",
            "_view_name": "HTMLView",
            "description": "",
            "description_tooltip": null,
            "layout": "IPY_MODEL_ca4c7df095ba45f089c88c62fd0b9a7b",
            "placeholder": "​",
            "style": "IPY_MODEL_f6bf8345442349ed8903b1f30395f2a6",
            "value": " 682k/682k [00:00&lt;00:00, 7.72MB/s]"
          }
        },
        "84e8e2ded612442b82273d08569b6367": {
          "model_module": "@jupyter-widgets/base",
          "model_name": "LayoutModel",
          "model_module_version": "1.2.0",
          "state": {
            "_model_module": "@jupyter-widgets/base",
            "_model_module_version": "1.2.0",
            "_model_name": "LayoutModel",
            "_view_count": null,
            "_view_module": "@jupyter-widgets/base",
            "_view_module_version": "1.2.0",
            "_view_name": "LayoutView",
            "align_content": null,
            "align_items": null,
            "align_self": null,
            "border": null,
            "bottom": null,
            "display": null,
            "flex": null,
            "flex_flow": null,
            "grid_area": null,
            "grid_auto_columns": null,
            "grid_auto_flow": null,
            "grid_auto_rows": null,
            "grid_column": null,
            "grid_gap": null,
            "grid_row": null,
            "grid_template_areas": null,
            "grid_template_columns": null,
            "grid_template_rows": null,
            "height": null,
            "justify_content": null,
            "justify_items": null,
            "left": null,
            "margin": null,
            "max_height": null,
            "max_width": null,
            "min_height": null,
            "min_width": null,
            "object_fit": null,
            "object_position": null,
            "order": null,
            "overflow": null,
            "overflow_x": null,
            "overflow_y": null,
            "padding": null,
            "right": null,
            "top": null,
            "visibility": null,
            "width": null
          }
        },
        "84fe9aa5007147bc8f3de02aa39cc233": {
          "model_module": "@jupyter-widgets/base",
          "model_name": "LayoutModel",
          "model_module_version": "1.2.0",
          "state": {
            "_model_module": "@jupyter-widgets/base",
            "_model_module_version": "1.2.0",
            "_model_name": "LayoutModel",
            "_view_count": null,
            "_view_module": "@jupyter-widgets/base",
            "_view_module_version": "1.2.0",
            "_view_name": "LayoutView",
            "align_content": null,
            "align_items": null,
            "align_self": null,
            "border": null,
            "bottom": null,
            "display": null,
            "flex": null,
            "flex_flow": null,
            "grid_area": null,
            "grid_auto_columns": null,
            "grid_auto_flow": null,
            "grid_auto_rows": null,
            "grid_column": null,
            "grid_gap": null,
            "grid_row": null,
            "grid_template_areas": null,
            "grid_template_columns": null,
            "grid_template_rows": null,
            "height": null,
            "justify_content": null,
            "justify_items": null,
            "left": null,
            "margin": null,
            "max_height": null,
            "max_width": null,
            "min_height": null,
            "min_width": null,
            "object_fit": null,
            "object_position": null,
            "order": null,
            "overflow": null,
            "overflow_x": null,
            "overflow_y": null,
            "padding": null,
            "right": null,
            "top": null,
            "visibility": null,
            "width": null
          }
        },
        "85a1f501a5ae422dbab08df6b63978fc": {
          "model_module": "@jupyter-widgets/controls",
          "model_name": "DescriptionStyleModel",
          "model_module_version": "1.5.0",
          "state": {
            "_model_module": "@jupyter-widgets/controls",
            "_model_module_version": "1.5.0",
            "_model_name": "DescriptionStyleModel",
            "_view_count": null,
            "_view_module": "@jupyter-widgets/base",
            "_view_module_version": "1.2.0",
            "_view_name": "StyleView",
            "description_width": ""
          }
        },
        "22776003c89e40be80a0289b0b875a83": {
          "model_module": "@jupyter-widgets/base",
          "model_name": "LayoutModel",
          "model_module_version": "1.2.0",
          "state": {
            "_model_module": "@jupyter-widgets/base",
            "_model_module_version": "1.2.0",
            "_model_name": "LayoutModel",
            "_view_count": null,
            "_view_module": "@jupyter-widgets/base",
            "_view_module_version": "1.2.0",
            "_view_name": "LayoutView",
            "align_content": null,
            "align_items": null,
            "align_self": null,
            "border": null,
            "bottom": null,
            "display": null,
            "flex": null,
            "flex_flow": null,
            "grid_area": null,
            "grid_auto_columns": null,
            "grid_auto_flow": null,
            "grid_auto_rows": null,
            "grid_column": null,
            "grid_gap": null,
            "grid_row": null,
            "grid_template_areas": null,
            "grid_template_columns": null,
            "grid_template_rows": null,
            "height": null,
            "justify_content": null,
            "justify_items": null,
            "left": null,
            "margin": null,
            "max_height": null,
            "max_width": null,
            "min_height": null,
            "min_width": null,
            "object_fit": null,
            "object_position": null,
            "order": null,
            "overflow": null,
            "overflow_x": null,
            "overflow_y": null,
            "padding": null,
            "right": null,
            "top": null,
            "visibility": null,
            "width": null
          }
        },
        "bd29ea1b569d457b892a26886e51b1d5": {
          "model_module": "@jupyter-widgets/controls",
          "model_name": "ProgressStyleModel",
          "model_module_version": "1.5.0",
          "state": {
            "_model_module": "@jupyter-widgets/controls",
            "_model_module_version": "1.5.0",
            "_model_name": "ProgressStyleModel",
            "_view_count": null,
            "_view_module": "@jupyter-widgets/base",
            "_view_module_version": "1.2.0",
            "_view_name": "StyleView",
            "bar_color": null,
            "description_width": ""
          }
        },
        "ca4c7df095ba45f089c88c62fd0b9a7b": {
          "model_module": "@jupyter-widgets/base",
          "model_name": "LayoutModel",
          "model_module_version": "1.2.0",
          "state": {
            "_model_module": "@jupyter-widgets/base",
            "_model_module_version": "1.2.0",
            "_model_name": "LayoutModel",
            "_view_count": null,
            "_view_module": "@jupyter-widgets/base",
            "_view_module_version": "1.2.0",
            "_view_name": "LayoutView",
            "align_content": null,
            "align_items": null,
            "align_self": null,
            "border": null,
            "bottom": null,
            "display": null,
            "flex": null,
            "flex_flow": null,
            "grid_area": null,
            "grid_auto_columns": null,
            "grid_auto_flow": null,
            "grid_auto_rows": null,
            "grid_column": null,
            "grid_gap": null,
            "grid_row": null,
            "grid_template_areas": null,
            "grid_template_columns": null,
            "grid_template_rows": null,
            "height": null,
            "justify_content": null,
            "justify_items": null,
            "left": null,
            "margin": null,
            "max_height": null,
            "max_width": null,
            "min_height": null,
            "min_width": null,
            "object_fit": null,
            "object_position": null,
            "order": null,
            "overflow": null,
            "overflow_x": null,
            "overflow_y": null,
            "padding": null,
            "right": null,
            "top": null,
            "visibility": null,
            "width": null
          }
        },
        "f6bf8345442349ed8903b1f30395f2a6": {
          "model_module": "@jupyter-widgets/controls",
          "model_name": "DescriptionStyleModel",
          "model_module_version": "1.5.0",
          "state": {
            "_model_module": "@jupyter-widgets/controls",
            "_model_module_version": "1.5.0",
            "_model_name": "DescriptionStyleModel",
            "_view_count": null,
            "_view_module": "@jupyter-widgets/base",
            "_view_module_version": "1.2.0",
            "_view_name": "StyleView",
            "description_width": ""
          }
        },
        "3d46c91713504f568b8d37f0f134d804": {
          "model_module": "@jupyter-widgets/controls",
          "model_name": "HBoxModel",
          "model_module_version": "1.5.0",
          "state": {
            "_dom_classes": [],
            "_model_module": "@jupyter-widgets/controls",
            "_model_module_version": "1.5.0",
            "_model_name": "HBoxModel",
            "_view_count": null,
            "_view_module": "@jupyter-widgets/controls",
            "_view_module_version": "1.5.0",
            "_view_name": "HBoxView",
            "box_style": "",
            "children": [
              "IPY_MODEL_af56744fcbeb417ba8aaa705b95a896f",
              "IPY_MODEL_b9760e739f4e4db28b5ad214142931ae",
              "IPY_MODEL_f89d38024ac6412b9f3058d59e5ec16f"
            ],
            "layout": "IPY_MODEL_d4c0ab903fff4ba394a4425a056a0424"
          }
        },
        "af56744fcbeb417ba8aaa705b95a896f": {
          "model_module": "@jupyter-widgets/controls",
          "model_name": "HTMLModel",
          "model_module_version": "1.5.0",
          "state": {
            "_dom_classes": [],
            "_model_module": "@jupyter-widgets/controls",
            "_model_module_version": "1.5.0",
            "_model_name": "HTMLModel",
            "_view_count": null,
            "_view_module": "@jupyter-widgets/controls",
            "_view_module_version": "1.5.0",
            "_view_name": "HTMLView",
            "description": "",
            "description_tooltip": null,
            "layout": "IPY_MODEL_eba74edee89d445a8b47df8c3ce578a9",
            "placeholder": "​",
            "style": "IPY_MODEL_73bce0ca9c7d4629bb418cf25a75089f",
            "value": "Generating train split:  93%"
          }
        },
        "b9760e739f4e4db28b5ad214142931ae": {
          "model_module": "@jupyter-widgets/controls",
          "model_name": "FloatProgressModel",
          "model_module_version": "1.5.0",
          "state": {
            "_dom_classes": [],
            "_model_module": "@jupyter-widgets/controls",
            "_model_module_version": "1.5.0",
            "_model_name": "FloatProgressModel",
            "_view_count": null,
            "_view_module": "@jupyter-widgets/controls",
            "_view_module_version": "1.5.0",
            "_view_name": "ProgressView",
            "bar_style": "",
            "description": "",
            "description_tooltip": null,
            "layout": "IPY_MODEL_3e25f8e05186473188b0ca1e7c0cbffa",
            "max": 2264,
            "min": 0,
            "orientation": "horizontal",
            "style": "IPY_MODEL_07585c07cbef4a59b94679d64b98840c",
            "value": 2264
          }
        },
        "f89d38024ac6412b9f3058d59e5ec16f": {
          "model_module": "@jupyter-widgets/controls",
          "model_name": "HTMLModel",
          "model_module_version": "1.5.0",
          "state": {
            "_dom_classes": [],
            "_model_module": "@jupyter-widgets/controls",
            "_model_module_version": "1.5.0",
            "_model_name": "HTMLModel",
            "_view_count": null,
            "_view_module": "@jupyter-widgets/controls",
            "_view_module_version": "1.5.0",
            "_view_name": "HTMLView",
            "description": "",
            "description_tooltip": null,
            "layout": "IPY_MODEL_71093706a5e64593aaa1f2d58f8db0d1",
            "placeholder": "​",
            "style": "IPY_MODEL_1b8509df6f3b4b8d8961a25454c63d99",
            "value": " 2114/2264 [00:00&lt;00:00, 6979.60 examples/s]"
          }
        },
        "d4c0ab903fff4ba394a4425a056a0424": {
          "model_module": "@jupyter-widgets/base",
          "model_name": "LayoutModel",
          "model_module_version": "1.2.0",
          "state": {
            "_model_module": "@jupyter-widgets/base",
            "_model_module_version": "1.2.0",
            "_model_name": "LayoutModel",
            "_view_count": null,
            "_view_module": "@jupyter-widgets/base",
            "_view_module_version": "1.2.0",
            "_view_name": "LayoutView",
            "align_content": null,
            "align_items": null,
            "align_self": null,
            "border": null,
            "bottom": null,
            "display": null,
            "flex": null,
            "flex_flow": null,
            "grid_area": null,
            "grid_auto_columns": null,
            "grid_auto_flow": null,
            "grid_auto_rows": null,
            "grid_column": null,
            "grid_gap": null,
            "grid_row": null,
            "grid_template_areas": null,
            "grid_template_columns": null,
            "grid_template_rows": null,
            "height": null,
            "justify_content": null,
            "justify_items": null,
            "left": null,
            "margin": null,
            "max_height": null,
            "max_width": null,
            "min_height": null,
            "min_width": null,
            "object_fit": null,
            "object_position": null,
            "order": null,
            "overflow": null,
            "overflow_x": null,
            "overflow_y": null,
            "padding": null,
            "right": null,
            "top": null,
            "visibility": "hidden",
            "width": null
          }
        },
        "eba74edee89d445a8b47df8c3ce578a9": {
          "model_module": "@jupyter-widgets/base",
          "model_name": "LayoutModel",
          "model_module_version": "1.2.0",
          "state": {
            "_model_module": "@jupyter-widgets/base",
            "_model_module_version": "1.2.0",
            "_model_name": "LayoutModel",
            "_view_count": null,
            "_view_module": "@jupyter-widgets/base",
            "_view_module_version": "1.2.0",
            "_view_name": "LayoutView",
            "align_content": null,
            "align_items": null,
            "align_self": null,
            "border": null,
            "bottom": null,
            "display": null,
            "flex": null,
            "flex_flow": null,
            "grid_area": null,
            "grid_auto_columns": null,
            "grid_auto_flow": null,
            "grid_auto_rows": null,
            "grid_column": null,
            "grid_gap": null,
            "grid_row": null,
            "grid_template_areas": null,
            "grid_template_columns": null,
            "grid_template_rows": null,
            "height": null,
            "justify_content": null,
            "justify_items": null,
            "left": null,
            "margin": null,
            "max_height": null,
            "max_width": null,
            "min_height": null,
            "min_width": null,
            "object_fit": null,
            "object_position": null,
            "order": null,
            "overflow": null,
            "overflow_x": null,
            "overflow_y": null,
            "padding": null,
            "right": null,
            "top": null,
            "visibility": null,
            "width": null
          }
        },
        "73bce0ca9c7d4629bb418cf25a75089f": {
          "model_module": "@jupyter-widgets/controls",
          "model_name": "DescriptionStyleModel",
          "model_module_version": "1.5.0",
          "state": {
            "_model_module": "@jupyter-widgets/controls",
            "_model_module_version": "1.5.0",
            "_model_name": "DescriptionStyleModel",
            "_view_count": null,
            "_view_module": "@jupyter-widgets/base",
            "_view_module_version": "1.2.0",
            "_view_name": "StyleView",
            "description_width": ""
          }
        },
        "3e25f8e05186473188b0ca1e7c0cbffa": {
          "model_module": "@jupyter-widgets/base",
          "model_name": "LayoutModel",
          "model_module_version": "1.2.0",
          "state": {
            "_model_module": "@jupyter-widgets/base",
            "_model_module_version": "1.2.0",
            "_model_name": "LayoutModel",
            "_view_count": null,
            "_view_module": "@jupyter-widgets/base",
            "_view_module_version": "1.2.0",
            "_view_name": "LayoutView",
            "align_content": null,
            "align_items": null,
            "align_self": null,
            "border": null,
            "bottom": null,
            "display": null,
            "flex": null,
            "flex_flow": null,
            "grid_area": null,
            "grid_auto_columns": null,
            "grid_auto_flow": null,
            "grid_auto_rows": null,
            "grid_column": null,
            "grid_gap": null,
            "grid_row": null,
            "grid_template_areas": null,
            "grid_template_columns": null,
            "grid_template_rows": null,
            "height": null,
            "justify_content": null,
            "justify_items": null,
            "left": null,
            "margin": null,
            "max_height": null,
            "max_width": null,
            "min_height": null,
            "min_width": null,
            "object_fit": null,
            "object_position": null,
            "order": null,
            "overflow": null,
            "overflow_x": null,
            "overflow_y": null,
            "padding": null,
            "right": null,
            "top": null,
            "visibility": null,
            "width": null
          }
        },
        "07585c07cbef4a59b94679d64b98840c": {
          "model_module": "@jupyter-widgets/controls",
          "model_name": "ProgressStyleModel",
          "model_module_version": "1.5.0",
          "state": {
            "_model_module": "@jupyter-widgets/controls",
            "_model_module_version": "1.5.0",
            "_model_name": "ProgressStyleModel",
            "_view_count": null,
            "_view_module": "@jupyter-widgets/base",
            "_view_module_version": "1.2.0",
            "_view_name": "StyleView",
            "bar_color": null,
            "description_width": ""
          }
        },
        "71093706a5e64593aaa1f2d58f8db0d1": {
          "model_module": "@jupyter-widgets/base",
          "model_name": "LayoutModel",
          "model_module_version": "1.2.0",
          "state": {
            "_model_module": "@jupyter-widgets/base",
            "_model_module_version": "1.2.0",
            "_model_name": "LayoutModel",
            "_view_count": null,
            "_view_module": "@jupyter-widgets/base",
            "_view_module_version": "1.2.0",
            "_view_name": "LayoutView",
            "align_content": null,
            "align_items": null,
            "align_self": null,
            "border": null,
            "bottom": null,
            "display": null,
            "flex": null,
            "flex_flow": null,
            "grid_area": null,
            "grid_auto_columns": null,
            "grid_auto_flow": null,
            "grid_auto_rows": null,
            "grid_column": null,
            "grid_gap": null,
            "grid_row": null,
            "grid_template_areas": null,
            "grid_template_columns": null,
            "grid_template_rows": null,
            "height": null,
            "justify_content": null,
            "justify_items": null,
            "left": null,
            "margin": null,
            "max_height": null,
            "max_width": null,
            "min_height": null,
            "min_width": null,
            "object_fit": null,
            "object_position": null,
            "order": null,
            "overflow": null,
            "overflow_x": null,
            "overflow_y": null,
            "padding": null,
            "right": null,
            "top": null,
            "visibility": null,
            "width": null
          }
        },
        "1b8509df6f3b4b8d8961a25454c63d99": {
          "model_module": "@jupyter-widgets/controls",
          "model_name": "DescriptionStyleModel",
          "model_module_version": "1.5.0",
          "state": {
            "_model_module": "@jupyter-widgets/controls",
            "_model_module_version": "1.5.0",
            "_model_name": "DescriptionStyleModel",
            "_view_count": null,
            "_view_module": "@jupyter-widgets/base",
            "_view_module_version": "1.2.0",
            "_view_name": "StyleView",
            "description_width": ""
          }
        },
        "fae20f3871fd41ab85c4fd024b6bbec3": {
          "model_module": "@jupyter-widgets/controls",
          "model_name": "HBoxModel",
          "model_module_version": "1.5.0",
          "state": {
            "_dom_classes": [],
            "_model_module": "@jupyter-widgets/controls",
            "_model_module_version": "1.5.0",
            "_model_name": "HBoxModel",
            "_view_count": null,
            "_view_module": "@jupyter-widgets/controls",
            "_view_module_version": "1.5.0",
            "_view_name": "HBoxView",
            "box_style": "",
            "children": [
              "IPY_MODEL_9d7d200d31fa4dcfa4507840b40fb7f0",
              "IPY_MODEL_99db6045fe004ad8b5af475eb30c4176",
              "IPY_MODEL_03bf7e3c06f942b3a0ca637f50efa29c"
            ],
            "layout": "IPY_MODEL_4ff28d79124e4500a06eedddc59d8ba2"
          }
        },
        "9d7d200d31fa4dcfa4507840b40fb7f0": {
          "model_module": "@jupyter-widgets/controls",
          "model_name": "HTMLModel",
          "model_module_version": "1.5.0",
          "state": {
            "_dom_classes": [],
            "_model_module": "@jupyter-widgets/controls",
            "_model_module_version": "1.5.0",
            "_model_name": "HTMLModel",
            "_view_count": null,
            "_view_module": "@jupyter-widgets/controls",
            "_view_module_version": "1.5.0",
            "_view_name": "HTMLView",
            "description": "",
            "description_tooltip": null,
            "layout": "IPY_MODEL_f7d2c7d56bf548b4a6ecfd81805507b5",
            "placeholder": "​",
            "style": "IPY_MODEL_8fae8d215bd24b54bb4c03b53d17192a",
            "value": "100%"
          }
        },
        "99db6045fe004ad8b5af475eb30c4176": {
          "model_module": "@jupyter-widgets/controls",
          "model_name": "FloatProgressModel",
          "model_module_version": "1.5.0",
          "state": {
            "_dom_classes": [],
            "_model_module": "@jupyter-widgets/controls",
            "_model_module_version": "1.5.0",
            "_model_name": "FloatProgressModel",
            "_view_count": null,
            "_view_module": "@jupyter-widgets/controls",
            "_view_module_version": "1.5.0",
            "_view_name": "ProgressView",
            "bar_style": "success",
            "description": "",
            "description_tooltip": null,
            "layout": "IPY_MODEL_d2c5041606b84433859f9cc68d975d70",
            "max": 1,
            "min": 0,
            "orientation": "horizontal",
            "style": "IPY_MODEL_b88f5cfadae445d894663a5cbf8bb88c",
            "value": 1
          }
        },
        "03bf7e3c06f942b3a0ca637f50efa29c": {
          "model_module": "@jupyter-widgets/controls",
          "model_name": "HTMLModel",
          "model_module_version": "1.5.0",
          "state": {
            "_dom_classes": [],
            "_model_module": "@jupyter-widgets/controls",
            "_model_module_version": "1.5.0",
            "_model_name": "HTMLModel",
            "_view_count": null,
            "_view_module": "@jupyter-widgets/controls",
            "_view_module_version": "1.5.0",
            "_view_name": "HTMLView",
            "description": "",
            "description_tooltip": null,
            "layout": "IPY_MODEL_ce3f923466004f2ea15f7ba5a6caa576",
            "placeholder": "​",
            "style": "IPY_MODEL_f74d2e48a3924391b4f5c905beb8dabd",
            "value": " 1/1 [00:00&lt;00:00, 23.10it/s]"
          }
        },
        "4ff28d79124e4500a06eedddc59d8ba2": {
          "model_module": "@jupyter-widgets/base",
          "model_name": "LayoutModel",
          "model_module_version": "1.2.0",
          "state": {
            "_model_module": "@jupyter-widgets/base",
            "_model_module_version": "1.2.0",
            "_model_name": "LayoutModel",
            "_view_count": null,
            "_view_module": "@jupyter-widgets/base",
            "_view_module_version": "1.2.0",
            "_view_name": "LayoutView",
            "align_content": null,
            "align_items": null,
            "align_self": null,
            "border": null,
            "bottom": null,
            "display": null,
            "flex": null,
            "flex_flow": null,
            "grid_area": null,
            "grid_auto_columns": null,
            "grid_auto_flow": null,
            "grid_auto_rows": null,
            "grid_column": null,
            "grid_gap": null,
            "grid_row": null,
            "grid_template_areas": null,
            "grid_template_columns": null,
            "grid_template_rows": null,
            "height": null,
            "justify_content": null,
            "justify_items": null,
            "left": null,
            "margin": null,
            "max_height": null,
            "max_width": null,
            "min_height": null,
            "min_width": null,
            "object_fit": null,
            "object_position": null,
            "order": null,
            "overflow": null,
            "overflow_x": null,
            "overflow_y": null,
            "padding": null,
            "right": null,
            "top": null,
            "visibility": null,
            "width": null
          }
        },
        "f7d2c7d56bf548b4a6ecfd81805507b5": {
          "model_module": "@jupyter-widgets/base",
          "model_name": "LayoutModel",
          "model_module_version": "1.2.0",
          "state": {
            "_model_module": "@jupyter-widgets/base",
            "_model_module_version": "1.2.0",
            "_model_name": "LayoutModel",
            "_view_count": null,
            "_view_module": "@jupyter-widgets/base",
            "_view_module_version": "1.2.0",
            "_view_name": "LayoutView",
            "align_content": null,
            "align_items": null,
            "align_self": null,
            "border": null,
            "bottom": null,
            "display": null,
            "flex": null,
            "flex_flow": null,
            "grid_area": null,
            "grid_auto_columns": null,
            "grid_auto_flow": null,
            "grid_auto_rows": null,
            "grid_column": null,
            "grid_gap": null,
            "grid_row": null,
            "grid_template_areas": null,
            "grid_template_columns": null,
            "grid_template_rows": null,
            "height": null,
            "justify_content": null,
            "justify_items": null,
            "left": null,
            "margin": null,
            "max_height": null,
            "max_width": null,
            "min_height": null,
            "min_width": null,
            "object_fit": null,
            "object_position": null,
            "order": null,
            "overflow": null,
            "overflow_x": null,
            "overflow_y": null,
            "padding": null,
            "right": null,
            "top": null,
            "visibility": null,
            "width": null
          }
        },
        "8fae8d215bd24b54bb4c03b53d17192a": {
          "model_module": "@jupyter-widgets/controls",
          "model_name": "DescriptionStyleModel",
          "model_module_version": "1.5.0",
          "state": {
            "_model_module": "@jupyter-widgets/controls",
            "_model_module_version": "1.5.0",
            "_model_name": "DescriptionStyleModel",
            "_view_count": null,
            "_view_module": "@jupyter-widgets/base",
            "_view_module_version": "1.2.0",
            "_view_name": "StyleView",
            "description_width": ""
          }
        },
        "d2c5041606b84433859f9cc68d975d70": {
          "model_module": "@jupyter-widgets/base",
          "model_name": "LayoutModel",
          "model_module_version": "1.2.0",
          "state": {
            "_model_module": "@jupyter-widgets/base",
            "_model_module_version": "1.2.0",
            "_model_name": "LayoutModel",
            "_view_count": null,
            "_view_module": "@jupyter-widgets/base",
            "_view_module_version": "1.2.0",
            "_view_name": "LayoutView",
            "align_content": null,
            "align_items": null,
            "align_self": null,
            "border": null,
            "bottom": null,
            "display": null,
            "flex": null,
            "flex_flow": null,
            "grid_area": null,
            "grid_auto_columns": null,
            "grid_auto_flow": null,
            "grid_auto_rows": null,
            "grid_column": null,
            "grid_gap": null,
            "grid_row": null,
            "grid_template_areas": null,
            "grid_template_columns": null,
            "grid_template_rows": null,
            "height": null,
            "justify_content": null,
            "justify_items": null,
            "left": null,
            "margin": null,
            "max_height": null,
            "max_width": null,
            "min_height": null,
            "min_width": null,
            "object_fit": null,
            "object_position": null,
            "order": null,
            "overflow": null,
            "overflow_x": null,
            "overflow_y": null,
            "padding": null,
            "right": null,
            "top": null,
            "visibility": null,
            "width": null
          }
        },
        "b88f5cfadae445d894663a5cbf8bb88c": {
          "model_module": "@jupyter-widgets/controls",
          "model_name": "ProgressStyleModel",
          "model_module_version": "1.5.0",
          "state": {
            "_model_module": "@jupyter-widgets/controls",
            "_model_module_version": "1.5.0",
            "_model_name": "ProgressStyleModel",
            "_view_count": null,
            "_view_module": "@jupyter-widgets/base",
            "_view_module_version": "1.2.0",
            "_view_name": "StyleView",
            "bar_color": null,
            "description_width": ""
          }
        },
        "ce3f923466004f2ea15f7ba5a6caa576": {
          "model_module": "@jupyter-widgets/base",
          "model_name": "LayoutModel",
          "model_module_version": "1.2.0",
          "state": {
            "_model_module": "@jupyter-widgets/base",
            "_model_module_version": "1.2.0",
            "_model_name": "LayoutModel",
            "_view_count": null,
            "_view_module": "@jupyter-widgets/base",
            "_view_module_version": "1.2.0",
            "_view_name": "LayoutView",
            "align_content": null,
            "align_items": null,
            "align_self": null,
            "border": null,
            "bottom": null,
            "display": null,
            "flex": null,
            "flex_flow": null,
            "grid_area": null,
            "grid_auto_columns": null,
            "grid_auto_flow": null,
            "grid_auto_rows": null,
            "grid_column": null,
            "grid_gap": null,
            "grid_row": null,
            "grid_template_areas": null,
            "grid_template_columns": null,
            "grid_template_rows": null,
            "height": null,
            "justify_content": null,
            "justify_items": null,
            "left": null,
            "margin": null,
            "max_height": null,
            "max_width": null,
            "min_height": null,
            "min_width": null,
            "object_fit": null,
            "object_position": null,
            "order": null,
            "overflow": null,
            "overflow_x": null,
            "overflow_y": null,
            "padding": null,
            "right": null,
            "top": null,
            "visibility": null,
            "width": null
          }
        },
        "f74d2e48a3924391b4f5c905beb8dabd": {
          "model_module": "@jupyter-widgets/controls",
          "model_name": "DescriptionStyleModel",
          "model_module_version": "1.5.0",
          "state": {
            "_model_module": "@jupyter-widgets/controls",
            "_model_module_version": "1.5.0",
            "_model_name": "DescriptionStyleModel",
            "_view_count": null,
            "_view_module": "@jupyter-widgets/base",
            "_view_module_version": "1.2.0",
            "_view_name": "StyleView",
            "description_width": ""
          }
        },
        "a53454fa84f1415dae39cad3562d21c1": {
          "model_module": "@jupyter-widgets/controls",
          "model_name": "HBoxModel",
          "model_module_version": "1.5.0",
          "state": {
            "_dom_classes": [],
            "_model_module": "@jupyter-widgets/controls",
            "_model_module_version": "1.5.0",
            "_model_name": "HBoxModel",
            "_view_count": null,
            "_view_module": "@jupyter-widgets/controls",
            "_view_module_version": "1.5.0",
            "_view_name": "HBoxView",
            "box_style": "",
            "children": [
              "IPY_MODEL_d8b9c09708da48898676f0924851613b",
              "IPY_MODEL_430734e9fc9c4818b11a8800267e31ff",
              "IPY_MODEL_550bfb7d505c487fbc3ad728652fab36"
            ],
            "layout": "IPY_MODEL_65e0b9bc88ff42618f653438f5a00ee0"
          }
        },
        "d8b9c09708da48898676f0924851613b": {
          "model_module": "@jupyter-widgets/controls",
          "model_name": "HTMLModel",
          "model_module_version": "1.5.0",
          "state": {
            "_dom_classes": [],
            "_model_module": "@jupyter-widgets/controls",
            "_model_module_version": "1.5.0",
            "_model_name": "HTMLModel",
            "_view_count": null,
            "_view_module": "@jupyter-widgets/controls",
            "_view_module_version": "1.5.0",
            "_view_name": "HTMLView",
            "description": "",
            "description_tooltip": null,
            "layout": "IPY_MODEL_a29e72800cba47ce9f785a5d55d32979",
            "placeholder": "​",
            "style": "IPY_MODEL_b86a42c8e8704ed39dd1063d4659ff38",
            "value": "Downloading (…)okenizer_config.json: 100%"
          }
        },
        "430734e9fc9c4818b11a8800267e31ff": {
          "model_module": "@jupyter-widgets/controls",
          "model_name": "FloatProgressModel",
          "model_module_version": "1.5.0",
          "state": {
            "_dom_classes": [],
            "_model_module": "@jupyter-widgets/controls",
            "_model_module_version": "1.5.0",
            "_model_name": "FloatProgressModel",
            "_view_count": null,
            "_view_module": "@jupyter-widgets/controls",
            "_view_module_version": "1.5.0",
            "_view_name": "ProgressView",
            "bar_style": "success",
            "description": "",
            "description_tooltip": null,
            "layout": "IPY_MODEL_d830431200f4498f894c077bc59c7157",
            "max": 28,
            "min": 0,
            "orientation": "horizontal",
            "style": "IPY_MODEL_cb98d526e0e44bce80fd74b7672e20fe",
            "value": 28
          }
        },
        "550bfb7d505c487fbc3ad728652fab36": {
          "model_module": "@jupyter-widgets/controls",
          "model_name": "HTMLModel",
          "model_module_version": "1.5.0",
          "state": {
            "_dom_classes": [],
            "_model_module": "@jupyter-widgets/controls",
            "_model_module_version": "1.5.0",
            "_model_name": "HTMLModel",
            "_view_count": null,
            "_view_module": "@jupyter-widgets/controls",
            "_view_module_version": "1.5.0",
            "_view_name": "HTMLView",
            "description": "",
            "description_tooltip": null,
            "layout": "IPY_MODEL_d7af34558c564ca38c7c34355baed31f",
            "placeholder": "​",
            "style": "IPY_MODEL_f8e383c1e3184acf8a216ce25e6ce682",
            "value": " 28.0/28.0 [00:00&lt;00:00, 313B/s]"
          }
        },
        "65e0b9bc88ff42618f653438f5a00ee0": {
          "model_module": "@jupyter-widgets/base",
          "model_name": "LayoutModel",
          "model_module_version": "1.2.0",
          "state": {
            "_model_module": "@jupyter-widgets/base",
            "_model_module_version": "1.2.0",
            "_model_name": "LayoutModel",
            "_view_count": null,
            "_view_module": "@jupyter-widgets/base",
            "_view_module_version": "1.2.0",
            "_view_name": "LayoutView",
            "align_content": null,
            "align_items": null,
            "align_self": null,
            "border": null,
            "bottom": null,
            "display": null,
            "flex": null,
            "flex_flow": null,
            "grid_area": null,
            "grid_auto_columns": null,
            "grid_auto_flow": null,
            "grid_auto_rows": null,
            "grid_column": null,
            "grid_gap": null,
            "grid_row": null,
            "grid_template_areas": null,
            "grid_template_columns": null,
            "grid_template_rows": null,
            "height": null,
            "justify_content": null,
            "justify_items": null,
            "left": null,
            "margin": null,
            "max_height": null,
            "max_width": null,
            "min_height": null,
            "min_width": null,
            "object_fit": null,
            "object_position": null,
            "order": null,
            "overflow": null,
            "overflow_x": null,
            "overflow_y": null,
            "padding": null,
            "right": null,
            "top": null,
            "visibility": null,
            "width": null
          }
        },
        "a29e72800cba47ce9f785a5d55d32979": {
          "model_module": "@jupyter-widgets/base",
          "model_name": "LayoutModel",
          "model_module_version": "1.2.0",
          "state": {
            "_model_module": "@jupyter-widgets/base",
            "_model_module_version": "1.2.0",
            "_model_name": "LayoutModel",
            "_view_count": null,
            "_view_module": "@jupyter-widgets/base",
            "_view_module_version": "1.2.0",
            "_view_name": "LayoutView",
            "align_content": null,
            "align_items": null,
            "align_self": null,
            "border": null,
            "bottom": null,
            "display": null,
            "flex": null,
            "flex_flow": null,
            "grid_area": null,
            "grid_auto_columns": null,
            "grid_auto_flow": null,
            "grid_auto_rows": null,
            "grid_column": null,
            "grid_gap": null,
            "grid_row": null,
            "grid_template_areas": null,
            "grid_template_columns": null,
            "grid_template_rows": null,
            "height": null,
            "justify_content": null,
            "justify_items": null,
            "left": null,
            "margin": null,
            "max_height": null,
            "max_width": null,
            "min_height": null,
            "min_width": null,
            "object_fit": null,
            "object_position": null,
            "order": null,
            "overflow": null,
            "overflow_x": null,
            "overflow_y": null,
            "padding": null,
            "right": null,
            "top": null,
            "visibility": null,
            "width": null
          }
        },
        "b86a42c8e8704ed39dd1063d4659ff38": {
          "model_module": "@jupyter-widgets/controls",
          "model_name": "DescriptionStyleModel",
          "model_module_version": "1.5.0",
          "state": {
            "_model_module": "@jupyter-widgets/controls",
            "_model_module_version": "1.5.0",
            "_model_name": "DescriptionStyleModel",
            "_view_count": null,
            "_view_module": "@jupyter-widgets/base",
            "_view_module_version": "1.2.0",
            "_view_name": "StyleView",
            "description_width": ""
          }
        },
        "d830431200f4498f894c077bc59c7157": {
          "model_module": "@jupyter-widgets/base",
          "model_name": "LayoutModel",
          "model_module_version": "1.2.0",
          "state": {
            "_model_module": "@jupyter-widgets/base",
            "_model_module_version": "1.2.0",
            "_model_name": "LayoutModel",
            "_view_count": null,
            "_view_module": "@jupyter-widgets/base",
            "_view_module_version": "1.2.0",
            "_view_name": "LayoutView",
            "align_content": null,
            "align_items": null,
            "align_self": null,
            "border": null,
            "bottom": null,
            "display": null,
            "flex": null,
            "flex_flow": null,
            "grid_area": null,
            "grid_auto_columns": null,
            "grid_auto_flow": null,
            "grid_auto_rows": null,
            "grid_column": null,
            "grid_gap": null,
            "grid_row": null,
            "grid_template_areas": null,
            "grid_template_columns": null,
            "grid_template_rows": null,
            "height": null,
            "justify_content": null,
            "justify_items": null,
            "left": null,
            "margin": null,
            "max_height": null,
            "max_width": null,
            "min_height": null,
            "min_width": null,
            "object_fit": null,
            "object_position": null,
            "order": null,
            "overflow": null,
            "overflow_x": null,
            "overflow_y": null,
            "padding": null,
            "right": null,
            "top": null,
            "visibility": null,
            "width": null
          }
        },
        "cb98d526e0e44bce80fd74b7672e20fe": {
          "model_module": "@jupyter-widgets/controls",
          "model_name": "ProgressStyleModel",
          "model_module_version": "1.5.0",
          "state": {
            "_model_module": "@jupyter-widgets/controls",
            "_model_module_version": "1.5.0",
            "_model_name": "ProgressStyleModel",
            "_view_count": null,
            "_view_module": "@jupyter-widgets/base",
            "_view_module_version": "1.2.0",
            "_view_name": "StyleView",
            "bar_color": null,
            "description_width": ""
          }
        },
        "d7af34558c564ca38c7c34355baed31f": {
          "model_module": "@jupyter-widgets/base",
          "model_name": "LayoutModel",
          "model_module_version": "1.2.0",
          "state": {
            "_model_module": "@jupyter-widgets/base",
            "_model_module_version": "1.2.0",
            "_model_name": "LayoutModel",
            "_view_count": null,
            "_view_module": "@jupyter-widgets/base",
            "_view_module_version": "1.2.0",
            "_view_name": "LayoutView",
            "align_content": null,
            "align_items": null,
            "align_self": null,
            "border": null,
            "bottom": null,
            "display": null,
            "flex": null,
            "flex_flow": null,
            "grid_area": null,
            "grid_auto_columns": null,
            "grid_auto_flow": null,
            "grid_auto_rows": null,
            "grid_column": null,
            "grid_gap": null,
            "grid_row": null,
            "grid_template_areas": null,
            "grid_template_columns": null,
            "grid_template_rows": null,
            "height": null,
            "justify_content": null,
            "justify_items": null,
            "left": null,
            "margin": null,
            "max_height": null,
            "max_width": null,
            "min_height": null,
            "min_width": null,
            "object_fit": null,
            "object_position": null,
            "order": null,
            "overflow": null,
            "overflow_x": null,
            "overflow_y": null,
            "padding": null,
            "right": null,
            "top": null,
            "visibility": null,
            "width": null
          }
        },
        "f8e383c1e3184acf8a216ce25e6ce682": {
          "model_module": "@jupyter-widgets/controls",
          "model_name": "DescriptionStyleModel",
          "model_module_version": "1.5.0",
          "state": {
            "_model_module": "@jupyter-widgets/controls",
            "_model_module_version": "1.5.0",
            "_model_name": "DescriptionStyleModel",
            "_view_count": null,
            "_view_module": "@jupyter-widgets/base",
            "_view_module_version": "1.2.0",
            "_view_name": "StyleView",
            "description_width": ""
          }
        },
        "3185f6a7a484403f98855fa640250067": {
          "model_module": "@jupyter-widgets/controls",
          "model_name": "HBoxModel",
          "model_module_version": "1.5.0",
          "state": {
            "_dom_classes": [],
            "_model_module": "@jupyter-widgets/controls",
            "_model_module_version": "1.5.0",
            "_model_name": "HBoxModel",
            "_view_count": null,
            "_view_module": "@jupyter-widgets/controls",
            "_view_module_version": "1.5.0",
            "_view_name": "HBoxView",
            "box_style": "",
            "children": [
              "IPY_MODEL_59e2e9d6036c44ada973d0dcdf45b3ec",
              "IPY_MODEL_15ec9e1dd0b94f678c5ca00e05c904df",
              "IPY_MODEL_4957ac344cc14e41bbf0ed3f219bf3e6"
            ],
            "layout": "IPY_MODEL_77a1081042394407a29c2fb6a519b46a"
          }
        },
        "59e2e9d6036c44ada973d0dcdf45b3ec": {
          "model_module": "@jupyter-widgets/controls",
          "model_name": "HTMLModel",
          "model_module_version": "1.5.0",
          "state": {
            "_dom_classes": [],
            "_model_module": "@jupyter-widgets/controls",
            "_model_module_version": "1.5.0",
            "_model_name": "HTMLModel",
            "_view_count": null,
            "_view_module": "@jupyter-widgets/controls",
            "_view_module_version": "1.5.0",
            "_view_name": "HTMLView",
            "description": "",
            "description_tooltip": null,
            "layout": "IPY_MODEL_bfb1170c71c3453eafb26068b2f49a5b",
            "placeholder": "​",
            "style": "IPY_MODEL_74be904f25074d1c851307fb2c191bc0",
            "value": "Downloading (…)solve/main/vocab.txt: 100%"
          }
        },
        "15ec9e1dd0b94f678c5ca00e05c904df": {
          "model_module": "@jupyter-widgets/controls",
          "model_name": "FloatProgressModel",
          "model_module_version": "1.5.0",
          "state": {
            "_dom_classes": [],
            "_model_module": "@jupyter-widgets/controls",
            "_model_module_version": "1.5.0",
            "_model_name": "FloatProgressModel",
            "_view_count": null,
            "_view_module": "@jupyter-widgets/controls",
            "_view_module_version": "1.5.0",
            "_view_name": "ProgressView",
            "bar_style": "success",
            "description": "",
            "description_tooltip": null,
            "layout": "IPY_MODEL_91e4605afc824ac5b9adae91949ed154",
            "max": 231508,
            "min": 0,
            "orientation": "horizontal",
            "style": "IPY_MODEL_74e957599497491f939ef54d3cf9162e",
            "value": 231508
          }
        },
        "4957ac344cc14e41bbf0ed3f219bf3e6": {
          "model_module": "@jupyter-widgets/controls",
          "model_name": "HTMLModel",
          "model_module_version": "1.5.0",
          "state": {
            "_dom_classes": [],
            "_model_module": "@jupyter-widgets/controls",
            "_model_module_version": "1.5.0",
            "_model_name": "HTMLModel",
            "_view_count": null,
            "_view_module": "@jupyter-widgets/controls",
            "_view_module_version": "1.5.0",
            "_view_name": "HTMLView",
            "description": "",
            "description_tooltip": null,
            "layout": "IPY_MODEL_ec628269cfff47a4ac4f20d34fb7781c",
            "placeholder": "​",
            "style": "IPY_MODEL_3cb36918c8e4484a90d1726c4003f7bd",
            "value": " 232k/232k [00:00&lt;00:00, 1.02MB/s]"
          }
        },
        "77a1081042394407a29c2fb6a519b46a": {
          "model_module": "@jupyter-widgets/base",
          "model_name": "LayoutModel",
          "model_module_version": "1.2.0",
          "state": {
            "_model_module": "@jupyter-widgets/base",
            "_model_module_version": "1.2.0",
            "_model_name": "LayoutModel",
            "_view_count": null,
            "_view_module": "@jupyter-widgets/base",
            "_view_module_version": "1.2.0",
            "_view_name": "LayoutView",
            "align_content": null,
            "align_items": null,
            "align_self": null,
            "border": null,
            "bottom": null,
            "display": null,
            "flex": null,
            "flex_flow": null,
            "grid_area": null,
            "grid_auto_columns": null,
            "grid_auto_flow": null,
            "grid_auto_rows": null,
            "grid_column": null,
            "grid_gap": null,
            "grid_row": null,
            "grid_template_areas": null,
            "grid_template_columns": null,
            "grid_template_rows": null,
            "height": null,
            "justify_content": null,
            "justify_items": null,
            "left": null,
            "margin": null,
            "max_height": null,
            "max_width": null,
            "min_height": null,
            "min_width": null,
            "object_fit": null,
            "object_position": null,
            "order": null,
            "overflow": null,
            "overflow_x": null,
            "overflow_y": null,
            "padding": null,
            "right": null,
            "top": null,
            "visibility": null,
            "width": null
          }
        },
        "bfb1170c71c3453eafb26068b2f49a5b": {
          "model_module": "@jupyter-widgets/base",
          "model_name": "LayoutModel",
          "model_module_version": "1.2.0",
          "state": {
            "_model_module": "@jupyter-widgets/base",
            "_model_module_version": "1.2.0",
            "_model_name": "LayoutModel",
            "_view_count": null,
            "_view_module": "@jupyter-widgets/base",
            "_view_module_version": "1.2.0",
            "_view_name": "LayoutView",
            "align_content": null,
            "align_items": null,
            "align_self": null,
            "border": null,
            "bottom": null,
            "display": null,
            "flex": null,
            "flex_flow": null,
            "grid_area": null,
            "grid_auto_columns": null,
            "grid_auto_flow": null,
            "grid_auto_rows": null,
            "grid_column": null,
            "grid_gap": null,
            "grid_row": null,
            "grid_template_areas": null,
            "grid_template_columns": null,
            "grid_template_rows": null,
            "height": null,
            "justify_content": null,
            "justify_items": null,
            "left": null,
            "margin": null,
            "max_height": null,
            "max_width": null,
            "min_height": null,
            "min_width": null,
            "object_fit": null,
            "object_position": null,
            "order": null,
            "overflow": null,
            "overflow_x": null,
            "overflow_y": null,
            "padding": null,
            "right": null,
            "top": null,
            "visibility": null,
            "width": null
          }
        },
        "74be904f25074d1c851307fb2c191bc0": {
          "model_module": "@jupyter-widgets/controls",
          "model_name": "DescriptionStyleModel",
          "model_module_version": "1.5.0",
          "state": {
            "_model_module": "@jupyter-widgets/controls",
            "_model_module_version": "1.5.0",
            "_model_name": "DescriptionStyleModel",
            "_view_count": null,
            "_view_module": "@jupyter-widgets/base",
            "_view_module_version": "1.2.0",
            "_view_name": "StyleView",
            "description_width": ""
          }
        },
        "91e4605afc824ac5b9adae91949ed154": {
          "model_module": "@jupyter-widgets/base",
          "model_name": "LayoutModel",
          "model_module_version": "1.2.0",
          "state": {
            "_model_module": "@jupyter-widgets/base",
            "_model_module_version": "1.2.0",
            "_model_name": "LayoutModel",
            "_view_count": null,
            "_view_module": "@jupyter-widgets/base",
            "_view_module_version": "1.2.0",
            "_view_name": "LayoutView",
            "align_content": null,
            "align_items": null,
            "align_self": null,
            "border": null,
            "bottom": null,
            "display": null,
            "flex": null,
            "flex_flow": null,
            "grid_area": null,
            "grid_auto_columns": null,
            "grid_auto_flow": null,
            "grid_auto_rows": null,
            "grid_column": null,
            "grid_gap": null,
            "grid_row": null,
            "grid_template_areas": null,
            "grid_template_columns": null,
            "grid_template_rows": null,
            "height": null,
            "justify_content": null,
            "justify_items": null,
            "left": null,
            "margin": null,
            "max_height": null,
            "max_width": null,
            "min_height": null,
            "min_width": null,
            "object_fit": null,
            "object_position": null,
            "order": null,
            "overflow": null,
            "overflow_x": null,
            "overflow_y": null,
            "padding": null,
            "right": null,
            "top": null,
            "visibility": null,
            "width": null
          }
        },
        "74e957599497491f939ef54d3cf9162e": {
          "model_module": "@jupyter-widgets/controls",
          "model_name": "ProgressStyleModel",
          "model_module_version": "1.5.0",
          "state": {
            "_model_module": "@jupyter-widgets/controls",
            "_model_module_version": "1.5.0",
            "_model_name": "ProgressStyleModel",
            "_view_count": null,
            "_view_module": "@jupyter-widgets/base",
            "_view_module_version": "1.2.0",
            "_view_name": "StyleView",
            "bar_color": null,
            "description_width": ""
          }
        },
        "ec628269cfff47a4ac4f20d34fb7781c": {
          "model_module": "@jupyter-widgets/base",
          "model_name": "LayoutModel",
          "model_module_version": "1.2.0",
          "state": {
            "_model_module": "@jupyter-widgets/base",
            "_model_module_version": "1.2.0",
            "_model_name": "LayoutModel",
            "_view_count": null,
            "_view_module": "@jupyter-widgets/base",
            "_view_module_version": "1.2.0",
            "_view_name": "LayoutView",
            "align_content": null,
            "align_items": null,
            "align_self": null,
            "border": null,
            "bottom": null,
            "display": null,
            "flex": null,
            "flex_flow": null,
            "grid_area": null,
            "grid_auto_columns": null,
            "grid_auto_flow": null,
            "grid_auto_rows": null,
            "grid_column": null,
            "grid_gap": null,
            "grid_row": null,
            "grid_template_areas": null,
            "grid_template_columns": null,
            "grid_template_rows": null,
            "height": null,
            "justify_content": null,
            "justify_items": null,
            "left": null,
            "margin": null,
            "max_height": null,
            "max_width": null,
            "min_height": null,
            "min_width": null,
            "object_fit": null,
            "object_position": null,
            "order": null,
            "overflow": null,
            "overflow_x": null,
            "overflow_y": null,
            "padding": null,
            "right": null,
            "top": null,
            "visibility": null,
            "width": null
          }
        },
        "3cb36918c8e4484a90d1726c4003f7bd": {
          "model_module": "@jupyter-widgets/controls",
          "model_name": "DescriptionStyleModel",
          "model_module_version": "1.5.0",
          "state": {
            "_model_module": "@jupyter-widgets/controls",
            "_model_module_version": "1.5.0",
            "_model_name": "DescriptionStyleModel",
            "_view_count": null,
            "_view_module": "@jupyter-widgets/base",
            "_view_module_version": "1.2.0",
            "_view_name": "StyleView",
            "description_width": ""
          }
        },
        "26724b2f473a4ae18163dc1183dae52b": {
          "model_module": "@jupyter-widgets/controls",
          "model_name": "HBoxModel",
          "model_module_version": "1.5.0",
          "state": {
            "_dom_classes": [],
            "_model_module": "@jupyter-widgets/controls",
            "_model_module_version": "1.5.0",
            "_model_name": "HBoxModel",
            "_view_count": null,
            "_view_module": "@jupyter-widgets/controls",
            "_view_module_version": "1.5.0",
            "_view_name": "HBoxView",
            "box_style": "",
            "children": [
              "IPY_MODEL_d52c4edbb7004f2194e35ca658e1bf3d",
              "IPY_MODEL_a1ef93417e3844b2ac6634be7a4369d4",
              "IPY_MODEL_088f7be018df458b93419281c823f030"
            ],
            "layout": "IPY_MODEL_c6bb4b1859bf41c1869c210f0f9f9cef"
          }
        },
        "d52c4edbb7004f2194e35ca658e1bf3d": {
          "model_module": "@jupyter-widgets/controls",
          "model_name": "HTMLModel",
          "model_module_version": "1.5.0",
          "state": {
            "_dom_classes": [],
            "_model_module": "@jupyter-widgets/controls",
            "_model_module_version": "1.5.0",
            "_model_name": "HTMLModel",
            "_view_count": null,
            "_view_module": "@jupyter-widgets/controls",
            "_view_module_version": "1.5.0",
            "_view_name": "HTMLView",
            "description": "",
            "description_tooltip": null,
            "layout": "IPY_MODEL_15830503d1394b569209de9ffce6c1b6",
            "placeholder": "​",
            "style": "IPY_MODEL_132298b7fb0c44e0928d121e0e4487d4",
            "value": "Downloading (…)/main/tokenizer.json: 100%"
          }
        },
        "a1ef93417e3844b2ac6634be7a4369d4": {
          "model_module": "@jupyter-widgets/controls",
          "model_name": "FloatProgressModel",
          "model_module_version": "1.5.0",
          "state": {
            "_dom_classes": [],
            "_model_module": "@jupyter-widgets/controls",
            "_model_module_version": "1.5.0",
            "_model_name": "FloatProgressModel",
            "_view_count": null,
            "_view_module": "@jupyter-widgets/controls",
            "_view_module_version": "1.5.0",
            "_view_name": "ProgressView",
            "bar_style": "success",
            "description": "",
            "description_tooltip": null,
            "layout": "IPY_MODEL_e676fa50b7ba45759c2741ba69c32631",
            "max": 466062,
            "min": 0,
            "orientation": "horizontal",
            "style": "IPY_MODEL_5a74d77408bb4d32ae55291e6d2c77e1",
            "value": 466062
          }
        },
        "088f7be018df458b93419281c823f030": {
          "model_module": "@jupyter-widgets/controls",
          "model_name": "HTMLModel",
          "model_module_version": "1.5.0",
          "state": {
            "_dom_classes": [],
            "_model_module": "@jupyter-widgets/controls",
            "_model_module_version": "1.5.0",
            "_model_name": "HTMLModel",
            "_view_count": null,
            "_view_module": "@jupyter-widgets/controls",
            "_view_module_version": "1.5.0",
            "_view_name": "HTMLView",
            "description": "",
            "description_tooltip": null,
            "layout": "IPY_MODEL_dfded48cd55a4013a09250a878fb451c",
            "placeholder": "​",
            "style": "IPY_MODEL_36edf57cb14144cb92b9542bfe1feca0",
            "value": " 466k/466k [00:00&lt;00:00, 1.88MB/s]"
          }
        },
        "c6bb4b1859bf41c1869c210f0f9f9cef": {
          "model_module": "@jupyter-widgets/base",
          "model_name": "LayoutModel",
          "model_module_version": "1.2.0",
          "state": {
            "_model_module": "@jupyter-widgets/base",
            "_model_module_version": "1.2.0",
            "_model_name": "LayoutModel",
            "_view_count": null,
            "_view_module": "@jupyter-widgets/base",
            "_view_module_version": "1.2.0",
            "_view_name": "LayoutView",
            "align_content": null,
            "align_items": null,
            "align_self": null,
            "border": null,
            "bottom": null,
            "display": null,
            "flex": null,
            "flex_flow": null,
            "grid_area": null,
            "grid_auto_columns": null,
            "grid_auto_flow": null,
            "grid_auto_rows": null,
            "grid_column": null,
            "grid_gap": null,
            "grid_row": null,
            "grid_template_areas": null,
            "grid_template_columns": null,
            "grid_template_rows": null,
            "height": null,
            "justify_content": null,
            "justify_items": null,
            "left": null,
            "margin": null,
            "max_height": null,
            "max_width": null,
            "min_height": null,
            "min_width": null,
            "object_fit": null,
            "object_position": null,
            "order": null,
            "overflow": null,
            "overflow_x": null,
            "overflow_y": null,
            "padding": null,
            "right": null,
            "top": null,
            "visibility": null,
            "width": null
          }
        },
        "15830503d1394b569209de9ffce6c1b6": {
          "model_module": "@jupyter-widgets/base",
          "model_name": "LayoutModel",
          "model_module_version": "1.2.0",
          "state": {
            "_model_module": "@jupyter-widgets/base",
            "_model_module_version": "1.2.0",
            "_model_name": "LayoutModel",
            "_view_count": null,
            "_view_module": "@jupyter-widgets/base",
            "_view_module_version": "1.2.0",
            "_view_name": "LayoutView",
            "align_content": null,
            "align_items": null,
            "align_self": null,
            "border": null,
            "bottom": null,
            "display": null,
            "flex": null,
            "flex_flow": null,
            "grid_area": null,
            "grid_auto_columns": null,
            "grid_auto_flow": null,
            "grid_auto_rows": null,
            "grid_column": null,
            "grid_gap": null,
            "grid_row": null,
            "grid_template_areas": null,
            "grid_template_columns": null,
            "grid_template_rows": null,
            "height": null,
            "justify_content": null,
            "justify_items": null,
            "left": null,
            "margin": null,
            "max_height": null,
            "max_width": null,
            "min_height": null,
            "min_width": null,
            "object_fit": null,
            "object_position": null,
            "order": null,
            "overflow": null,
            "overflow_x": null,
            "overflow_y": null,
            "padding": null,
            "right": null,
            "top": null,
            "visibility": null,
            "width": null
          }
        },
        "132298b7fb0c44e0928d121e0e4487d4": {
          "model_module": "@jupyter-widgets/controls",
          "model_name": "DescriptionStyleModel",
          "model_module_version": "1.5.0",
          "state": {
            "_model_module": "@jupyter-widgets/controls",
            "_model_module_version": "1.5.0",
            "_model_name": "DescriptionStyleModel",
            "_view_count": null,
            "_view_module": "@jupyter-widgets/base",
            "_view_module_version": "1.2.0",
            "_view_name": "StyleView",
            "description_width": ""
          }
        },
        "e676fa50b7ba45759c2741ba69c32631": {
          "model_module": "@jupyter-widgets/base",
          "model_name": "LayoutModel",
          "model_module_version": "1.2.0",
          "state": {
            "_model_module": "@jupyter-widgets/base",
            "_model_module_version": "1.2.0",
            "_model_name": "LayoutModel",
            "_view_count": null,
            "_view_module": "@jupyter-widgets/base",
            "_view_module_version": "1.2.0",
            "_view_name": "LayoutView",
            "align_content": null,
            "align_items": null,
            "align_self": null,
            "border": null,
            "bottom": null,
            "display": null,
            "flex": null,
            "flex_flow": null,
            "grid_area": null,
            "grid_auto_columns": null,
            "grid_auto_flow": null,
            "grid_auto_rows": null,
            "grid_column": null,
            "grid_gap": null,
            "grid_row": null,
            "grid_template_areas": null,
            "grid_template_columns": null,
            "grid_template_rows": null,
            "height": null,
            "justify_content": null,
            "justify_items": null,
            "left": null,
            "margin": null,
            "max_height": null,
            "max_width": null,
            "min_height": null,
            "min_width": null,
            "object_fit": null,
            "object_position": null,
            "order": null,
            "overflow": null,
            "overflow_x": null,
            "overflow_y": null,
            "padding": null,
            "right": null,
            "top": null,
            "visibility": null,
            "width": null
          }
        },
        "5a74d77408bb4d32ae55291e6d2c77e1": {
          "model_module": "@jupyter-widgets/controls",
          "model_name": "ProgressStyleModel",
          "model_module_version": "1.5.0",
          "state": {
            "_model_module": "@jupyter-widgets/controls",
            "_model_module_version": "1.5.0",
            "_model_name": "ProgressStyleModel",
            "_view_count": null,
            "_view_module": "@jupyter-widgets/base",
            "_view_module_version": "1.2.0",
            "_view_name": "StyleView",
            "bar_color": null,
            "description_width": ""
          }
        },
        "dfded48cd55a4013a09250a878fb451c": {
          "model_module": "@jupyter-widgets/base",
          "model_name": "LayoutModel",
          "model_module_version": "1.2.0",
          "state": {
            "_model_module": "@jupyter-widgets/base",
            "_model_module_version": "1.2.0",
            "_model_name": "LayoutModel",
            "_view_count": null,
            "_view_module": "@jupyter-widgets/base",
            "_view_module_version": "1.2.0",
            "_view_name": "LayoutView",
            "align_content": null,
            "align_items": null,
            "align_self": null,
            "border": null,
            "bottom": null,
            "display": null,
            "flex": null,
            "flex_flow": null,
            "grid_area": null,
            "grid_auto_columns": null,
            "grid_auto_flow": null,
            "grid_auto_rows": null,
            "grid_column": null,
            "grid_gap": null,
            "grid_row": null,
            "grid_template_areas": null,
            "grid_template_columns": null,
            "grid_template_rows": null,
            "height": null,
            "justify_content": null,
            "justify_items": null,
            "left": null,
            "margin": null,
            "max_height": null,
            "max_width": null,
            "min_height": null,
            "min_width": null,
            "object_fit": null,
            "object_position": null,
            "order": null,
            "overflow": null,
            "overflow_x": null,
            "overflow_y": null,
            "padding": null,
            "right": null,
            "top": null,
            "visibility": null,
            "width": null
          }
        },
        "36edf57cb14144cb92b9542bfe1feca0": {
          "model_module": "@jupyter-widgets/controls",
          "model_name": "DescriptionStyleModel",
          "model_module_version": "1.5.0",
          "state": {
            "_model_module": "@jupyter-widgets/controls",
            "_model_module_version": "1.5.0",
            "_model_name": "DescriptionStyleModel",
            "_view_count": null,
            "_view_module": "@jupyter-widgets/base",
            "_view_module_version": "1.2.0",
            "_view_name": "StyleView",
            "description_width": ""
          }
        },
        "6e95ee47bc6b449bb8e03198d504a385": {
          "model_module": "@jupyter-widgets/controls",
          "model_name": "HBoxModel",
          "model_module_version": "1.5.0",
          "state": {
            "_dom_classes": [],
            "_model_module": "@jupyter-widgets/controls",
            "_model_module_version": "1.5.0",
            "_model_name": "HBoxModel",
            "_view_count": null,
            "_view_module": "@jupyter-widgets/controls",
            "_view_module_version": "1.5.0",
            "_view_name": "HBoxView",
            "box_style": "",
            "children": [
              "IPY_MODEL_682541d5655d4a00a886c64dd9b49c65",
              "IPY_MODEL_a59a52fb16e94164b16e80483cc5d2f9",
              "IPY_MODEL_13aa2620db4a471f9b0357ae88249b24"
            ],
            "layout": "IPY_MODEL_d3928eb94d984362b4088bb9bb1f75c0"
          }
        },
        "682541d5655d4a00a886c64dd9b49c65": {
          "model_module": "@jupyter-widgets/controls",
          "model_name": "HTMLModel",
          "model_module_version": "1.5.0",
          "state": {
            "_dom_classes": [],
            "_model_module": "@jupyter-widgets/controls",
            "_model_module_version": "1.5.0",
            "_model_name": "HTMLModel",
            "_view_count": null,
            "_view_module": "@jupyter-widgets/controls",
            "_view_module_version": "1.5.0",
            "_view_name": "HTMLView",
            "description": "",
            "description_tooltip": null,
            "layout": "IPY_MODEL_78bd0cfccff64894899345c20dbc50b0",
            "placeholder": "​",
            "style": "IPY_MODEL_040da855f91d42998dbc613c9efa4fef",
            "value": "Downloading (…)lve/main/config.json: 100%"
          }
        },
        "a59a52fb16e94164b16e80483cc5d2f9": {
          "model_module": "@jupyter-widgets/controls",
          "model_name": "FloatProgressModel",
          "model_module_version": "1.5.0",
          "state": {
            "_dom_classes": [],
            "_model_module": "@jupyter-widgets/controls",
            "_model_module_version": "1.5.0",
            "_model_name": "FloatProgressModel",
            "_view_count": null,
            "_view_module": "@jupyter-widgets/controls",
            "_view_module_version": "1.5.0",
            "_view_name": "ProgressView",
            "bar_style": "success",
            "description": "",
            "description_tooltip": null,
            "layout": "IPY_MODEL_0f44a18a1d494c60b11392dbeec564f7",
            "max": 483,
            "min": 0,
            "orientation": "horizontal",
            "style": "IPY_MODEL_13228bcbf3ae4ef183234479046fbcba",
            "value": 483
          }
        },
        "13aa2620db4a471f9b0357ae88249b24": {
          "model_module": "@jupyter-widgets/controls",
          "model_name": "HTMLModel",
          "model_module_version": "1.5.0",
          "state": {
            "_dom_classes": [],
            "_model_module": "@jupyter-widgets/controls",
            "_model_module_version": "1.5.0",
            "_model_name": "HTMLModel",
            "_view_count": null,
            "_view_module": "@jupyter-widgets/controls",
            "_view_module_version": "1.5.0",
            "_view_name": "HTMLView",
            "description": "",
            "description_tooltip": null,
            "layout": "IPY_MODEL_84ca201567514a6d83de9e035ad4c64c",
            "placeholder": "​",
            "style": "IPY_MODEL_d4850bc438e64ed583e434dd2a28b694",
            "value": " 483/483 [00:00&lt;00:00, 12.8kB/s]"
          }
        },
        "d3928eb94d984362b4088bb9bb1f75c0": {
          "model_module": "@jupyter-widgets/base",
          "model_name": "LayoutModel",
          "model_module_version": "1.2.0",
          "state": {
            "_model_module": "@jupyter-widgets/base",
            "_model_module_version": "1.2.0",
            "_model_name": "LayoutModel",
            "_view_count": null,
            "_view_module": "@jupyter-widgets/base",
            "_view_module_version": "1.2.0",
            "_view_name": "LayoutView",
            "align_content": null,
            "align_items": null,
            "align_self": null,
            "border": null,
            "bottom": null,
            "display": null,
            "flex": null,
            "flex_flow": null,
            "grid_area": null,
            "grid_auto_columns": null,
            "grid_auto_flow": null,
            "grid_auto_rows": null,
            "grid_column": null,
            "grid_gap": null,
            "grid_row": null,
            "grid_template_areas": null,
            "grid_template_columns": null,
            "grid_template_rows": null,
            "height": null,
            "justify_content": null,
            "justify_items": null,
            "left": null,
            "margin": null,
            "max_height": null,
            "max_width": null,
            "min_height": null,
            "min_width": null,
            "object_fit": null,
            "object_position": null,
            "order": null,
            "overflow": null,
            "overflow_x": null,
            "overflow_y": null,
            "padding": null,
            "right": null,
            "top": null,
            "visibility": null,
            "width": null
          }
        },
        "78bd0cfccff64894899345c20dbc50b0": {
          "model_module": "@jupyter-widgets/base",
          "model_name": "LayoutModel",
          "model_module_version": "1.2.0",
          "state": {
            "_model_module": "@jupyter-widgets/base",
            "_model_module_version": "1.2.0",
            "_model_name": "LayoutModel",
            "_view_count": null,
            "_view_module": "@jupyter-widgets/base",
            "_view_module_version": "1.2.0",
            "_view_name": "LayoutView",
            "align_content": null,
            "align_items": null,
            "align_self": null,
            "border": null,
            "bottom": null,
            "display": null,
            "flex": null,
            "flex_flow": null,
            "grid_area": null,
            "grid_auto_columns": null,
            "grid_auto_flow": null,
            "grid_auto_rows": null,
            "grid_column": null,
            "grid_gap": null,
            "grid_row": null,
            "grid_template_areas": null,
            "grid_template_columns": null,
            "grid_template_rows": null,
            "height": null,
            "justify_content": null,
            "justify_items": null,
            "left": null,
            "margin": null,
            "max_height": null,
            "max_width": null,
            "min_height": null,
            "min_width": null,
            "object_fit": null,
            "object_position": null,
            "order": null,
            "overflow": null,
            "overflow_x": null,
            "overflow_y": null,
            "padding": null,
            "right": null,
            "top": null,
            "visibility": null,
            "width": null
          }
        },
        "040da855f91d42998dbc613c9efa4fef": {
          "model_module": "@jupyter-widgets/controls",
          "model_name": "DescriptionStyleModel",
          "model_module_version": "1.5.0",
          "state": {
            "_model_module": "@jupyter-widgets/controls",
            "_model_module_version": "1.5.0",
            "_model_name": "DescriptionStyleModel",
            "_view_count": null,
            "_view_module": "@jupyter-widgets/base",
            "_view_module_version": "1.2.0",
            "_view_name": "StyleView",
            "description_width": ""
          }
        },
        "0f44a18a1d494c60b11392dbeec564f7": {
          "model_module": "@jupyter-widgets/base",
          "model_name": "LayoutModel",
          "model_module_version": "1.2.0",
          "state": {
            "_model_module": "@jupyter-widgets/base",
            "_model_module_version": "1.2.0",
            "_model_name": "LayoutModel",
            "_view_count": null,
            "_view_module": "@jupyter-widgets/base",
            "_view_module_version": "1.2.0",
            "_view_name": "LayoutView",
            "align_content": null,
            "align_items": null,
            "align_self": null,
            "border": null,
            "bottom": null,
            "display": null,
            "flex": null,
            "flex_flow": null,
            "grid_area": null,
            "grid_auto_columns": null,
            "grid_auto_flow": null,
            "grid_auto_rows": null,
            "grid_column": null,
            "grid_gap": null,
            "grid_row": null,
            "grid_template_areas": null,
            "grid_template_columns": null,
            "grid_template_rows": null,
            "height": null,
            "justify_content": null,
            "justify_items": null,
            "left": null,
            "margin": null,
            "max_height": null,
            "max_width": null,
            "min_height": null,
            "min_width": null,
            "object_fit": null,
            "object_position": null,
            "order": null,
            "overflow": null,
            "overflow_x": null,
            "overflow_y": null,
            "padding": null,
            "right": null,
            "top": null,
            "visibility": null,
            "width": null
          }
        },
        "13228bcbf3ae4ef183234479046fbcba": {
          "model_module": "@jupyter-widgets/controls",
          "model_name": "ProgressStyleModel",
          "model_module_version": "1.5.0",
          "state": {
            "_model_module": "@jupyter-widgets/controls",
            "_model_module_version": "1.5.0",
            "_model_name": "ProgressStyleModel",
            "_view_count": null,
            "_view_module": "@jupyter-widgets/base",
            "_view_module_version": "1.2.0",
            "_view_name": "StyleView",
            "bar_color": null,
            "description_width": ""
          }
        },
        "84ca201567514a6d83de9e035ad4c64c": {
          "model_module": "@jupyter-widgets/base",
          "model_name": "LayoutModel",
          "model_module_version": "1.2.0",
          "state": {
            "_model_module": "@jupyter-widgets/base",
            "_model_module_version": "1.2.0",
            "_model_name": "LayoutModel",
            "_view_count": null,
            "_view_module": "@jupyter-widgets/base",
            "_view_module_version": "1.2.0",
            "_view_name": "LayoutView",
            "align_content": null,
            "align_items": null,
            "align_self": null,
            "border": null,
            "bottom": null,
            "display": null,
            "flex": null,
            "flex_flow": null,
            "grid_area": null,
            "grid_auto_columns": null,
            "grid_auto_flow": null,
            "grid_auto_rows": null,
            "grid_column": null,
            "grid_gap": null,
            "grid_row": null,
            "grid_template_areas": null,
            "grid_template_columns": null,
            "grid_template_rows": null,
            "height": null,
            "justify_content": null,
            "justify_items": null,
            "left": null,
            "margin": null,
            "max_height": null,
            "max_width": null,
            "min_height": null,
            "min_width": null,
            "object_fit": null,
            "object_position": null,
            "order": null,
            "overflow": null,
            "overflow_x": null,
            "overflow_y": null,
            "padding": null,
            "right": null,
            "top": null,
            "visibility": null,
            "width": null
          }
        },
        "d4850bc438e64ed583e434dd2a28b694": {
          "model_module": "@jupyter-widgets/controls",
          "model_name": "DescriptionStyleModel",
          "model_module_version": "1.5.0",
          "state": {
            "_model_module": "@jupyter-widgets/controls",
            "_model_module_version": "1.5.0",
            "_model_name": "DescriptionStyleModel",
            "_view_count": null,
            "_view_module": "@jupyter-widgets/base",
            "_view_module_version": "1.2.0",
            "_view_name": "StyleView",
            "description_width": ""
          }
        },
        "bda479883b784081b73ffe946751bbac": {
          "model_module": "@jupyter-widgets/controls",
          "model_name": "HBoxModel",
          "model_module_version": "1.5.0",
          "state": {
            "_dom_classes": [],
            "_model_module": "@jupyter-widgets/controls",
            "_model_module_version": "1.5.0",
            "_model_name": "HBoxModel",
            "_view_count": null,
            "_view_module": "@jupyter-widgets/controls",
            "_view_module_version": "1.5.0",
            "_view_name": "HBoxView",
            "box_style": "",
            "children": [
              "IPY_MODEL_fb2dfb52d7b54a07ba56e93d32606de0",
              "IPY_MODEL_07031da5734049529b44dda841c80ce6",
              "IPY_MODEL_1345810386ee47cc8560c93f914b3cb7"
            ],
            "layout": "IPY_MODEL_05f9154426ab48858cec226cbab2d84b"
          }
        },
        "fb2dfb52d7b54a07ba56e93d32606de0": {
          "model_module": "@jupyter-widgets/controls",
          "model_name": "HTMLModel",
          "model_module_version": "1.5.0",
          "state": {
            "_dom_classes": [],
            "_model_module": "@jupyter-widgets/controls",
            "_model_module_version": "1.5.0",
            "_model_name": "HTMLModel",
            "_view_count": null,
            "_view_module": "@jupyter-widgets/controls",
            "_view_module_version": "1.5.0",
            "_view_name": "HTMLView",
            "description": "",
            "description_tooltip": null,
            "layout": "IPY_MODEL_c62917ca1119438aa899ada5a4a29286",
            "placeholder": "​",
            "style": "IPY_MODEL_ee570f7d99dd4465b1ed5fca42985082",
            "value": "Downloading tf_model.h5: 100%"
          }
        },
        "07031da5734049529b44dda841c80ce6": {
          "model_module": "@jupyter-widgets/controls",
          "model_name": "FloatProgressModel",
          "model_module_version": "1.5.0",
          "state": {
            "_dom_classes": [],
            "_model_module": "@jupyter-widgets/controls",
            "_model_module_version": "1.5.0",
            "_model_name": "FloatProgressModel",
            "_view_count": null,
            "_view_module": "@jupyter-widgets/controls",
            "_view_module_version": "1.5.0",
            "_view_name": "ProgressView",
            "bar_style": "success",
            "description": "",
            "description_tooltip": null,
            "layout": "IPY_MODEL_6f38331ddf484165a1ab633058728b2f",
            "max": 363423424,
            "min": 0,
            "orientation": "horizontal",
            "style": "IPY_MODEL_04cca5c054c04b78acaf080ad3300e87",
            "value": 363423424
          }
        },
        "1345810386ee47cc8560c93f914b3cb7": {
          "model_module": "@jupyter-widgets/controls",
          "model_name": "HTMLModel",
          "model_module_version": "1.5.0",
          "state": {
            "_dom_classes": [],
            "_model_module": "@jupyter-widgets/controls",
            "_model_module_version": "1.5.0",
            "_model_name": "HTMLModel",
            "_view_count": null,
            "_view_module": "@jupyter-widgets/controls",
            "_view_module_version": "1.5.0",
            "_view_name": "HTMLView",
            "description": "",
            "description_tooltip": null,
            "layout": "IPY_MODEL_a748d7dc17b84be2ab03d28faf05609e",
            "placeholder": "​",
            "style": "IPY_MODEL_d3f2733713ba4fca9c65b812beef5428",
            "value": " 363M/363M [00:02&lt;00:00, 159MB/s]"
          }
        },
        "05f9154426ab48858cec226cbab2d84b": {
          "model_module": "@jupyter-widgets/base",
          "model_name": "LayoutModel",
          "model_module_version": "1.2.0",
          "state": {
            "_model_module": "@jupyter-widgets/base",
            "_model_module_version": "1.2.0",
            "_model_name": "LayoutModel",
            "_view_count": null,
            "_view_module": "@jupyter-widgets/base",
            "_view_module_version": "1.2.0",
            "_view_name": "LayoutView",
            "align_content": null,
            "align_items": null,
            "align_self": null,
            "border": null,
            "bottom": null,
            "display": null,
            "flex": null,
            "flex_flow": null,
            "grid_area": null,
            "grid_auto_columns": null,
            "grid_auto_flow": null,
            "grid_auto_rows": null,
            "grid_column": null,
            "grid_gap": null,
            "grid_row": null,
            "grid_template_areas": null,
            "grid_template_columns": null,
            "grid_template_rows": null,
            "height": null,
            "justify_content": null,
            "justify_items": null,
            "left": null,
            "margin": null,
            "max_height": null,
            "max_width": null,
            "min_height": null,
            "min_width": null,
            "object_fit": null,
            "object_position": null,
            "order": null,
            "overflow": null,
            "overflow_x": null,
            "overflow_y": null,
            "padding": null,
            "right": null,
            "top": null,
            "visibility": null,
            "width": null
          }
        },
        "c62917ca1119438aa899ada5a4a29286": {
          "model_module": "@jupyter-widgets/base",
          "model_name": "LayoutModel",
          "model_module_version": "1.2.0",
          "state": {
            "_model_module": "@jupyter-widgets/base",
            "_model_module_version": "1.2.0",
            "_model_name": "LayoutModel",
            "_view_count": null,
            "_view_module": "@jupyter-widgets/base",
            "_view_module_version": "1.2.0",
            "_view_name": "LayoutView",
            "align_content": null,
            "align_items": null,
            "align_self": null,
            "border": null,
            "bottom": null,
            "display": null,
            "flex": null,
            "flex_flow": null,
            "grid_area": null,
            "grid_auto_columns": null,
            "grid_auto_flow": null,
            "grid_auto_rows": null,
            "grid_column": null,
            "grid_gap": null,
            "grid_row": null,
            "grid_template_areas": null,
            "grid_template_columns": null,
            "grid_template_rows": null,
            "height": null,
            "justify_content": null,
            "justify_items": null,
            "left": null,
            "margin": null,
            "max_height": null,
            "max_width": null,
            "min_height": null,
            "min_width": null,
            "object_fit": null,
            "object_position": null,
            "order": null,
            "overflow": null,
            "overflow_x": null,
            "overflow_y": null,
            "padding": null,
            "right": null,
            "top": null,
            "visibility": null,
            "width": null
          }
        },
        "ee570f7d99dd4465b1ed5fca42985082": {
          "model_module": "@jupyter-widgets/controls",
          "model_name": "DescriptionStyleModel",
          "model_module_version": "1.5.0",
          "state": {
            "_model_module": "@jupyter-widgets/controls",
            "_model_module_version": "1.5.0",
            "_model_name": "DescriptionStyleModel",
            "_view_count": null,
            "_view_module": "@jupyter-widgets/base",
            "_view_module_version": "1.2.0",
            "_view_name": "StyleView",
            "description_width": ""
          }
        },
        "6f38331ddf484165a1ab633058728b2f": {
          "model_module": "@jupyter-widgets/base",
          "model_name": "LayoutModel",
          "model_module_version": "1.2.0",
          "state": {
            "_model_module": "@jupyter-widgets/base",
            "_model_module_version": "1.2.0",
            "_model_name": "LayoutModel",
            "_view_count": null,
            "_view_module": "@jupyter-widgets/base",
            "_view_module_version": "1.2.0",
            "_view_name": "LayoutView",
            "align_content": null,
            "align_items": null,
            "align_self": null,
            "border": null,
            "bottom": null,
            "display": null,
            "flex": null,
            "flex_flow": null,
            "grid_area": null,
            "grid_auto_columns": null,
            "grid_auto_flow": null,
            "grid_auto_rows": null,
            "grid_column": null,
            "grid_gap": null,
            "grid_row": null,
            "grid_template_areas": null,
            "grid_template_columns": null,
            "grid_template_rows": null,
            "height": null,
            "justify_content": null,
            "justify_items": null,
            "left": null,
            "margin": null,
            "max_height": null,
            "max_width": null,
            "min_height": null,
            "min_width": null,
            "object_fit": null,
            "object_position": null,
            "order": null,
            "overflow": null,
            "overflow_x": null,
            "overflow_y": null,
            "padding": null,
            "right": null,
            "top": null,
            "visibility": null,
            "width": null
          }
        },
        "04cca5c054c04b78acaf080ad3300e87": {
          "model_module": "@jupyter-widgets/controls",
          "model_name": "ProgressStyleModel",
          "model_module_version": "1.5.0",
          "state": {
            "_model_module": "@jupyter-widgets/controls",
            "_model_module_version": "1.5.0",
            "_model_name": "ProgressStyleModel",
            "_view_count": null,
            "_view_module": "@jupyter-widgets/base",
            "_view_module_version": "1.2.0",
            "_view_name": "StyleView",
            "bar_color": null,
            "description_width": ""
          }
        },
        "a748d7dc17b84be2ab03d28faf05609e": {
          "model_module": "@jupyter-widgets/base",
          "model_name": "LayoutModel",
          "model_module_version": "1.2.0",
          "state": {
            "_model_module": "@jupyter-widgets/base",
            "_model_module_version": "1.2.0",
            "_model_name": "LayoutModel",
            "_view_count": null,
            "_view_module": "@jupyter-widgets/base",
            "_view_module_version": "1.2.0",
            "_view_name": "LayoutView",
            "align_content": null,
            "align_items": null,
            "align_self": null,
            "border": null,
            "bottom": null,
            "display": null,
            "flex": null,
            "flex_flow": null,
            "grid_area": null,
            "grid_auto_columns": null,
            "grid_auto_flow": null,
            "grid_auto_rows": null,
            "grid_column": null,
            "grid_gap": null,
            "grid_row": null,
            "grid_template_areas": null,
            "grid_template_columns": null,
            "grid_template_rows": null,
            "height": null,
            "justify_content": null,
            "justify_items": null,
            "left": null,
            "margin": null,
            "max_height": null,
            "max_width": null,
            "min_height": null,
            "min_width": null,
            "object_fit": null,
            "object_position": null,
            "order": null,
            "overflow": null,
            "overflow_x": null,
            "overflow_y": null,
            "padding": null,
            "right": null,
            "top": null,
            "visibility": null,
            "width": null
          }
        },
        "d3f2733713ba4fca9c65b812beef5428": {
          "model_module": "@jupyter-widgets/controls",
          "model_name": "DescriptionStyleModel",
          "model_module_version": "1.5.0",
          "state": {
            "_model_module": "@jupyter-widgets/controls",
            "_model_module_version": "1.5.0",
            "_model_name": "DescriptionStyleModel",
            "_view_count": null,
            "_view_module": "@jupyter-widgets/base",
            "_view_module_version": "1.2.0",
            "_view_name": "StyleView",
            "description_width": ""
          }
        }
      }
    }
  },
  "nbformat": 4,
  "nbformat_minor": 0
}