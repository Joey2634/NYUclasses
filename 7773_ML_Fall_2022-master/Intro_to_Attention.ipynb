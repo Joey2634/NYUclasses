{
 "cells": [
  {
   "cell_type": "code",
   "execution_count": 1,
   "metadata": {
    "slideshow": {
     "slide_type": "notes"
    }
   },
   "outputs": [
    {
     "data": {
      "text/latex": [
       "$$\n",
       "\\newcommand{\\x}{\\mathbf{x}}\n",
       "\\newcommand{\\tx}{\\tilde{\\x}}\n",
       "\\newcommand{\\y}{\\mathbf{y}}\n",
       "\\newcommand{\\b}{\\mathbf{b}}\n",
       "\\newcommand{\\c}{\\mathbf{c}}\n",
       "\\newcommand{\\e}{\\mathbf{e}}\n",
       "\\newcommand{\\z}{\\mathbf{z}}\n",
       "\\newcommand{\\h}{\\mathbf{h}}\n",
       "\\newcommand{\\u}{\\mathbf{u}}\n",
       "\\newcommand{\\v}{\\mathbf{v}}\n",
       "\\newcommand{\\w}{\\mathbf{w}}\n",
       "\\newcommand{\\W}{\\mathbf{W}}\n",
       "\\newcommand{\\X}{\\mathbf{X}}\n",
       "\\newcommand{\\KL}{\\mathbf{KL}}\n",
       "\\newcommand{\\E}{{\\mathbb{E}}}\n",
       "\\newcommand{\\ip}{\\mathbf{{(i)}}}\n",
       "%\n",
       "% Test set\n",
       "\\newcommand{\\xt}{\\underline{\\x}}\n",
       "\\newcommand{\\yt}{\\underline{\\y}}\n",
       "\\newcommand{\\Xt}{\\underline{\\X}}\n",
       "\\newcommand{\\perfm}{\\mathcal{P}}\n",
       "%\n",
       "% \\ll indexes a layer; we can change the actual letter\n",
       "\\newcommand{\\ll}{l}\n",
       "\\newcommand{\\llp}{{(\\ll)}}\n",
       "%\n",
       "\\newcommand{Thetam}{\\Theta_{-0}}\n",
       "\n",
       "% CNN\n",
       "\\newcommand{\\kernel}{\\mathbf{k}} \n",
       "\\newcommand{\\dim}{d}\n",
       "%\n",
       "%\n",
       "\n",
       "% RNN\n",
       "% \\tt indexes a time step\n",
       "\\newcommand{\\tt}{t}\n",
       "\\newcommand{\\tp}{{(\\tt)}}\n",
       "%\n",
       "%\n",
       "\n",
       "% LSTM\n",
       "\\newcommand{\\g}{\\mathbf{g}}\n",
       "\\newcommand{\\remember}{\\mathbf{remember}}\n",
       "\\newcommand{\\save}{\\mathbf{save}}\n",
       "\\newcommand{\\focus}{\\mathbf{focus}}\n",
       "%\n",
       "%\n",
       "\n",
       "\\newcommand{\\loss}{\\mathcal{L}}\n",
       "\\newcommand{\\cost}{\\mathcal{L}}\n",
       "%\n",
       "%                     \n",
       "\\newcommand{\\pdata}{p_\\text{data}}\n",
       "\\newcommand{\\pmodel}{p_\\text{model}}\n",
       "%\n",
       "% SVM\n",
       "\\newcommand{\\margin}{{\\mathbb{m}}}\n",
       "\\newcommand{\\lmk}{\\boldsymbol{\\ell}}\n",
       "%\n",
       "% Functions with arguments\n",
       "\\def\\xsy#1#2{#1^#2}\n",
       "\\def\\rand#1{\\tilde{#1}}\n",
       "\\def\\randx{\\rand{\\x}}\n",
       "\\def\\randy{\\rand{\\y}}\n",
       "\\def\\trans#1{\\dot{#1}}\n",
       "\\def\\transx{\\trans{\\x}}\n",
       "\\def\\transy{\\trans{\\y}}\n",
       "%\n",
       "\\def\\argmax#1{\\underset{#1} {\\operatorname{argmax}} }\n",
       "\\def\\argmin#1{\\underset{#1} {\\operatorname{argmin}} }\n",
       "\\def\\max#1{\\underset{#1} {\\operatorname{max}} }\n",
       "\\def\\min#1{\\underset{#1} {\\operatorname{min}} }\n",
       "%\n",
       "\\def\\pr#1{\\mathcal{p}(#1)}\n",
       "\\def\\prc#1#2{\\mathcal{p}(#1 \\; | \\; #2)}\n",
       "\\def\\cnt#1{\\mathcal{count}_{#1}}\n",
       "\\def\\node#1{\\mathbb{#1}}\n",
       "%\n",
       "\\newcommand{\\floor}[1]{\\left\\lfloor #1 \\right\\rfloor}\n",
       "\\newcommand{\\ceil}[1]{\\left\\lceil #1 \\right\\rceil}\n",
       "%\n",
       "\\def\\loc#1{{\\text{##} {#1}}}\n",
       "%\n",
       "$$\n"
      ],
      "text/plain": [
       "<IPython.core.display.Latex object>"
      ]
     },
     "metadata": {},
     "output_type": "display_data"
    }
   ],
   "source": [
    "%run Latex_macros.ipynb"
   ]
  },
  {
   "cell_type": "markdown",
   "metadata": {
    "slideshow": {
     "slide_type": "slide"
    }
   },
   "source": [
    "# Attention: Motivation\n",
    "\n",
    "Let's revisit the Encoder-Decoder architecture\n",
    "\n",
    "The Encoder\n",
    "- Acts on input sequence $[\\x_{(1)} \\dots \\x_{(\\bar{T})}]$\n",
    "- Producing a sequence of latent states $[ \\bar{\\h}_{(1)}, \\dots, \\bar{\\h}_{(\\bar{T})} ]$\n",
    "\n"
   ]
  },
  {
   "cell_type": "markdown",
   "metadata": {
    "slideshow": {
     "slide_type": "subslide"
    }
   },
   "source": [
    "The Decoder\n",
    "- Acts on the *final* Encoder latent state $\\bar{\\h}_{(\\bar{T})}$\n",
    "- Producing a sequence of outputs $[ \\hat{\\y}_{(1)}, \\dots, \\hat{\\y}_{(T)} ]$\n",
    "- Often feeding step $\\tt$ output $\\hat{\\y}_\\tp$ as Encoder input at step $(\\tt+1)$\n",
    "\n"
   ]
  },
  {
   "cell_type": "markdown",
   "metadata": {
    "slideshow": {
     "slide_type": "subslide"
    }
   },
   "source": [
    "<table>\n",
    "    <tr>\n",
    "        <th><center>RNN Encoder/Decoder</center></th>\n",
    "    </tr>\n",
    "    <tr>\n",
    "        <td><img src=\"images/RNN_layer_API_Encoder_Decoder.png\"</td>\n",
    "    </tr>\n",
    "</table>\n"
   ]
  },
  {
   "cell_type": "markdown",
   "metadata": {
    "slideshow": {
     "slide_type": "subslide"
    }
   },
   "source": [
    "\n",
    "The following diagram is a condensed depiction of the process"
   ]
  },
  {
   "cell_type": "markdown",
   "metadata": {
    "slideshow": {
     "slide_type": "subslide"
    }
   },
   "source": [
    "<table>\n",
    "    <tr>\n",
    "        <th><center>Sequence to Sequence: training (teacher forcing) + inference: No attention</center></th>\n",
    "    </tr>\n",
    "    <tr>\n",
    "        <td><img src=\"images/RNN_seq2seq.png\"></td>\n",
    "    </tr>\n",
    "</table>"
   ]
  },
  {
   "cell_type": "markdown",
   "metadata": {
    "slideshow": {
     "slide_type": "subslide"
    }
   },
   "source": [
    "Recall that $\\bar{\\h}_{(\\bar{\\tt})}$ is a fixed length encoding of the input prefix $\\x_{(1)}, \\ldots, \\x_{(\\bar{\\tt})} $.\n",
    "\n",
    "For example:\n",
    "$$\\x_{0}, \\ldots , \\x_{\\bar T} = \\text{Machine, learning, is, easy, not, hard}$$\n",
    "\n",
    "<br>\n",
    "\\begin{array} \\\\\n",
    "\\bar\\h_{(0)} & = & \\text{summary}( [ \\text{Machine} ]) \\\\\n",
    "\\bar\\h_{(1)} & = & \\text{summary}( [ \\text{Machine, Learning} ]) \\\\\n",
    "\\vdots \\\\\n",
    "\\bar\\h_\\tp & = & \\text{summary}( [ \\x_{(0)}, \\ldots \\x_\\tp ] ) \\\\\n",
    "\\vdots \\\\\n",
    "\\bar\\h_{(5)} & = & \\text{summary}( [ \\text{Machine, Learning, is, easy, not, hard} ]) \\\\\n",
    "\\end{array}"
   ]
  },
  {
   "cell_type": "markdown",
   "metadata": {
    "slideshow": {
     "slide_type": "subslide"
    }
   },
   "source": [
    "So $\\bar{\\h}_{(\\bar{T})}$, which initializes the Decoder, is a summary of entire input sequence $\\x$.\n",
    "\n",
    "Allowing the Encoder to complete its task before the Decoder starts enables us to decouple the two\n",
    "- The consumption of input $\\x$ and production of output $\\hat{\\y}$ do not have to be synchronized\n",
    "- Allowing for the possibility that $T \\ne \\bar{T}$\n",
    "- For example\n",
    "    - There is no one to one mapping between languages (nor does ordering of words get preserved)"
   ]
  },
  {
   "cell_type": "markdown",
   "metadata": {
    "slideshow": {
     "slide_type": "subslide"
    }
   },
   "source": [
    "Let's focus on the part of the Decoder\n",
    "that transforms Decoder latent state (or short term memory) $\\h_\\tp$ to output $\\hat{\\y}_\\tp$.\n",
    "\n",
    "The box in the diagram below is a Neural Network implementing a function \n",
    "$$D(\\h_\\tp)$$\n",
    "mapping\n",
    "- the Decoder short term memory $\\h_\\tp$ \n",
    "- to next output $\\hat\\y_\\tp$.\n",
    "\n"
   ]
  },
  {
   "cell_type": "markdown",
   "metadata": {
    "slideshow": {
     "slide_type": "subslide"
    }
   },
   "source": [
    "<table>\n",
    "    <tr>\n",
    "        <th><center>Decoder: No attention</center></th>\n",
    "    </tr>\n",
    "    <tr>\n",
    "        <td><img src=\"images/Decoder_no_attention.png\" width=80%></td>\n",
    "    </tr>\n",
    "</table>"
   ]
  },
  {
   "cell_type": "markdown",
   "metadata": {
    "slideshow": {
     "slide_type": "subslide"
    }
   },
   "source": [
    "This simple mapping of $\\h_\\tp$ to $\\hat{\\y}_\\tp$ can be extremely burdensome\n",
    "- the full semantics of the input sequence $\\x_{(1)}, \\ldots, \\x_{(\\bar{\\tt})} $\n",
    "- is only available to the Decoder via the final Encoder representation $\\bar \\h_{(\\bar T)}$\n",
    "- which must be captured in Decoder latent state $\\h_\\tp$\n",
    "- since $\\bar \\h_{(\\bar T)}$ is only available to the Decoder on the **first** step of the Decoder\n",
    "\n",
    "It is often the case that the output $\\hat{\\y}_\\tp$ at position $\\tt$\n",
    "- Depends mostly on a **specific element** $\\x_{(\\bar{\\tt})}$ of the input\n",
    "- Or on a **specific prefix** of the input: $\\x_{(1)}, \\ldots, \\x_{(\\bar{\\tt})}$\n",
    "- yet the Neural Network for $D$ can not refer back to any of the input sequence positions"
   ]
  },
  {
   "cell_type": "markdown",
   "metadata": {
    "slideshow": {
     "slide_type": "subslide"
    }
   },
   "source": [
    "Consider the example of language translation\n",
    "- When predicting word $\\hat{\\y}_\\tp$  in the Target language\n",
    "- Some \"context\" provided by the Source language may greatly influence the prediction\n",
    "    - For example: gender/plurality of the subject\n",
    "\n",
    "This context is usually much smaller\n",
    " than the entire sequence $\\x$ of length $\\bar{T}$.\n",
    "\n"
   ]
  },
  {
   "cell_type": "markdown",
   "metadata": {
    "slideshow": {
     "slide_type": "subslide"
    }
   },
   "source": [
    "*Attention* is a mechanism that\n",
    "- *conditions* the output Neural Network $D(\\h_\\tp; \\mathbf{s})$ on a variable $\\mathbf{s}$\n",
    "- where $\\mathbf{s} \\in \\{ \\bar \\h_{(\\tt')} \\; | \\; 1 \\le \\tt' \\le \\bar T \\} $\n",
    "\n",
    "That is, Attention allows the Neural Network creating the output $\\hat\\y_\\tp$ at position $\\tt$ to\n",
    "- focus (\"**attend to**\")\n",
    "- the representation $\\bar\\h_{(\\tt')}$ that is **most relevant** for output position $\\tt$.\n",
    "\n",
    "This potentially greatly simplifies the Decoder latent state $\\h_\\tp$."
   ]
  },
  {
   "cell_type": "markdown",
   "metadata": {
    "slideshow": {
     "slide_type": "subslide"
    }
   },
   "source": [
    " ## Why is Attention so important ?\n",
    " \n",
    "Let's illustrate with a hypothetical example from Natural Language Processing: Question Answering.\n",
    "\n",
    "A training example is encoded as\n",
    "- Features: context + question\n",
    "- Target: Answer\n",
    "\n",
    "\n",
    "$\n",
    "\\x = \\;\n",
    "\\begin{Bmatrix}\\\\\n",
    "\\text{Context:} & \\text{The FRE Dept offers many Spring classes.  The students are great. ...} \\\\\n",
    "& \\vdots \\\\\n",
    "& \\text{Professor Perry taught them Machine Learning. The students ...}, \\\\\n",
    "& \\vdots \\\\\n",
    "& \\text{Professor Blecherman led a class in ...} \\\\\n",
    "& \\vdots \\\\\n",
    "\\text{Question:} & \\text{What did Professor Perry do ?} \\\\\n",
    "\\end{Bmatrix}\n",
    "$\n",
    "<br><br><br>\n",
    "$\n",
    "\\y = \\;\n",
    "\\begin{array} \\\\\n",
    "\\text{Answer:} & \\text{He taught them Machine Learning}\n",
    "\\end{array}\n",
    "$"
   ]
  },
  {
   "cell_type": "markdown",
   "metadata": {
    "slideshow": {
     "slide_type": "subslide"
    }
   },
   "source": [
    "Perhaps, after seeing many such examples, the Decoder \"learns\" a pattern for answering questions of the type\n",
    "\n",
    "> What did Professor `<PROPER NOUN>` teach in the Spring ?\n",
    "\n",
    "Pattern:\n",
    "```\n",
    "<PRONOUN> <VERB> <INIDRECT OBJECT> <OBJECT>\n",
    "```\n",
    "\n",
    "where `<PRONOUN>, <VERB>`, etc. are *pattern place-holders*"
   ]
  },
  {
   "cell_type": "markdown",
   "metadata": {
    "slideshow": {
     "slide_type": "subslide"
    }
   },
   "source": [
    "And perhaps the Encoder \"learns\" to bind concrete values to place-holders\n",
    "\n",
    "<table>\n",
    "    <tr>\n",
    "        <th><center>Answering questions using Attention</center></th>\n",
    "    </tr>\n",
    "    <tr>\n",
    "        <td><img src=\"images/Attention_example_1.png\" width=80%></td>\n",
    "    </tr>\n",
    "</table>"
   ]
  },
  {
   "cell_type": "markdown",
   "metadata": {
    "slideshow": {
     "slide_type": "subslide"
    }
   },
   "source": [
    "Then the control state $\\h_\\tp$ for the Decoder could use Attention\n",
    "to **attend to** the binding for the next place-holder in the output pattern.\n",
    "- Following the pattern it learned\n",
    "- Issuing a \"query\" to lookup the concrete value bound to a place-holder (the \"key\")\n",
    "    - for each element of the pattern\n",
    "    \n",
    "<table>\n",
    "    <tr>\n",
    "        <th><center>Answering questions using Attention</center></th>\n",
    "    </tr>\n",
    "    <tr>\n",
    "        <td><img src=\"images/Attention_example_2.png\" width=80%></td>\n",
    "    </tr>\n",
    "</table>"
   ]
  },
  {
   "cell_type": "markdown",
   "metadata": {
    "slideshow": {
     "slide_type": "subslide"
    }
   },
   "source": [
    "Without Attention, the Decoder's control state $\\h_\\tp$\n",
    "- would have to store the key/value (place-holder/concrete value) associations\n",
    "\n",
    "With Attention\n",
    "- the finite number of Decoder weights could be utilized for other purposes.\n"
   ]
  },
  {
   "cell_type": "markdown",
   "metadata": {
    "slideshow": {
     "slide_type": "slide"
    }
   },
   "source": [
    "## Visualizing Attention\n",
    "\n",
    "Attention is one of the main contributors powering recent advances in Deep Learning\n",
    "- particularly Natural Language Processing"
   ]
  },
  {
   "cell_type": "markdown",
   "metadata": {
    "slideshow": {
     "slide_type": "subslide"
    }
   },
   "source": [
    "To give you a better feel for how it's used, here are some visualizations of Attention.\n",
    "\n",
    "**Entailment: Does the \"hypothesis\" logically follow from the \"premise\"**\n",
    "\n",
    "<br>\n",
    "<center><strong>Attention: Entailment</strong></center>\n",
    "<table>\n",
    "    <tr>\n",
    "        <td><img src=\"images/Attention_visualization_Entailment.png\"></td>\n",
    "    </tr>\n",
    "    <tr>\n",
    "        <td><center>Does the Premise logically entail the Hypothesis.</center></td>\n",
    "    </tr>\n",
    "</table>\n",
    "\n",
    "Attribution: https://arxiv.org/pdf/1509.06664.pdf#page=6\""
   ]
  },
  {
   "cell_type": "markdown",
   "metadata": {
    "slideshow": {
     "slide_type": "subslide"
    }
   },
   "source": [
    "**Date normalization example**\n",
    "- Source: Dates in free-form: \"Saturday 09 May 2018\"\n",
    "- Target: Dates in normalized form: \"2018-05-09\"\n",
    "\n",
    "[link](https://github.com/datalogue/keras-attention#example-visualizations)"
   ]
  },
  {
   "cell_type": "markdown",
   "metadata": {
    "slideshow": {
     "slide_type": "subslide"
    }
   },
   "source": [
    "**Image captioning example**\n",
    "- Source: Image\n",
    "- Target: Caption: \"A woman is throwing a **frisbee** in a park.\"\n",
    "- Attending over *pixels* **not** sequence\n",
    "\n",
    "<center><strong>Visual attention</strong></center>\n",
    "<table>\n",
    "    <tr>\n",
    "        <td><img src=\"images/shat_-002-027.jpg\"></td>\n",
    "        <td><img src=\"images/shat_-002-028.jpg\"></td>\n",
    "    </tr>\n",
    "    <tr>\n",
    "        <td colspan=2><center>A woman is throwing a <strong>frisbee</strong> in a park.</center></td>\n",
    "    </tr>\n",
    "</table>\n",
    "Attribution: https://arxiv.org/pdf/1502.03044.pdf\n"
   ]
  },
  {
   "cell_type": "markdown",
   "metadata": {
    "slideshow": {
     "slide_type": "subslide"
    }
   },
   "source": [
    "## Have we seen this before ?\n",
    "\n",
    "Similarities to the LSTM\n",
    "- LSTM separated *short term* (control) memory from *long term* memory\n",
    "- Created a somewhat complicated mechanism to\n",
    "    - update/change/forget long term memory\n",
    "    - move parts of long term memory to the short-term control memory\n",
    "    \n",
    "Differences\n",
    "- LSTM: attend to $\\c$ (long-term memory)\n",
    "- Attention: attend to *input*\n",
    "    - not latent state\n",
    "- Stacked Attention blocks\n",
    "    - attend to input of *layer*, not raw input of Layer $0$"
   ]
  },
  {
   "cell_type": "markdown",
   "metadata": {
    "slideshow": {
     "slide_type": "slide"
    }
   },
   "source": [
    "# Attend to what's important\n",
    "\n",
    "The solution to over-loading $\\h_\\tp$ with Source context is conceptually straight forward.\n",
    "\n",
    "We condition the Neural Network $D$ on a *context* $\\mathbf{s}$\n",
    "$$\\hat\\y_\\tp = D(\\h_\\tp; \\mathbf{s})$$\n",
    "\n",
    "and compute the value of the necessary context at each step $\\tt$\n",
    "$$\n",
    "\\mathbf{s} = \\c_\\tp\n",
    "$$\n",
    "\n",
    "The context at step $\\tt$ is limited to one of the representations created by the Encoder\n",
    "$$ \\c_\\tp \\in \\{ \\bar{\\h}_{(1)}, \\dots, \\bar{\\h}_{(\\bar{T})} \\} $$\n",
    "and is chosen based on the Decoder state $\\h_\\tp$.\n",
    "\n",
    "Here is the diagram"
   ]
  },
  {
   "cell_type": "markdown",
   "metadata": {
    "slideshow": {
     "slide_type": "subslide"
    }
   },
   "source": [
    "<table>\n",
    "    <tr>\n",
    "        <th><center>Decoder: Attention</center></th>\n",
    "    </tr>\n",
    "    <tr>\n",
    "        <td><img src=\"images/Decoder_attention.png\" width=80%></td>\n",
    "    </tr>\n",
    "</table>"
   ]
  },
  {
   "cell_type": "markdown",
   "metadata": {
    "slideshow": {
     "slide_type": "subslide"
    }
   },
   "source": [
    "The \"Choose\" box is a Context Sensitive Memory (as described in the module on [Neural Programming](Neural_Programming.ipynb#Soft-Lookup))\n",
    "- Like a Python `dict`\n",
    "    - Collection of key/value pairs: $\\langle \\bar\\h_{(\\bar \\tt)}, \\bar\\h_{(\\bar \\tt)} \\rangle$\n",
    "    - Key is equal to value; they are latent states of the Encoder\n",
    "- But with *soft* lookup\n",
    "    - The current Decoder state $\\h_\\tp$ is presented to the CSM \n",
    "        - Called the *query*\n",
    "        - Is matched across each key of the dict (i.e., a latent state $\\bar \\h_{(\\bar \\tt)}$)\n",
    "    - The CSM returns an approximate match of the query to a *key* of the `dict`\n",
    "        - The distance between the query and each key in the CSM is computed\n",
    "        - The Soft Lookup returns a *weighted* (by inverse distance) sum of the *values* in the CSM `dict`"
   ]
  },
  {
   "cell_type": "markdown",
   "metadata": {
    "slideshow": {
     "slide_type": "subslide"
    }
   },
   "source": [
    "Here is a diagram summarizing the Attention mechanism"
   ]
  },
  {
   "cell_type": "markdown",
   "metadata": {
    "slideshow": {
     "slide_type": "subslide"
    }
   },
   "source": [
    "<table>\n",
    "    <tr>\n",
    "        <th><center>Sequence to Sequence: attention</center></th>\n",
    "    </tr>\n",
    "    <tr>\n",
    "        <td><img src=\"images/RNN_seq2seq_attention.png\" width=1000></td>\n",
    "    </tr>\n",
    "</table>"
   ]
  },
  {
   "cell_type": "markdown",
   "metadata": {
    "slideshow": {
     "slide_type": "subslide"
    }
   },
   "source": [
    "## Multi-head attention: two heads are better than one\n",
    "\n",
    "Remember: \n",
    "- The elements of the output sequences are *vectors*: have multiple features\n",
    "\n",
    "We may need to attend to a different Encoder latent state for different output features\n",
    "- May even need to attend to multiple Encoder latent states for a single output feature\n",
    "\n",
    "Rather than having a single \"head\" attending to the latent states, we can have many.\n"
   ]
  },
  {
   "cell_type": "markdown",
   "metadata": {
    "slideshow": {
     "slide_type": "subslide"
    }
   },
   "source": [
    "A \"head\" is similar to the channel dimension of a CNN\n",
    "- Each head (resp., channel) implements the same computation\n",
    "- Using per-head (resp., per channel) weights\n",
    "- Each computing a separate feature"
   ]
  },
  {
   "cell_type": "markdown",
   "metadata": {},
   "source": [
    "Let $d$ denote the length of each Encoder output (and hence, the latent state sizes too)\n",
    "- $|| \\bar\\h_\\tp || = || \\h_\\tp || = d$\n",
    "\n",
    "Since the Encoder outputs are used as the keys and values in the CSM\n",
    "- $d$ is also the length of keys, values and queries"
   ]
  },
  {
   "cell_type": "markdown",
   "metadata": {},
   "source": [
    "When we have $n$ heads\n",
    "- Rather than having one Attention head operating on vectors of length $d$\n",
    "    - producing an output of length $d$ (weighted sum of values in the CSM)\n",
    "- We create $n$ Attention heads operating on vectors (keys, values, queries) of length $d \\over n$.\n",
    "    - Output of these smaller heads are values, and hence also of length $d \\over n$\n",
    "- The final output concatenates these $n$ outputs into a single output of length $d$\n",
    "    - identical in length to the single head\n",
    "- we project each of these length $d$ vector into vectors of length $d \\over n$\n"
   ]
  },
  {
   "cell_type": "markdown",
   "metadata": {
    "slideshow": {
     "slide_type": "subslide"
    }
   },
   "source": [
    "How do we create the shorter length $d \\over n$ vectors ?\n",
    "\n",
    "We use projection matrices of size $(d \\times {d \\over n})$ **for each head** $j$\n",
    "- multiplying each key by matrix $\\W^{(j)}_\\text{key}$\n",
    "- multiplying each value  by matrix $\\W^{(j)}_\\text{value}$\n",
    "- multiplying the original length $d$ query by matrix $\\W^{(j)}_\\text{query}$\n",
    "\n"
   ]
  },
  {
   "cell_type": "markdown",
   "metadata": {
    "slideshow": {
     "slide_type": "subslide"
    }
   },
   "source": [
    "How do we know how to reduce the length $d$ vectors to length $d \\over n$ for head $j$ ?\n",
    "\n",
    "We learn project matrices $\\W^{(j)}_\\text{key}, \\W^{(j)}_\\text{value}, \\W^{(j)}_\\text{query}$ **in training**, for each $j$\n",
    "\n",
    "The \"Choose\" box\n",
    "- Is a Neural Network\n",
    "- With it's own weights\n",
    "- That learns to make the best choice for the Target task !\n",
    "    - It is trained as part of the larger task\n",
    "\n",
    "The \"Choose\" box is implementing Attention and is called an Attention **head**"
   ]
  },
  {
   "cell_type": "markdown",
   "metadata": {
    "slideshow": {
     "slide_type": "subslide"
    }
   },
   "source": [
    "The picture shows $n$ Attention heads.\n",
    "\n",
    "Each head $j$ uniquely transforms the query $\\h_\\tp$ and the key/value pairs $\\bar{\\h}_{(1)} \\ldots \\bar{\\h}_{(\\bar{T})}$ being queried.\n",
    "- into $\\h^{(j)}_\\tp$ and the key/value pairs $\\bar{\\h}^{(j)}_{(1)} \\ldots \\bar{\\h}^{(j)}_{(\\bar{T})}$\n",
    "- Such that each head attends to a separate item\n",
    "\n",
    "<table>\n",
    "    <tr>\n",
    "        <th><center>Decoder Multi-head Attention</center></th>\n",
    "    </tr>\n",
    "    <tr>\n",
    "        <td><img src=\"images/Multihead_attention.png\" width=80%></td>\n",
    "    </tr>\n",
    "</table>"
   ]
  },
  {
   "cell_type": "markdown",
   "metadata": {
    "slideshow": {
     "slide_type": "subslide"
    }
   },
   "source": [
    "Head $j$ \n",
    "- uses query $\\h^{(j)} = \\h * \\W_\\text{query}^{(j)}$\n",
    "- against keys/values $\\bar{\\h}^{(j)} = \\bar{\\h} *  \\W_\\text{value}^{(j)}$\n",
    "\n"
   ]
  },
  {
   "cell_type": "markdown",
   "metadata": {
    "slideshow": {
     "slide_type": "slide"
    }
   },
   "source": [
    "# Self-attention\n",
    "\n",
    "We have illustrated Attention in the context of the Decoder attending to an Encoder.\n",
    "\n",
    "But Attention may be used to relate one element of the *input* sequence to all other elements of the input sequence.\n",
    "\n",
    "This is called *self-attention*"
   ]
  },
  {
   "cell_type": "markdown",
   "metadata": {
    "slideshow": {
     "slide_type": "subslide"
    }
   },
   "source": [
    "To illustrate, suppose we want to generate an embedding of words that is context sensitive.\n",
    "\n",
    "Consider\n",
    "- \"The animal didn't cross the street because **it** was too *tired*\"\n",
    "- \"The animal didn't cross the street because **it** was too *wide*\"\n",
    "\n",
    "The meaning of the word \"it\" in each sentence depends on the context."
   ]
  },
  {
   "cell_type": "markdown",
   "metadata": {
    "slideshow": {
     "slide_type": "subslide"
    }
   },
   "source": [
    "By using a model for word embeddings that uses self-attention  we can differentiate between the two.\n",
    "\n",
    "The thickness of the blue line indicates the attention weight that is given in processing the word \"it\".\n",
    "\n",
    "<img src=https://1.bp.blogspot.com/-AVGK0ApREtk/WaiAuzddKVI/AAAAAAAAB_A/WPV5ropBU-cxrcMpqJBFHg73K9NX4vywwCLcBGAs/s1600/image2.png>"
   ]
  },
  {
   "cell_type": "markdown",
   "metadata": {
    "slideshow": {
     "slide_type": "subslide"
    }
   },
   "source": [
    "Much of the recent advances in NLP may be attributed to these improved, context sensitive embeddings."
   ]
  },
  {
   "cell_type": "markdown",
   "metadata": {
    "slideshow": {
     "slide_type": "subslide"
    }
   },
   "source": [
    "## Masked self-attention\n",
    "\n",
    "Self attention is applied to the *entire* input sequence to determine on which elements to focus.\n",
    "\n",
    "It is almost as if the sequence $\\x$ is treated as an *unordered* set.\n",
    "\n",
    "Sometimes order is important."
   ]
  },
  {
   "cell_type": "markdown",
   "metadata": {
    "slideshow": {
     "slide_type": "subslide"
    }
   },
   "source": [
    "For example, consider a generative model where\n",
    "$$\\x_{(\\tt+1)} = \\y_\\tp$$\n",
    "- That is: input element $(\\tt +1)$ is the $t^{th}$ output\n",
    "- Can't attend to something that hasn't been generated yet !\n",
    "- Causal ordering is important\n",
    "\n",
    "Other times, the fact that $\\x_\\tp$ precedes $\\x_{(\\tt+1)}$ is important."
   ]
  },
  {
   "cell_type": "markdown",
   "metadata": {
    "slideshow": {
     "slide_type": "subslide"
    }
   },
   "source": [
    "The solution to both problems is to pair $\\x_\\tp$ with a *positional encoding* (of $\\tt$)\n",
    "\n",
    "To implement causal ordering for output $\\tt$\n",
    "- mask out all $\\x_{(\\tt')}$ where $\\tt' > \\tt$\n",
    "\n",
    "This is called *masked self-attention*"
   ]
  },
  {
   "cell_type": "markdown",
   "metadata": {
    "slideshow": {
     "slide_type": "subslide"
    }
   },
   "source": [
    "The positional encoding can also be used in problem domains where relative order is important.\n",
    "- The encoding is *non-trivial*"
   ]
  },
  {
   "cell_type": "markdown",
   "metadata": {
    "slideshow": {
     "slide_type": "subslide"
    }
   },
   "source": [
    "## Transformers\n",
    "\n",
    "There is a new model (the Transformer) that processes sequences much faster than RNN's.\n",
    "\n",
    "It is an Encoder/Decoder architecture that uses multiple forms of Attention\n",
    "- Self Attention in the Encoder\n",
    "    - to tell the Encoder the relevant parts of the input sequence $\\x$ to attend to\n",
    "- Decoder/Encoder attention\n",
    "    - to tell the Decoder which Encoder state $\\bar{\\h}_{(\\tt')}$ to attend to when outputting $\\y_\\tp$\n",
    "- Masked Self-Attention in the Decoder\n",
    "    - to prevent the Decoder from looking ahead into inputs that have not yet been generated\n",
    "\n"
   ]
  },
  {
   "cell_type": "markdown",
   "metadata": {
    "slideshow": {
     "slide_type": "slide"
    }
   },
   "source": [
    "# Conclusion\n",
    "\n",
    "We recognized that the Decoder function responsible for generating Decoder output $\\hat{\\y}_\\tp$\n",
    "$$\n",
    "\\hat{\\y}_\\tp = D( \\h_\\tp; \\mathbf{s})\n",
    "$$\n",
    "\n",
    "was quite rigid when it ignored argument $\\mathbf{s}$.\n",
    "\n",
    "This rigidity forced Decoder latent state $\\h_\\tp$ to assume the additional responsibility of including Encoder context.\n",
    "\n",
    "Attention was presented as a way to obtain Encoder context through argument $\\mathbf{s}$."
   ]
  },
  {
   "cell_type": "code",
   "execution_count": 2,
   "metadata": {
    "slideshow": {
     "slide_type": "slide"
    }
   },
   "outputs": [
    {
     "name": "stdout",
     "output_type": "stream",
     "text": [
      "Done\n"
     ]
    }
   ],
   "source": [
    "print(\"Done\")"
   ]
  }
 ],
 "metadata": {
  "celltoolbar": "Slideshow",
  "kernelspec": {
   "display_name": "Python 3",
   "language": "python",
   "name": "python3"
  },
  "language_info": {
   "codemirror_mode": {
    "name": "ipython",
    "version": 3
   },
   "file_extension": ".py",
   "mimetype": "text/x-python",
   "name": "python",
   "nbconvert_exporter": "python",
   "pygments_lexer": "ipython3",
   "version": "3.7.4"
  },
  "toc": {
   "base_numbering": 1,
   "nav_menu": {},
   "number_sections": true,
   "sideBar": true,
   "skip_h1_title": false,
   "title_cell": "Table of Contents",
   "title_sidebar": "Contents",
   "toc_cell": false,
   "toc_position": {
    "height": "calc(100% - 180px)",
    "left": "10px",
    "top": "150px",
    "width": "369.594px"
   },
   "toc_section_display": true,
   "toc_window_display": true
  }
 },
 "nbformat": 4,
 "nbformat_minor": 4
}
