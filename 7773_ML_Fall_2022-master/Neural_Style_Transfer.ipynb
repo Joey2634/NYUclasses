{
 "cells": [
  {
   "cell_type": "code",
   "execution_count": 1,
   "metadata": {
    "slideshow": {
     "slide_type": "notes"
    }
   },
   "outputs": [
    {
     "data": {
      "text/latex": [
       "$$\n",
       "\\newcommand{\\x}{\\mathbf{x}}\n",
       "\\newcommand{\\tx}{\\tilde{\\x}}\n",
       "\\newcommand{\\y}{\\mathbf{y}}\n",
       "\\newcommand{\\b}{\\mathbf{b}}\n",
       "\\newcommand{\\c}{\\mathbf{c}}\n",
       "\\newcommand{\\e}{\\mathbf{e}}\n",
       "\\newcommand{\\z}{\\mathbf{z}}\n",
       "\\newcommand{\\h}{\\mathbf{h}}\n",
       "\\newcommand{\\u}{\\mathbf{u}}\n",
       "\\newcommand{\\v}{\\mathbf{v}}\n",
       "\\newcommand{\\w}{\\mathbf{w}}\n",
       "\\newcommand{\\W}{\\mathbf{W}}\n",
       "\\newcommand{\\X}{\\mathbf{X}}\n",
       "\\newcommand{\\KL}{\\mathbf{KL}}\n",
       "\\newcommand{\\E}{{\\mathbb{E}}}\n",
       "\\newcommand{\\ip}{\\mathbf{{(i)}}}\n",
       "%\n",
       "% Test set\n",
       "\\newcommand{\\xt}{\\underline{\\x}}\n",
       "\\newcommand{\\yt}{\\underline{\\y}}\n",
       "\\newcommand{\\Xt}{\\underline{\\X}}\n",
       "\\newcommand{\\perfm}{\\mathcal{P}}\n",
       "%\n",
       "% \\ll indexes a layer; we can change the actual letter\n",
       "\\newcommand{\\ll}{l}\n",
       "\\newcommand{\\llp}{{(\\ll)}}\n",
       "%\n",
       "\\newcommand{Thetam}{\\Theta_{-0}}\n",
       "\n",
       "% CNN\n",
       "\\newcommand{\\kernel}{\\mathbf{k}} \n",
       "\\newcommand{\\dim}{d}\n",
       "\\newcommand{\\idxspatial}{{\\text{idx}}}\n",
       "\\newcommand{\\summaxact}{\\text{max}}\n",
       "%\n",
       "%\n",
       "\n",
       "% RNN\n",
       "% \\tt indexes a time step\n",
       "\\newcommand{\\tt}{t}\n",
       "\\newcommand{\\tp}{{(\\tt)}}\n",
       "%\n",
       "%\n",
       "\n",
       "% LSTM\n",
       "\\newcommand{\\g}{\\mathbf{g}}\n",
       "\\newcommand{\\remember}{\\mathbf{remember}}\n",
       "\\newcommand{\\save}{\\mathbf{save}}\n",
       "\\newcommand{\\focus}{\\mathbf{focus}}\n",
       "%\n",
       "%\n",
       "% NLP\n",
       "\\newcommand{\\Vocab}{\\mathbf{V}}\n",
       "\\newcommand{\\v}{\\mathbf{v}}\n",
       "\\newcommand{\\offset}{o}\n",
       "\\newcommand{\\o}{o}\n",
       "\\newcommand{\\E}{\\mathbf{E}}\n",
       "%\n",
       "%\n",
       "\\newcommand{\\loss}{\\mathcal{L}}\n",
       "\\newcommand{\\cost}{\\mathcal{L}}\n",
       "%\n",
       "%                     \n",
       "\\newcommand{\\pdata}{p_\\text{data}}\n",
       "\\newcommand{\\pmodel}{p_\\text{model}}\n",
       "%\n",
       "% SVM\n",
       "\\newcommand{\\margin}{{\\mathbb{m}}}\n",
       "\\newcommand{\\lmk}{\\boldsymbol{\\ell}}\n",
       "%\n",
       "% Functions with arguments\n",
       "\\def\\xsy#1#2{#1^#2}\n",
       "\\def\\rand#1{\\tilde{#1}}\n",
       "\\def\\randx{\\rand{\\x}}\n",
       "\\def\\randy{\\rand{\\y}}\n",
       "\\def\\trans#1{\\dot{#1}}\n",
       "\\def\\transx{\\trans{\\x}}\n",
       "\\def\\transy{\\trans{\\y}}\n",
       "%\n",
       "\\def\\argmax#1{\\underset{#1} {\\operatorname{argmax}} }\n",
       "\\def\\argmin#1{\\underset{#1} {\\operatorname{argmin}} }\n",
       "\\def\\max#1{\\underset{#1} {\\operatorname{max}} }\n",
       "\\def\\min#1{\\underset{#1} {\\operatorname{min}} }\n",
       "%\n",
       "\\def\\pr#1{\\mathcal{p}(#1)}\n",
       "\\def\\prc#1#2{\\mathcal{p}(#1 \\; | \\; #2)}\n",
       "\\def\\cnt#1{\\mathcal{count}_{#1}}\n",
       "\\def\\node#1{\\mathbb{#1}}\n",
       "%\n",
       "\\newcommand{\\floor}[1]{\\left\\lfloor #1 \\right\\rfloor}\n",
       "\\newcommand{\\ceil}[1]{\\left\\lceil #1 \\right\\rceil}\n",
       "%\n",
       "\\def\\loc#1{{\\text{##} {#1}}}\n",
       "%\n",
       "$$\n"
      ],
      "text/plain": [
       "<IPython.core.display.Latex object>"
      ]
     },
     "metadata": {},
     "output_type": "display_data"
    }
   ],
   "source": [
    "%run Latex_macros.ipynb"
   ]
  },
  {
   "cell_type": "markdown",
   "metadata": {
    "slideshow": {
     "slide_type": "slide"
    }
   },
   "source": [
    "# Neural Style Transfer: Feature extractor, Training Loop\n",
    "\n",
    "\n",
    "The objective of *Neural Style Transfer*:\n",
    "- Given Content Image $C$\n",
    "- Given Style Image $S$\n",
    "- Create Generated Image $G$ that is the Content image re-drawn in the \"style\" of the Style image\n",
    "\n",
    "<table>\n",
    "    <tr>\n",
    "         <td><center><img src=images/starry_night_crop.jpg width=60%></center></td>\n",
    "        <td><strong>+</strong></td>\n",
    "        <td><center><img src=images/chicago.jpg width=80%></center></td>\n",
    "        <td><strong>=<s/trong></td>\n",
    "        <td><center><img src=images/chicago_starry_night.jpg width=100%></center></td>\n",
    "    </tr>\n",
    "    <tr>\n",
    "        <td><center><strong>Style image S</strong></center></td>\n",
    "        <td></td>\n",
    "        <td><center><strong>Content image C</strong></center></td>\n",
    "        <td></td>\n",
    "        <td><center><strong>Generated image G</strong></center></td>\n",
    "    </tr>\n",
    "</table>\n",
    "\n",
    "We used this example to\n",
    "preview the concept that Deep Learning is all about defining a Loss Function\n",
    "that captures the semantics of the task."
   ]
  },
  {
   "cell_type": "markdown",
   "metadata": {
    "slideshow": {
     "slide_type": "subslide"
    }
   },
   "source": [
    "## Content Loss and Style Loss\n",
    "\n",
    "Neural Style Transfer is solved, like most other Machine Learning tasks, by minimizing a loss\n",
    "\n",
    "$$\n",
    "G = \\argmin{I} \\loss\n",
    "$$\n",
    "- where $I$ is an image.\n",
    "- $\\loss = \\loss_\\text{content} + \\loss_\\text{style}$\n",
    "    - where\n",
    "        - $\\loss_\\text{content}$ measures the dissimilarity of the \"content\" of $G$ and \"content\" f $C$\n",
    "        - $\\loss_\\text{style}$ measures the dissimilarity of  the \"style\" of $G$ and \"style\" of $C$\n",
    "        \n",
    "That is: the \"weights\" we are optimizing are the *pixels of image* $I$."
   ]
  },
  {
   "cell_type": "markdown",
   "metadata": {
    "slideshow": {
     "slide_type": "subslide"
    }
   },
   "source": [
    "How do we measure the dissimilarity of the \"content\" ?\n",
    "\n",
    "We can't just use plain MSE of the pixel-wise differences\n",
    "- $G$ is different than $C$, by definition (the \"styles\" are different)\n",
    "\n",
    "And how do we define what the \"style\" of an image is ?\n",
    "- And how do we measure dissimilarity of the \"style\" ?"
   ]
  },
  {
   "cell_type": "markdown",
   "metadata": {
    "slideshow": {
     "slide_type": "notes"
    }
   },
   "source": [
    "$$\n",
    "\\newcommand{\\ICL}{\\mathbb{C}}\n",
    "\\newcommand{\\GM}{\\mathbb{G}}\n",
    "$$"
   ]
  },
  {
   "cell_type": "markdown",
   "metadata": {
    "slideshow": {
     "slide_type": "subslide"
    }
   },
   "source": [
    "Recall that each layer in a multi-layer Neural Network \n",
    "is creating an *alternate representation* of the input.\n",
    "\n",
    "Rather than directly comparing $G$ with $C$ (and $G$ with $S$) our dissimilarity will be measured\n",
    "- Not on raw images as seen by the human eye\n",
    "- But on their alternate representations as created at some layer of a multi-layer Neural Network\n",
    "\n",
    "We will\n",
    "- Use a pre-trained multi-layer Image Classifier $\\ICL$ (e.g., VGG19)\n",
    "- Define some layer $\\ll_c$ to be the \"content\" layer\n",
    "- Define some layer $\\ll_s$ to be the \"style\" layer\n",
    "- And measure the dissimilarity via the alternate representations created at the respective layers"
   ]
  },
  {
   "cell_type": "markdown",
   "metadata": {
    "slideshow": {
     "slide_type": "subslide"
    }
   },
   "source": [
    "\n",
    "Suppose $\\ICL$ consists of a sequence of CNN Layers\n",
    "\n",
    "Let $\\ICL_\\llp$ denote the set of $n_\\llp$ feature maps produced at layer $\\ll$\n",
    "- Feature map: value of one feature, at each spatial location\n",
    "\n",
    "We choose \n",
    "- One layer $\\ll_c$ of $\\ICL$ and call it the \"content representation\" layer\n",
    "    - Will tend to be shallow: closer to the input\n",
    "    - Features of shallow layers will be more \"syntax\" than \"semantics\"\n",
    "- One layer $\\ll_s$ of $\\ICL$ and call it the \"style representation\" layer\n",
    "  - Will tend to be deep: closer to the output\n",
    "    - Features of deep layers will be more  \"semantics\" than \"syntax\"\n",
    "    "
   ]
  },
  {
   "cell_type": "markdown",
   "metadata": {
    "slideshow": {
     "slide_type": "subslide"
    }
   },
   "source": [
    "For arbitrary image $I$, let\n",
    "- $\\ICL_{(\\ll_c)}(I)$ \n",
    "    - denote the feature maps of the Classifier $\\ICL$, on image $I$,  at the \"content representation\" layer\n",
    "- $\\ICL_{(\\ll_s)}(I)$\n",
    "    - denote the feature maps of the Classifier $\\ICL$, on image $I$, at the \"style representation\" layer"
   ]
  },
  {
   "cell_type": "markdown",
   "metadata": {
    "slideshow": {
     "slide_type": "subslide"
    }
   },
   "source": [
    "We can now define the dissimilarity of the \"content\" of Content Image $C$ and \"content\" of Generated Image $G$\n",
    "- by comparing $\\ICL_{(\\ll_c)}(C)$ and $\\ICL_{(\\ll_c)}(G)$\n",
    "\n",
    "Similarly, we can define the dissimilarity of the \"style\" of Content Image $C$ and \"style\" of Generated Image $G$\n",
    "- by comparing $\\ICL_{(\\ll_s)}(S)$ and $\\ICL_{(\\ll_s)}(G)$"
   ]
  },
  {
   "cell_type": "markdown",
   "metadata": {
    "slideshow": {
     "slide_type": "subslide"
    }
   },
   "source": [
    "For any image $I$: $\\ICL_{(\\ll)}(I)$ consists of $n_\\llp$ feature maps.\n",
    "\n",
    "We need to define what it means to compare  $\\ICL_{(\\ll)}(I)$ and  $\\ICL_{(\\ll)}(I')$.\n",
    "\n",
    "The *Gramm Matrix $\\GM$* of $\\ICL_{(\\ll)}(I)$ \n",
    "- Has shape ($n_\\llp \\times n_\\llp$)\n",
    "- $\\GM_{j,j'}(I) = \\text{correlation}( \\text{flatten}(\\ICL_{(\\ll),j}(I)), \\text{flatten}(\\ICL_{(\\ll),j'}(I)) )$\n",
    "    - the correlation of the feature map $j$ of $\\ICL_{(\\ll)}(I)$ with feature map $j'$ of $\\ICL_{(\\ll)}(I')$\n",
    "    \n",
    "Intuitively, the Gramm Matrix \n",
    "- measures the correlation of the values across pixel locations (flattened feature maps)\n",
    "of two feature maps of image $I$"
   ]
  },
  {
   "cell_type": "markdown",
   "metadata": {
    "slideshow": {
     "slide_type": "subslide"
    }
   },
   "source": [
    "We can now define the dissimilarity of $\\ICL_{(\\ll)}(I)$ and  $\\ICL_{(\\ll)}(I')$\n",
    "- As the MSE of $\\GM(I)$ and $\\GM(I')$\n",
    "\n",
    "\n",
    "\n",
    "Using this dissimilarity measure, we can define the\n",
    "- $\\loss_\\text{content}$ as the dissimilarity of $\\ICL_{(\\ll_c)}(C)$ and  $\\ICL_{(\\ll_c)}(G)$\n",
    "- $\\loss_\\text{style}$ as the dissimilarity of $\\ICL_{(\\ll_s)}(S)$ and  $\\ICL_{(\\ll_c)}(G)$"
   ]
  },
  {
   "cell_type": "markdown",
   "metadata": {
    "slideshow": {
     "slide_type": "subslide"
    }
   },
   "source": [
    "## Gradient ascent: generating $G$\n",
    "\n",
    "We can find image $G$ via Gradient Ascent\n",
    "- Initialize $G$ to noise\n",
    "- Update pixel $G_{i, i', k}$ by $- \\frac{\\partial \\loss}{G_{i, i', k}}$"
   ]
  },
  {
   "cell_type": "markdown",
   "metadata": {
    "slideshow": {
     "slide_type": "subslide"
    }
   },
   "source": [
    "## Feature extractor\n",
    "\n",
    "One key coding trick that we will illustrate\n",
    "- Obtaining the feature maps of the Classifier $\\ICL$, on image $I$,  at an arbitrary layer\n",
    "\n",
    "We will call this tool the *feature extractor*"
   ]
  },
  {
   "cell_type": "markdown",
   "metadata": {
    "slideshow": {
     "slide_type": "subslide"
    }
   },
   "source": [
    "[Here](https://www.tensorflow.org/tutorials/generative/style_transfer) is a tutorial view of the notebook."
   ]
  },
  {
   "cell_type": "code",
   "execution_count": 2,
   "metadata": {
    "slideshow": {
     "slide_type": "slide"
    }
   },
   "outputs": [
    {
     "name": "stdout",
     "output_type": "stream",
     "text": [
      "Done\n"
     ]
    }
   ],
   "source": [
    "print(\"Done\")"
   ]
  }
 ],
 "metadata": {
  "celltoolbar": "Slideshow",
  "kernelspec": {
   "display_name": "Python 3",
   "language": "python",
   "name": "python3"
  },
  "language_info": {
   "codemirror_mode": {
    "name": "ipython",
    "version": 3
   },
   "file_extension": ".py",
   "mimetype": "text/x-python",
   "name": "python",
   "nbconvert_exporter": "python",
   "pygments_lexer": "ipython3",
   "version": "3.7.4"
  },
  "toc": {
   "base_numbering": 1,
   "nav_menu": {},
   "number_sections": true,
   "sideBar": true,
   "skip_h1_title": false,
   "title_cell": "Table of Contents",
   "title_sidebar": "Contents",
   "toc_cell": false,
   "toc_position": {
    "height": "calc(100% - 180px)",
    "left": "10px",
    "top": "150px",
    "width": "369.594px"
   },
   "toc_section_display": true,
   "toc_window_display": true
  }
 },
 "nbformat": 4,
 "nbformat_minor": 2
}
